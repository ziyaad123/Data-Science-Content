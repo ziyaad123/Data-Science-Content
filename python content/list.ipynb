{
 "cells": [
  {
   "cell_type": "markdown",
   "metadata": {},
   "source": [
    "<h1>Lists</h1>\n",
    "<p>Python Lists is the fundamental data structure that allows you to store a collection of items in a specific order and are just like dynamically sized arrays.</p>\n",
    "<ul>\n",
    "<li><b>Ordered:</b> Lists maintain the order of their elements. The first item you add stays at index 0, the second at index 1, and so on.</li>\n",
    "<li><b>Indexable:</b> You can access elements by their index, using square brackets. The first element has index 0, the second index 1, etc.</li>\n",
    "<li><b>Mutable:</b>> Lists can be modified after they are created. You can add, remove, or change elements within a list.</li>\n",
    "<li><b>Heterogeneous:</b> Lists can contain different types of elements. You can mix integers, strings, floats, and even other lists.</li>\n",
    "<li><b>Dynamic:</b> Lists can grow and shrink as needed. You can append elements to a list, remove them, or extend the list with other lists</li>\n",
    "<li><b>Iterable:</b> Lists can be looped through (iterated over), allowing you to perform operations on each element in the list.</li>\n",
    "<li><b>Methods and Functions:</b> Lists have a variety of built-in methods and functions for common operations like append, insert, remove, pop, sort, reverse, index, count, extend, and more.</li>\n"
   ]
  },
  {
   "cell_type": "markdown",
   "metadata": {},
   "source": [
    "<h3>Lists methods</h3>\n",
    "<ol>\n",
    "<li><b>Append:</b> This method adds a single element to the end of a list.</li>\n",
    "<li><b>Insert:</b> With this method, you can insert a new element at a specified position within the list.</li>\n",
    "<li><b>Remove:</b> Using this method, you can remove the first occurrence of a specified element from the list.</li>\n",
    "<li><b>Copy (shallow and deep copy):</b> These methods allow you to create copies of lists. A shallow copy creates a new list object but still refers to the original elements. A deep copy creates a new list as well as new copies of the elements within it.</li>\n",
    "<li><b>Count:</b> This method returns the number of occurrences of a specified element within the list.</li>\n",
    "<li><b>Extend:</b> With this method, you can append elements from another iterable (such as another list) to the end of the current list.</li>\n",
    "<li><b>Index:</b> This method returns the index of the first occurrence of a specified element within the list.</li>\n",
    "<li><b>Sort:</b> Using this method, you can sort the elements of the list in ascending order (by default) or in a specified order.</li>\n",
    "<li><b>Reverse:</b> This method reverses the order of the elements in the list.</li>\n",
    "<li><b>Clear:</b> With this method, you can remove all elements from the list, leaving it empty.</li>\n",
    "<li><b>Pop:</b> This method removes and returns the element at the specified position in the list. If no index is specified, it removes and returns the last element.</li>"
   ]
  },
  {
   "cell_type": "code",
   "execution_count": 12,
   "metadata": {},
   "outputs": [
    {
     "name": "stdout",
     "output_type": "stream",
     "text": [
      "Append: ['apple', 'banana', 'cherry', 'orange']\n",
      "Insert: ['apple', 'grape', 'banana', 'cherry', 'orange']\n",
      "Remove: ['apple', 'grape', 'cherry', 'orange']\n",
      "Shallow Copy: ['lemon', 'grape', 'cherry', 'orange'], Original: ['apple', 'grape', 'cherry', 'orange']\n",
      "Deep Copy: ['kiwi', 'grape', 'cherry', 'orange'], Original: ['apple', 'grape', 'cherry', 'orange']\n",
      "Count of 'apple': 2\n",
      "Extend: ['apple', 'grape', 'cherry', 'orange', 'apple', 'pear', 'pineapple']\n",
      "Index of 'apple': 0\n",
      "Sort: ['apple', 'apple', 'cherry', 'grape', 'orange', 'pear', 'pineapple']\n",
      "Reverse: ['pineapple', 'pear', 'orange', 'grape', 'cherry', 'apple', 'apple']\n",
      "Clear: []\n",
      "Pop: pineapple, Remaining: ['pear']\n"
     ]
    }
   ],
   "source": [
    "# code goes here\n",
    "\n",
    "# Sample list to work with\n",
    "fruits = [\"apple\", \"banana\", \"cherry\"]\n",
    "\n",
    "# Append\n",
    "fruits.append(\"orange\")\n",
    "print(f\"Append: {fruits}\")\n",
    "\n",
    "# Insert\n",
    "fruits.insert(1, \"grape\")\n",
    "print(f\"Insert: {fruits}\")\n",
    "\n",
    "# Remove\n",
    "fruits.remove(\"banana\")\n",
    "print(f\"Remove: {fruits}\")\n",
    "\n",
    "# Copy\n",
    "# Shallow Copy\n",
    "fruits_shallow_copy = fruits.copy()\n",
    "fruits_shallow_copy[0] = \"lemon\"  \n",
    "print(f\"Shallow Copy: {fruits_shallow_copy}, Original: {fruits}\")\n",
    "\n",
    "# Deep Copy\n",
    "import copy\n",
    "fruits_deep_copy = copy.deepcopy(fruits)\n",
    "fruits_deep_copy[0] = \"kiwi\"  \n",
    "print(f\"Deep Copy: {fruits_deep_copy}, Original: {fruits}\")\n",
    "\n",
    "# Count\n",
    "fruits.append(\"apple\")\n",
    "apple_count = fruits.count(\"apple\")\n",
    "print(f\"Count of 'apple': {apple_count}\")\n",
    "\n",
    "# Extend\n",
    "more_fruits = [\"pear\", \"pineapple\"]\n",
    "fruits.extend(more_fruits)\n",
    "print(f\"Extend: {fruits}\")\n",
    "\n",
    "# Index\n",
    "apple_index = fruits.index(\"apple\")\n",
    "print(f\"Index of 'apple': {apple_index}\")\n",
    "\n",
    "# Sort\n",
    "fruits.sort() \n",
    "print(f\"Sort: {fruits}\")\n",
    "\n",
    "# Reverse\n",
    "fruits.reverse()\n",
    "print(f\"Reverse: {fruits}\")\n",
    "\n",
    "# Clear\n",
    "fruits.clear()\n",
    "print(f\"Clear: {fruits}\")\n",
    "\n",
    "#Pop\n",
    "removed_fruit = more_fruits.pop()  \n",
    "print(f\"Pop: {removed_fruit}, Remaining: {more_fruits}\")\n"
   ]
  },
  {
   "cell_type": "markdown",
   "metadata": {},
   "source": [
    "<h3>List Comprehension</h3>\n",
    "<p>List comprehension offers a shorter syntax when you want to create a new list based on the values of an existing list.</p>\n",
    "<p>simple example of list comprehension that generates a list of squares of numbers from 0 to 9:</p>\n",
    "<code>squares = [x ** 2 for x in range(10)]\n",
    "print(squares)\n",
    "</code>\n",
    "<p><b>Output:</b>[0, 1, 4, 9, 16, 25, 36, 49, 64, 81]</p>\n",
    "<p>n this example:</p>\n",
    "<ul>\n",
    "<li>range(10) creates an iterable containing numbers from 0 to 9.</li>\n",
    "<li>x ** 2 is the expression applied to each item in the iterable, squaring each number.</li>\n",
    "<li>for x in range(10) iterates over each element x in the iterable.</li>\n",
    "</ul>\n",
    "<p style='color: skyblue'> <i>The result is a list of squares<i> [0, 1, 4, 9, 16, 25, 36, 49, 64, 81].</p>\n",
    "\n",
    "<p><b>Here's the general syntax of list comprehension:</b></p>\n",
    "<code>new_list = [expression for item in iterable if condition]</code>\n",
    "<ul>\n",
    "<li><i>expression:</i> This is the expression that will be applied to each item in the iterable to generate the elements of the new list.</li>\n",
    "<li><i>item:</i> This represents each element in the iterable over which the for loop iterates.</li>\n",
    "<li><i>iterable:</i> This is the existing iterable (e.g., a list, tuple, or range) from which elements are taken for processing.</li>\n",
    "<li><i>condition (optional):</i> This is an optional filter that determines whether an item should be included in the new list. It's specified using an if clause.</li>\n",
    "</ul>\n"
   ]
  },
  {
   "cell_type": "code",
   "execution_count": 13,
   "metadata": {},
   "outputs": [
    {
     "name": "stdout",
     "output_type": "stream",
     "text": [
      "List of squares: [0, 1, 4, 9, 16, 25, 36, 49, 64, 81]\n",
      "Even numbers: [0, 2, 4, 6, 8, 10, 12, 14, 16, 18]\n",
      "Uppercased words: ['HELLO', 'WORLD', 'PYTHON', 'CODE']\n",
      "Number-Square pairs: [(0, 0), (1, 1), (2, 4), (3, 9), (4, 16), (5, 25), (6, 36), (7, 49), (8, 64), (9, 81)]\n",
      "Flattened list: [1, 2, 3, 4, 5, 6, 7, 8, 9]\n"
     ]
    }
   ],
   "source": [
    "# code goes here\n",
    "#  list of squares for numbers from 0 to 9\n",
    "squares = [x ** 2 for x in range(10)]\n",
    "print(\"List of squares:\", squares)\n",
    "\n",
    "# list of even numbers from 0 to 19\n",
    "even_numbers = [x for x in range(20) if x % 2 == 0]\n",
    "print(\"Even numbers:\", even_numbers)\n",
    "\n",
    "#  list of words to uppercase\n",
    "words = [\"hello\", \"world\", \"python\", \"code\"]\n",
    "uppercased_words = [word.upper() for word in words]\n",
    "print(\"Uppercased words:\", uppercased_words)\n",
    "\n",
    "# list of tuples with numbers and their squares\n",
    "number_square_pairs = [(x, x ** 2) for x in range(10)]\n",
    "print(\"Number-Square pairs:\", number_square_pairs)\n",
    "\n",
    "#  list of lists into a single list\n",
    "nested_list = [[1, 2, 3], [4, 5, 6], [7, 8, 9]]\n",
    "flattened_list = [item for sublist in nested_list for item in sublist]\n",
    "print(\"Flattened list:\", flattened_list)\n",
    "\n"
   ]
  },
  {
   "cell_type": "markdown",
   "metadata": {},
   "source": [
    "<h3>Indexing</h3>\n",
    "<ul>\n",
    "<li><b>Positive Indexing:</b> Accessing elements from the beginning of the list using index values starting from 0.</li>\n",
    "<p>Syntax: <code>list[index]</code></p>\n",
    "<li><b>Negative Indexing:</b> Accessing elements from the end of the list using negative index values.</li>\n",
    "<p>Syntax: <code>list[-index]</code></p>\n",
    "<li><b>Retrieve:</b> Getting the value of an element at a specific index.</li>\n",
    "<p>Syntax: <code>value = list[index]</code></p>\n",
    "<li><b>Update:</b> Changing the value of an element at a specific index.</li>\n",
    "<p>Syntax: <code>list[index] = new_value</code></p>"
   ]
  },
  {
   "cell_type": "code",
   "execution_count": 14,
   "metadata": {},
   "outputs": [
    {
     "name": "stdout",
     "output_type": "stream",
     "text": [
      "First fruit: apple\n",
      "Second fruit: banana\n",
      "Last fruit: elderberry\n",
      "Second last fruit: date\n",
      "Third last fruit: cherry\n",
      "Middle fruit: cherry\n",
      "Updated fruits: ['apple', 'blueberry', 'cherry', 'date', 'elderberry']\n"
     ]
    }
   ],
   "source": [
    "# code goes here \n",
    "# Create a list of fruits\n",
    "fruits = [\"apple\", \"banana\", \"cherry\", \"date\", \"elderberry\"]\n",
    "\n",
    "# Accessing elements using positive indexing\n",
    "first_fruit = fruits[0]  \n",
    "second_fruit = fruits[1] \n",
    "last_fruit = fruits[-1]  \n",
    "print(\"First fruit:\", first_fruit)  \n",
    "print(\"Second fruit:\", second_fruit) \n",
    "print(\"Last fruit:\", last_fruit)  \n",
    "\n",
    "# Accessing elements using negative indexing\n",
    "second_last_fruit = fruits[-2] \n",
    "third_last_fruit = fruits[-3]  \n",
    "print(\"Second last fruit:\", second_last_fruit)  \n",
    "print(\"Third last fruit:\", third_last_fruit)  \n",
    "\n",
    "# Get the value of an element at a specific index\n",
    "middle_fruit = fruits[2]  \n",
    "print(\"Middle fruit:\", middle_fruit)  \n",
    "\n",
    "# Change the value of an element at a specific index\n",
    "fruits[1] = \"blueberry\"  \n",
    "print(\"Updated fruits:\", fruits)  \n"
   ]
  },
  {
   "cell_type": "markdown",
   "metadata": {},
   "source": [
    "<h3>Slicing</h3>\n",
    "<p>Slicing in Python lists allows you to extract a subset of elements by specifying a range of indices</p>\n",
    "<ul>\n",
    "<li><b>Positive Slicing:</b> Selecting a subset of elements from the list starting from the specified index up to (but not including) the specified end index.</li>\n",
    "<p>Syntax: <code>list[start_index:end_index]</code></p>\n",
    "<li><b>Negative Slicing:</b> Selecting elements from the list using negative index values, counting from the end of the list.</li>\n",
    "<p>Syntax: <code>list[start_index:end_index]</code></p>\n",
    "<li><b>Retrieve:</b> Extracting a portion of the list.</li>\n",
    "<p>Syntax: <code>subset = list[start_index:end_index]</code></p>\n",
    "<li><b>Update:</b> Modifying elements within a slice of the list.</li>\n",
    "<p>Syntax: <code>list[start_index:end_index] = new_values</code></p>\n",
    "<li><b>Delete:</b> Removing elements from a slice of the list.</li>\n",
    "<p>Syntax: <code>del list[start_index:end_index]</code></p>\n",
    "<li><b>Insert:</b> Adding elements into a specific position within the list.</li>\n",
    "<p>Syntax: <code>list[start_index:end_index] = new_elements</code></p></ul>"
   ]
  },
  {
   "cell_type": "code",
   "execution_count": 15,
   "metadata": {},
   "outputs": [
    {
     "name": "stdout",
     "output_type": "stream",
     "text": [
      "Positive Slicing: ['banana', 'cherry', 'date']\n",
      "Positive Slicing with Step: ['banana', 'date', 'fig']\n",
      "Negative Slicing: ['elderberry', 'fig', 'grape']\n",
      "Negative Slicing with Reverse: ['fig', 'elderberry', 'date']\n",
      "Retrieve a Portion: ['cherry', 'date', 'elderberry']\n",
      "Update a Slice: ['apple', 'blueberry', 'cranberry', 'date', 'elderberry', 'fig', 'grape']\n",
      "Delete a Slice: ['apple', 'blueberry', 'elderberry', 'fig', 'grape']\n",
      "Insert into a Slice: ['apple', 'kiwi', 'mango', 'blueberry', 'elderberry', 'fig', 'grape']\n"
     ]
    }
   ],
   "source": [
    "# code goes here\n",
    "# Create a list of fruits\n",
    "fruits = [\"apple\", \"banana\", \"cherry\", \"date\", \"elderberry\", \"fig\", \"grape\"]\n",
    "\n",
    "# Slice from index 1 to 4 \n",
    "subset1 = fruits[1:4]  \n",
    "print(\"Positive Slicing:\", subset1)\n",
    "\n",
    "# Slice with a step\n",
    "subset2 = fruits[1:6:2]  \n",
    "print(\"Positive Slicing with Step:\", subset2)\n",
    "\n",
    "# Slice the last three elements\n",
    "subset3 = fruits[-3:] \n",
    "print(\"Negative Slicing:\", subset3)\n",
    "\n",
    "# Slice from the second to last to the fourth to last \n",
    "subset4 = fruits[-2:-5:-1]  \n",
    "print(\"Negative Slicing with Reverse:\", subset4)\n",
    "\n",
    "# Extract a portion of the list\n",
    "middle_subset = fruits[2:5]  \n",
    "print(\"Retrieve a Portion:\", middle_subset)\n",
    "\n",
    "# Update elements within a slice\n",
    "fruits[1:3] = [\"blueberry\", \"cranberry\"]  \n",
    "print(\"Update a Slice:\", fruits)  \n",
    "\n",
    "# Remove elements within a slice\n",
    "del fruits[2:4]  \n",
    "print(\"Delete a Slice:\", fruits)  \n",
    "\n",
    "# Add elements into a specific position\n",
    "fruits[1:1] = [\"kiwi\", \"mango\"]  \n",
    "print(\"Insert into a Slice:\", fruits)  \n"
   ]
  },
  {
   "cell_type": "markdown",
   "metadata": {},
   "source": [
    "<h3>Basic searching and sorting in list</h3>\n",
    "<p><b>Searching:</b>  Involves iterating through the list sequentially to find a specific element.</p>\n",
    "<p><b>Sorting:</b>Python provides a built-in <code>sort()</code> method and the <code>sorted()</code> function to sort lists. By default, they perform ascending sort, but you can customize the sorting order using the reverse parameter or by providing a custom sorting function via the key parameter.</p>\n"
   ]
  },
  {
   "cell_type": "code",
   "execution_count": 16,
   "metadata": {},
   "outputs": [
    {
     "name": "stdout",
     "output_type": "stream",
     "text": [
      "Is 'banana' in the list? True\n",
      "Index of 'banana': 1\n",
      "Found element: date\n"
     ]
    }
   ],
   "source": [
    "#code goes here\n",
    "# Create a list of fruits\n",
    "fruits = [\"apple\", \"banana\", \"cherry\", \"date\", \"elderberry\"]\n",
    "\n",
    "# Checking if an element exists in the list\n",
    "has_banana = \"banana\" in fruits  \n",
    "print(\"Is 'banana' in the list?\", has_banana)\n",
    "\n",
    "# Finding the index of an element\n",
    "banana_index = fruits.index(\"banana\")  \n",
    "print(\"Index of 'banana':\", banana_index)\n",
    "\n",
    "# Iterating through the list to find a specific element\n",
    "element_to_find = \"date\"\n",
    "found_element = None\n",
    "for fruit in fruits:\n",
    "    if fruit == element_to_find:\n",
    "        found_element = fruit\n",
    "        break\n",
    "print(\"Found element:\", found_element)  \n"
   ]
  },
  {
   "cell_type": "markdown",
   "metadata": {},
   "source": [
    "<h3>Special Methods</h3>\n",
    "<ul>\n",
    "<li><b>reduce:</b> Reduce an iterable to a single value by applying a function cumulatively to the items of the iterable.</li>\n",
    "<p>Syntax: <code>functools.reduce(function, iterable[, initializer])</code></p>\n",
    "<li><b>map:</b>  Apply a function to each item in an iterable and return an iterator yielding the results.</li>\n",
    "<p>Syntax: <code>map(function, iterable1[, iterable2, ...])</code></p>\n",
    "<li><b>filter:</b> Construct an iterator from elements of an iterable for which a function returns True.</li>\n",
    "<p>Syntax: <code>filter(function, iterable)</code>\n",
    "<li><b>zip:</b> Make an iterator that aggregates elements from each of the iterables.</li>\n",
    "<p>Syntax: <code>zip(iterable1, iterable2[, iterable3, ...])</code></p>"
   ]
  },
  {
   "cell_type": "code",
   "execution_count": 17,
   "metadata": {},
   "outputs": [
    {
     "name": "stdout",
     "output_type": "stream",
     "text": [
      "Sum using reduce: 15\n",
      "Max value using reduce: 5\n",
      "Squares using map: [1, 4, 9, 16, 25]\n",
      "Uppercased words using map: ['APPLE', 'BANANA', 'CHERRY']\n",
      "Even numbers using filter: [2, 4, 6]\n",
      "Long words using filter: ['banana', 'cherry', 'elderberry']\n",
      "Zipped lists: [('apple', 10), ('banana', 20), ('cherry', 30)]\n",
      "Zipped three lists: [('apple', 'red', 10), ('banana', 'yellow', 20), ('cherry', 'red', 30)]\n"
     ]
    }
   ],
   "source": [
    "# code goes here\n",
    "from functools import reduce\n",
    "\n",
    "# Sum of a list of numbers using reduce\n",
    "numbers = [1, 2, 3, 4, 5]\n",
    "sum_result = reduce(lambda x, y: x + y, numbers)  \n",
    "print(\"Sum using reduce:\", sum_result)\n",
    "\n",
    "# Finding the maximum value in a list using reduce\n",
    "max_result = reduce(lambda x, y: x if x > y else y, numbers)  \n",
    "print(\"Max value using reduce:\", max_result)\n",
    "\n",
    "# Convert a list of numbers to their squares using map\n",
    "squares = list(map(lambda x: x ** 2, [1, 2, 3, 4, 5])) \n",
    "print(\"Squares using map:\", squares)\n",
    "\n",
    "# Convert a list of strings to their uppercase forms\n",
    "words = [\"apple\", \"banana\", \"cherry\"]\n",
    "uppercased = list(map(str.upper, words)) \n",
    "print(\"Uppercased words using map:\", uppercased)\n",
    "\n",
    "# Filter a list to get only even numbers\n",
    "even_numbers = list(filter(lambda x: x % 2 == 0, [1, 2, 3, 4, 5, 6])) \n",
    "print(\"Even numbers using filter:\", even_numbers)\n",
    "\n",
    "# Filter a list to get words with more than 5 letters\n",
    "long_words = list(filter(lambda word: len(word) > 5, [\"apple\", \"banana\", \"cherry\", \"date\", \"elderberry\"])) \n",
    "print(\"Long words using filter:\", long_words)\n",
    "\n",
    "# Zip two lists to create pairs of elements\n",
    "fruits = [\"apple\", \"banana\", \"cherry\"]\n",
    "quantities = [10, 20, 30]\n",
    "fruit_quantities = list(zip(fruits, quantities))  \n",
    "print(\"Zipped lists:\", fruit_quantities)\n",
    "\n",
    "# Zip three lists\n",
    "colors = [\"red\", \"yellow\", \"red\"]\n",
    "fruit_colors_quantities = list(zip(fruits, colors, quantities)) \n",
    "print(\"Zipped three lists:\", fruit_colors_quantities)\n"
   ]
  },
  {
   "cell_type": "markdown",
   "metadata": {},
   "source": [
    "## Practice Questions"
   ]
  },
  {
   "cell_type": "code",
   "execution_count": 18,
   "metadata": {},
   "outputs": [
    {
     "name": "stdout",
     "output_type": "stream",
     "text": [
      "Q1.1 - After appending 'fig': ['apple', 'banana', 'cherry', 'date', 'elderberry', 'fig']\n",
      "Q1.2 - After inserting 'grape' at index 1: ['apple', 'grape', 'banana', 'cherry', 'date', 'elderberry', 'fig']\n",
      "Q1.3 - After removing 'banana': ['apple', 'grape', 'cherry', 'date', 'elderberry', 'fig']\n",
      "Q1.4 - First and last fruit: apple fig\n"
     ]
    }
   ],
   "source": [
    "#Here there are some practice questions \n",
    "# List for Practice\n",
    "fruits = [\"apple\", \"banana\", \"cherry\", \"date\", \"elderberry\"]\n",
    "\n",
    "# Q1: Basic Operations with Lists\n",
    "# Add a new fruit \"fig\" to the end of the list\n",
    "fruits.append(\"fig\")\n",
    "print(\"Q1.1 - After appending 'fig':\", fruits)\n",
    "\n",
    "# Insert \"grape\" at the 2nd position (index 1)\n",
    "fruits.insert(1, \"grape\")\n",
    "print(\"Q1.2 - After inserting 'grape' at index 1:\", fruits)\n",
    "\n",
    "# Remove the first occurrence of \"banana\"\n",
    "fruits.remove(\"banana\")\n",
    "print(\"Q1.3 - After removing 'banana':\", fruits)\n",
    "\n",
    "# Return the first and last element of the list\n",
    "first_fruit = fruits[0]\n",
    "last_fruit = fruits[-1]\n",
    "print(\"Q1.4 - First and last fruit:\", first_fruit, last_fruit)"
   ]
  },
  {
   "cell_type": "code",
   "execution_count": 19,
   "metadata": {},
   "outputs": [
    {
     "name": "stdout",
     "output_type": "stream",
     "text": [
      "Q2.1 - Third fruit: cherry\n",
      "Q2.2 - First three fruits: ['apple', 'grape', 'cherry']\n",
      "Q2.3 - Last two fruits: ['elderberry', 'fig']\n",
      "Q2.4 - After updating the second fruit: ['apple', 'blueberry', 'cherry', 'date', 'elderberry', 'fig']\n"
     ]
    }
   ],
   "source": [
    "\n",
    "# Q2: Indexing and Slicing\n",
    "# Get the third fruit from the list\n",
    "third_fruit = fruits[2]\n",
    "print(\"Q2.1 - Third fruit:\", third_fruit)\n",
    "\n",
    "# Retrieve a slice containing the first three fruits\n",
    "first_three_fruits = fruits[:3]\n",
    "print(\"Q2.2 - First three fruits:\", first_three_fruits)\n",
    "\n",
    "# Retrieve a slice containing the last two fruits using negative indexing\n",
    "last_two_fruits = fruits[-2:]\n",
    "print(\"Q2.3 - Last two fruits:\", last_two_fruits)\n",
    "\n",
    "# Update the second fruit to \"blueberry\"\n",
    "fruits[1] = \"blueberry\"\n",
    "print(\"Q2.4 - After updating the second fruit:\", fruits)"
   ]
  },
  {
   "cell_type": "code",
   "execution_count": 20,
   "metadata": {},
   "outputs": [
    {
     "name": "stdout",
     "output_type": "stream",
     "text": [
      "Q3.1 - After appending 6: [1, 2, 3, 4, 5, 6]\n",
      "Q3.2 - After inserting 0 at the beginning: [0, 1, 2, 3, 4, 5, 6]\n",
      "Q3.3 - Last element popped: 6 Remaining list: [0, 1, 2, 3, 4, 5]\n",
      "Q3.4 - Count of '2': 1\n",
      "Q3.5 - Index of '3': 3\n",
      "Q3.6 - After reversing: [5, 4, 3, 2, 1, 0]\n"
     ]
    }
   ],
   "source": [
    "# Q3: List Methods and Functions\n",
    "numbers = [1, 2, 3, 4, 5]\n",
    "\n",
    "# Append the number 6 to the list\n",
    "numbers.append(6)\n",
    "print(\"Q3.1 - After appending 6:\", numbers)\n",
    "\n",
    "# Insert the number 0 at the beginning of the list\n",
    "numbers.insert(0, 0)\n",
    "print(\"Q3.2 - After inserting 0 at the beginning:\", numbers)\n",
    "\n",
    "# Remove and return the last element from the list\n",
    "last_element = numbers.pop()\n",
    "print(\"Q3.3 - Last element popped:\", last_element, \"Remaining list:\", numbers)\n",
    "\n",
    "# Return the count of occurrences of the number 2\n",
    "count_2 = numbers.count(2)\n",
    "print(\"Q3.4 - Count of '2':\", count_2)\n",
    "\n",
    "# Return the index of the number 3\n",
    "index_3 = numbers.index(3)\n",
    "print(\"Q3.5 - Index of '3':\", index_3)\n",
    "\n",
    "# Reverse the order of the list\n",
    "numbers.reverse()\n",
    "print(\"Q3.6 - After reversing:\", numbers)"
   ]
  },
  {
   "cell_type": "code",
   "execution_count": 21,
   "metadata": {},
   "outputs": [
    {
     "name": "stdout",
     "output_type": "stream",
     "text": [
      "Q4.1 - Even numbers: [0, 2, 4, 6, 8, 10, 12, 14, 16, 18, 20]\n",
      "Q4.2 - Squares from 1 to 10: [1, 4, 9, 16, 25, 36, 49, 64, 81, 100]\n",
      "Q4.3 - Uppercased words: ['HELLO', 'WORLD', 'PYTHON', 'LISTS']\n",
      "Q4.4 - Flattened list from nested list: [1, 2, 3, 4, 5, 6]\n"
     ]
    }
   ],
   "source": [
    "# Q4: List Comprehensions\n",
    "# Create a list of even numbers from 0 to 20\n",
    "even_numbers = [x for x in range(21) if x % 2 == 0]\n",
    "print(\"Q4.1 - Even numbers:\", even_numbers)\n",
    "\n",
    "# Create a list of squares of numbers from 1 to 10\n",
    "squares = [x ** 2 for x in range(1, 11)]\n",
    "print(\"Q4.2 - Squares from 1 to 10:\", squares)\n",
    "\n",
    "# Create a list of uppercase words from a list\n",
    "words = [\"hello\", \"world\", \"python\", \"lists\"]\n",
    "uppercased = [word.upper() for word in words]\n",
    "print(\"Q4.3 - Uppercased words:\", uppercased)\n",
    "\n",
    "# Create a flattened list from a nested list\n",
    "nested = [[1, 2], [3, 4], [5, 6]]\n",
    "flattened = [item for sublist in nested for item in sublist]\n",
    "print(\"Q4.4 - Flattened list from nested list:\", flattened)"
   ]
  },
  {
   "cell_type": "code",
   "execution_count": 22,
   "metadata": {},
   "outputs": [
    {
     "name": "stdout",
     "output_type": "stream",
     "text": [
      "Q5.1 - Is 'cherry' in the list? True\n",
      "Q5.2 - Index of 'date': 3\n",
      "Q5.3 - Fruits sorted in ascending order: ['apple', 'blueberry', 'cherry', 'date', 'elderberry', 'fig']\n",
      "Q5.4 - Fruits sorted in descending order: ['fig', 'elderberry', 'date', 'cherry', 'blueberry', 'apple']\n"
     ]
    }
   ],
   "source": [
    "# Q5: Searching and Sorting\n",
    "# Check if \"cherry\" is in the list of fruits\n",
    "has_cherry = \"cherry\" in fruits\n",
    "print(\"Q5.1 - Is 'cherry' in the list?\", has_cherry)\n",
    "\n",
    "# Find the index of \"date\" in the list\n",
    "date_index = fruits.index(\"date\")\n",
    "print(\"Q5.2 - Index of 'date':\", date_index)\n",
    "\n",
    "# Sort the list of fruits in ascending order\n",
    "fruits.sort()\n",
    "print(\"Q5.3 - Fruits sorted in ascending order:\", fruits)\n",
    "\n",
    "# Sort the list of fruits in descending order\n",
    "fruits.sort(reverse=True)\n",
    "print(\"Q5.4 - Fruits sorted in descending order:\", fruits)"
   ]
  },
  {
   "cell_type": "code",
   "execution_count": 23,
   "metadata": {},
   "outputs": [
    {
     "name": "stdout",
     "output_type": "stream",
     "text": [
      "Q6.1 - Sum of numbers using reduce: 15\n",
      "Q6.2 - Cubes of numbers using map: [1, 8, 27, 64, 125]\n",
      "Q6.3 - Even numbers using filter: [2, 4]\n",
      "Q6.4 - Zipped names and scores: [('Alice', 95), ('Bob', 87), ('Charlie', 92)]\n"
     ]
    }
   ],
   "source": [
    "# Q6: Special Methods\n",
    "from functools import reduce\n",
    "\n",
    "# Calculate the sum of the list using `reduce`\n",
    "numbers = [1, 2, 3, 4, 5]\n",
    "total_sum = reduce(lambda x, y: x + y, numbers)\n",
    "print(\"Q6.1 - Sum of numbers using reduce:\", total_sum)\n",
    "\n",
    "# Create a list of cubes of numbers using `map`\n",
    "cubes = list(map(lambda x: x ** 3, numbers))\n",
    "print(\"Q6.2 - Cubes of numbers using map:\", cubes)\n",
    "\n",
    "# Filter out the odd numbers from a list\n",
    "even_only = list(filter(lambda x: x % 2 == 0, numbers))\n",
    "print(\"Q6.3 - Even numbers using filter:\", even_only)\n",
    "\n",
    "# Zip two lists to create pairs of names and scores\n",
    "names = [\"Alice\", \"Bob\", \"Charlie\"]\n",
    "scores = [95, 87, 92]\n",
    "name_score_pairs = list(zip(names, scores))\n",
    "print(\"Q6.4 - Zipped names and scores:\", name_score_pairs)\n",
    "\n"
   ]
  }
 ],
 "metadata": {
  "kernelspec": {
   "display_name": "Python 3",
   "language": "python",
   "name": "python3"
  },
  "language_info": {
   "codemirror_mode": {
    "name": "ipython",
    "version": 3
   },
   "file_extension": ".py",
   "mimetype": "text/x-python",
   "name": "python",
   "nbconvert_exporter": "python",
   "pygments_lexer": "ipython3",
   "version": "3.11.4"
  }
 },
 "nbformat": 4,
 "nbformat_minor": 2
}
