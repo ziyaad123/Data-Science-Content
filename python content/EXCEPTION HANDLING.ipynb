{
 "cells": [
  {
   "cell_type": "markdown",
   "metadata": {},
   "source": [
    " # EXCEPTION HANDLING\n",
    "\n",
    "In Python, an exception is an error that disrupts the normal flow of a program's execution. Error in Python can be of two types i.e. Syntax errors and Exceptions. Errors are problems in a program due to which the program will stop the execution. On the other hand, exceptions are raised when some internal events occur which change the normal flow of the program.\n",
    "##  What is exception?\n",
    " An exception in Python is an object that represents an error or unusual condition that has occurred during the execution of a program. It disrupts the normal flow of program execution and typically contains information about the type of error, the location where it occurred, and any relevant context.\n",
    "\n",
    "## Why Exception Handling is important?\n",
    "Exception handling is important in programming because it helps prevent programs from crashing when unexpected errors occur. Instead of abruptly stopping, a program can handle errors gracefully, continuing to run smoothly. This is vital for ensuring that applications remain stable and reliable, especially in production environments where downtime can be costly.\n",
    "\n",
    "When errors do occur, exception handling provides valuable information for debugging and troubleshooting. By catching and handling exceptions, developers can quickly identify and address issues, improving the overall stability and performance of their code.\n",
    "\n"
   ]
  },
  {
   "cell_type": "markdown",
   "metadata": {},
   "source": [
    "## Basics of Exception Handling\n"
   ]
  },
  {
   "cell_type": "markdown",
   "metadata": {},
   "source": [
    "### Introduction\n",
    "Exception Handling is an essential concept in programming that allows you to handle errors or exceptional situations that may occur during the execution of your code. In Python, this is done using **TRY and EXCEPT** blocks."
   ]
  },
  {
   "cell_type": "markdown",
   "metadata": {},
   "source": [
    "### Syntax of try and except blocks\n",
    "The basic syntax for handling exceptions in Python involves the use of a try block followed by one or more except blocks."
   ]
  },
  {
   "cell_type": "code",
   "execution_count": null,
   "metadata": {},
   "outputs": [],
   "source": [
    "'''\n",
    "try:\n",
    "    # Code that might raise an exception\n",
    "    # ...\n",
    "except ExceptionType1:\n",
    "    # Code to handle ExceptionType1\n",
    "    # ...\n",
    "'''"
   ]
  },
  {
   "cell_type": "markdown",
   "metadata": {},
   "source": [
    "For **example**, let's say you want to divide two numbers:"
   ]
  },
  {
   "cell_type": "code",
   "execution_count": null,
   "metadata": {},
   "outputs": [],
   "source": [
    "try:\n",
    "    x = 10\n",
    "    y = 0\n",
    "    result = x / y\n",
    "    print(result)\n",
    "except ZeroDivisionError:\n",
    "    print(\"Error: Cannot divide by zero!\")"
   ]
  },
  {
   "cell_type": "markdown",
   "metadata": {},
   "source": [
    "### Handling multiple exceptions\n",
    "\n",
    "In Python, you can handle multiple exceptions in a single try block by using separate except blocks for each exception type. Alternatively, you can use a single except block to catch multiple exception types."
   ]
  },
  {
   "cell_type": "code",
   "execution_count": null,
   "metadata": {},
   "outputs": [],
   "source": [
    "'''\n",
    "try:\n",
    "    # Code that might raise an exception\n",
    "    # ...\n",
    "except (ExceptionType1, ExceptionType2):\n",
    "    # Code to handle ExceptionType1 and ExceptionType2\n",
    "    # ...\n",
    "except ExceptionType3:\n",
    "    # Code to handle ExceptionType3\n",
    "    # ...\n",
    "'''"
   ]
  },
  {
   "cell_type": "markdown",
   "metadata": {},
   "source": [
    "For example , when we wish to divide two numbers"
   ]
  },
  {
   "cell_type": "code",
   "execution_count": null,
   "metadata": {},
   "outputs": [],
   "source": [
    "try:\n",
    "    x = 10\n",
    "    y = 0\n",
    "    result = x / y  # This will raise a ZeroDivisionError\n",
    "    print(result)\n",
    "\n",
    "except ZeroDivisionError:\n",
    "    print(\"Error: Cannot divide by zero!\")\n",
    "\n",
    "except ValueError:\n",
    "    print(\"Error: Invalid value!\")"
   ]
  },
  {
   "cell_type": "markdown",
   "metadata": {},
   "source": [
    "### Using else and finally blocks\n",
    "Python also provides optional else and finally blocks that can be used in conjunction with try and except blocks."
   ]
  },
  {
   "cell_type": "markdown",
   "metadata": {},
   "source": [
    "**The else block**:\n",
    "\n",
    "- The else block is executed if no exceptions are raised in the try block.\n",
    "- It's typically used for code that should be executed only when the try block completes successfully."
   ]
  },
  {
   "cell_type": "code",
   "execution_count": null,
   "metadata": {},
   "outputs": [],
   "source": [
    "'''\n",
    "try:\n",
    "    # Code that might raise an exception\n",
    "    # ...\n",
    "except ExceptionType:\n",
    "    # Code to handle the exception\n",
    "    # ...\n",
    "else:\n",
    "    # Code to be executed if no exceptions are raised\n",
    "    # ...\n",
    "'''"
   ]
  },
  {
   "cell_type": "markdown",
   "metadata": {},
   "source": [
    "**The finally block**:\n",
    "\n",
    "- The finally block is always executed, regardless of whether an exception was raised or not.\n",
    "- It's commonly used for cleanup operations, such as closing files or releasing resources."
   ]
  },
  {
   "cell_type": "code",
   "execution_count": null,
   "metadata": {},
   "outputs": [],
   "source": [
    "'''\n",
    "try:\n",
    "    # Code that might raise an exception\n",
    "    # ...\n",
    "except ExceptionType:\n",
    "    # Code to handle the exception\n",
    "    # ...\n",
    "finally:\n",
    "    # Code to be executed regardless of exceptions\n",
    "    # ...\n",
    "'''"
   ]
  },
  {
   "cell_type": "markdown",
   "metadata": {},
   "source": [
    "Here's an example that combines all these concepts:"
   ]
  },
  {
   "cell_type": "code",
   "execution_count": null,
   "metadata": {},
   "outputs": [],
   "source": [
    "try:\n",
    "    file = open(\"example.txt\", \"r\")\n",
    "    content = file.read()\n",
    "    print(content)\n",
    "except FileNotFoundError:\n",
    "    print(\"Error: File not found.\")\n",
    "except IOError:\n",
    "    print(\"Error: An I/O error occurred.\")\n",
    "else:\n",
    "    print(\"File read successfully.\")\n",
    "finally:\n",
    "    file.close()\n",
    "    print(\"File closed.\")"
   ]
  },
  {
   "cell_type": "markdown",
   "metadata": {},
   "source": [
    "# Common Built-in Exceptions\n"
   ]
  },
  {
   "cell_type": "markdown",
   "metadata": {},
   "source": [
    "### Introduction\n",
    "Python provides several built-in exceptions to handle various types of errors that can occur during program execution"
   ]
  },
  {
   "cell_type": "markdown",
   "metadata": {},
   "source": [
    "### Syntax Error\n",
    "A SyntaxError is raised when Python encounters code that violates the language's syntax rules. This can happen due to mistakes such as incorrect indentation, invalid syntax, or missing colons or parentheses.\n",
    "\n",
    "For example:"
   ]
  },
  {
   "cell_type": "markdown",
   "metadata": {},
   "source": []
  },
  {
   "cell_type": "code",
   "execution_count": null,
   "metadata": {},
   "outputs": [],
   "source": [
    "try:\n",
    "    # Code that causes a SyntaxError\n",
    "    if x == 5:\n",
    "        print(\"x is equal to 5\")\n",
    "        # Missing colon after the if statement\n",
    "except SyntaxError:\n",
    "    print(\"SyntaxError occurred\")"
   ]
  },
  {
   "cell_type": "markdown",
   "metadata": {},
   "source": [
    "### IndentationError\n",
    "An IndentationError occurs when there is an incorrect indentation in the code. Python uses indentation to define code blocks, so proper indentation is crucial.\n",
    "\n",
    "For example:"
   ]
  },
  {
   "cell_type": "code",
   "execution_count": null,
   "metadata": {},
   "outputs": [],
   "source": [
    "try:\n",
    "    # Code with incorrect indentation\n",
    "    def my_function():\n",
    "        print(\"Inside function\")\n",
    "         print(\"This line is incorrectly indented\")  # Extra space\n",
    "except IndentationError:\n",
    "    print(\"IndentationError occurred\")"
   ]
  },
  {
   "cell_type": "markdown",
   "metadata": {},
   "source": [
    "### NameError\n",
    "A NameError is raised when Python encounters an undefined or unassigned variable or function name.\n",
    "\n",
    "For example:"
   ]
  },
  {
   "cell_type": "code",
   "execution_count": null,
   "metadata": {},
   "outputs": [],
   "source": [
    "try:\n",
    "    # Code that references an undefined name\n",
    "    print(x)  # x is not defined\n",
    "except NameError:\n",
    "    print(\"NameError occurred\")"
   ]
  },
  {
   "cell_type": "markdown",
   "metadata": {},
   "source": [
    "### TypeError\n",
    "A TypeError is raised when an operation or function is applied to an object of an inappropriate type.\n",
    "\n",
    "For example:"
   ]
  },
  {
   "cell_type": "code",
   "execution_count": null,
   "metadata": {},
   "outputs": [],
   "source": [
    "try:\n",
    "    # Code that performs an operation on incompatible types\n",
    "    x = \"hello\"\n",
    "    y = 5\n",
    "    print(x + y)  # Cannot concatenate a string and an integer\n",
    "except TypeError:\n",
    "    print(\"TypeError occurred\")"
   ]
  },
  {
   "cell_type": "markdown",
   "metadata": {},
   "source": [
    "### ValueError\n",
    "A ValueError is raised when a function receives an argument of the correct type but an inappropriate value."
   ]
  },
  {
   "cell_type": "code",
   "execution_count": null,
   "metadata": {},
   "outputs": [],
   "source": [
    "try:\n",
    "    # Code that passes an invalid value to a function\n",
    "    int(\"hello\")  # The string \"hello\" cannot be converted to an integer\n",
    "except ValueError:\n",
    "    print(\"ValueError occurred\")"
   ]
  },
  {
   "cell_type": "markdown",
   "metadata": {},
   "source": [
    "### ZeroDivisionError\n",
    "A ZeroDivisionError is raised when an attempt is made to divide a number by zero.\n",
    "\n",
    "For example:"
   ]
  },
  {
   "cell_type": "code",
   "execution_count": null,
   "metadata": {},
   "outputs": [],
   "source": [
    "try:\n",
    "    # Code that attempts to divide by zero\n",
    "    x = 10\n",
    "    y = 0\n",
    "    result = x / y  # Division by zero is not allowed\n",
    "except ZeroDivisionError:\n",
    "    print(\"ZeroDivisionError occurred\")"
   ]
  },
  {
   "cell_type": "markdown",
   "metadata": {},
   "source": [
    "### Custom Exceptions (Brief Introduction)\n",
    "In addition to the built-in exceptions, Python allows you to define your own custom exceptions by creating new exception classes. Custom exceptions can be useful when you need to handle specific error conditions in your code that are not covered by the built-in exceptions.\n",
    "\n",
    "Syntax:"
   ]
  },
  {
   "cell_type": "code",
   "execution_count": null,
   "metadata": {},
   "outputs": [],
   "source": [
    "\"\"\"\n",
    "class CustomExceptionName(Exception):\n",
    "    '''Docstring describing the exception'''\n",
    "    pass\n",
    "\n",
    "try:\n",
    "    # Code that raises the custom exception\n",
    "except CustomExceptionName:\n",
    "    # Handle the custom exception\n",
    "\"\"\""
   ]
  },
  {
   "cell_type": "markdown",
   "metadata": {},
   "source": [
    "Example:"
   ]
  },
  {
   "cell_type": "code",
   "execution_count": null,
   "metadata": {},
   "outputs": [],
   "source": [
    "class InvalidAgeError(Exception):\n",
    "    \"\"\"Raised when the input age is invalid\"\"\"\n",
    "    pass\n",
    "\n",
    "def validate_age(age):\n",
    "    if age < 0:\n",
    "        raise InvalidAgeError(\"Age cannot be negative\")\n",
    "    elif age > 120:\n",
    "        raise InvalidAgeError(\"Age cannot be greater than 120\")\n",
    "    else:\n",
    "        print(\"Valid age\")\n",
    "\n",
    "try:\n",
    "    validate_age(-5)\n",
    "except InvalidAgeError:\n",
    "    print(\"Invalid age provided\")"
   ]
  },
  {
   "cell_type": "markdown",
   "metadata": {},
   "source": [
    "In this example, we define a custom exception class **InvalidAgeError** that inherits from the base **Exceptio**n class. We then create a function **validate_age** that raises this custom exception if the input age is invalid (negative or greater than 120). By using a custom exception, we can provide more specific error messages and handle these exceptional cases more effectively."
   ]
  },
  {
   "cell_type": "markdown",
   "metadata": {},
   "source": [
    "## Using except with specific exception\n",
    "\n",
    "The except statement is used to catch and handle specific exceptions that may occur within a try block. This allows you to gracefully handle errors and prevent your program from crashing.\n",
    "\n",
    "Syntax:"
   ]
  },
  {
   "cell_type": "code",
   "execution_count": null,
   "metadata": {},
   "outputs": [],
   "source": [
    "\"\"\"\n",
    "try:\n",
    "    # Code that might raise an exception\n",
    "    # ...\n",
    "except SpecificExceptionType:\n",
    "    # Handle the SpecificExceptionType\n",
    "    # ...\n",
    "\"\"\""
   ]
  },
  {
   "cell_type": "markdown",
   "metadata": {},
   "source": [
    "Example: Handling a single exception"
   ]
  },
  {
   "cell_type": "code",
   "execution_count": null,
   "metadata": {},
   "outputs": [],
   "source": [
    "\n",
    "try:\n",
    "    x = 10 / 0  # This will raise a ZeroDivisionError\n",
    "except ZeroDivisionError:\n",
    "    print(\"Can't divide by zero!\")\n",
    "\n",
    "#Output:Can't divide by zero!"
   ]
  },
  {
   "cell_type": "markdown",
   "metadata": {},
   "source": [
    "You can also handle multiple exception types in a single except block using parentheses and separating the exception types with commas:\n"
   ]
  },
  {
   "cell_type": "markdown",
   "metadata": {},
   "source": [
    "Syntax:"
   ]
  },
  {
   "cell_type": "code",
   "execution_count": null,
   "metadata": {},
   "outputs": [],
   "source": [
    "\"\"\"\n",
    "try:\n",
    "    # Code that might raise an exception\n",
    "    # ...\n",
    "except (ExceptionType1, ExceptionType2, ...):\n",
    "    # Handle ExceptionType1, ExceptionType2, etc.\n",
    "    # ...\n",
    "\"\"\""
   ]
  },
  {
   "cell_type": "markdown",
   "metadata": {},
   "source": [
    "Alternatively, you can handle different exceptions with separate except blocks"
   ]
  },
  {
   "cell_type": "code",
   "execution_count": null,
   "metadata": {},
   "outputs": [],
   "source": [
    "\"\"\"\n",
    "try:\n",
    "    # Code that might raise an exception\n",
    "    # ...\n",
    "except ExceptionType1:\n",
    "    # Handle ExceptionType1\n",
    "    # ...\n",
    "except ExceptionType2:\n",
    "    # Handle ExceptionType2\n",
    "    # ...\n",
    "\"\"\""
   ]
  },
  {
   "cell_type": "markdown",
   "metadata": {},
   "source": [
    "Example 2: Handling multiple exceptions"
   ]
  },
  {
   "cell_type": "code",
   "execution_count": null,
   "metadata": {},
   "outputs": [],
   "source": [
    "try:\n",
    "    x = int(input(\"Enter a number: \"))\n",
    "    y = 10 / x\n",
    "except ValueError:\n",
    "    print(\"Invalid input! Please enter a number.\")\n",
    "except ZeroDivisionError:\n",
    "    print(\"Can't divide by zero!\")\n",
    "else:\n",
    "    print(f\"Result: {y}\")\n",
    "\n",
    "\n",
    "''' \n",
    "Enter a number: zero\n",
    "Invalid input! Please enter a number.\n",
    "\n",
    "Enter a number: 0\n",
    "Can't divide by zero!\n",
    "'''"
   ]
  },
  {
   "cell_type": "markdown",
   "metadata": {},
   "source": [
    "## Using as to get exception details\n",
    "In Python, the as keyword is used in exception handling to assign the exception instance to a variable. This variable serves as a reference to the exception object, allowing developers to access information about the exception for further processing or analysis."
   ]
  },
  {
   "cell_type": "markdown",
   "metadata": {},
   "source": [
    "Syntax:"
   ]
  },
  {
   "cell_type": "code",
   "execution_count": null,
   "metadata": {},
   "outputs": [],
   "source": [
    "'''\n",
    "try:\n",
    "    # Code that might raise an exception\n",
    "    # ...\n",
    "except ExceptionType as variable:\n",
    "    # Handle the exception and access exception details using the variable\n",
    "    # ...\n",
    "'''"
   ]
  },
  {
   "cell_type": "markdown",
   "metadata": {},
   "source": [
    "Example: "
   ]
  },
  {
   "cell_type": "code",
   "execution_count": null,
   "metadata": {},
   "outputs": [],
   "source": [
    "try:\n",
    "    # Code that might raise an exception\n",
    "    result = 10 / 0\n",
    "except ZeroDivisionError as e:\n",
    "    # Handle the ZeroDivisionError and access exception details\n",
    "    print(\"Error:\", e)  # Print the exception message\n",
    "    print(\"Type:\", type(e))  # Print the exception type\n",
    "    print(\"Details:\", e.args)  # Print additional details about the exception\n",
    "\n"
   ]
  },
  {
   "cell_type": "markdown",
   "metadata": {},
   "source": [
    "EXPLANATION:\n",
    "The try block attempts to perform a division by zero, which raises a ZeroDivisionError.\n",
    "The except block catches the ZeroDivisionError exception and assigns it to the variable e.\n",
    "The variable e is then used to access information about the exception, such as its message, type, and additional details"
   ]
  },
  {
   "cell_type": "markdown",
   "metadata": {},
   "source": [
    "You can also handle multiple exception types in a single except block:"
   ]
  },
  {
   "cell_type": "markdown",
   "metadata": {},
   "source": [
    "Syntax:"
   ]
  },
  {
   "cell_type": "code",
   "execution_count": null,
   "metadata": {},
   "outputs": [],
   "source": [
    "'''\n",
    "try:\n",
    "    # Code that might raise an exception\n",
    "    # ...\n",
    "except (ExceptionType1, ExceptionType2, ...) as variable:\n",
    "    # Handle the exception and access exception details using the variable\n",
    "    # ...\n",
    "'''"
   ]
  },
  {
   "cell_type": "markdown",
   "metadata": {},
   "source": [
    "Example: "
   ]
  },
  {
   "cell_type": "code",
   "execution_count": null,
   "metadata": {},
   "outputs": [],
   "source": [
    "try:\n",
    "    result = int(\"abc\")\n",
    "except (ValueError, TypeError) as e:\n",
    "    print(\"Error:\", e)\n",
    "    print(\"Type:\", type(e))\n",
    "    print(\"Details:\", e.args)\n"
   ]
  },
  {
   "cell_type": "code",
   "execution_count": null,
   "metadata": {},
   "outputs": [],
   "source": []
  },
  {
   "cell_type": "markdown",
   "metadata": {},
   "source": [
    "EXPLANATION:'\n",
    "The try block attempts to convert the string \"abc\" to an integer, which raises either a ValueError or a TypeError.\n",
    "The except block catches both ValueError and TypeError exceptions and assigns the exception instance to the variable e.\n",
    "The variable e is then used to access information about the exception, such as its message, type, and additional details."
   ]
  },
  {
   "cell_type": "markdown",
   "metadata": {},
   "source": [
    "##  Raising Exceptions in Python:\n",
    "Exceptions can be raised using the raise statement. When an exception is raised, Python stops the normal execution of the program and jumps to the nearest exception handler."
   ]
  },
  {
   "cell_type": "markdown",
   "metadata": {},
   "source": [
    "Syntax: raise ExceptionClassName(\"Optional error message\")\n"
   ]
  },
  {
   "cell_type": "markdown",
   "metadata": {},
   "source": [
    "Code : builtin exception"
   ]
  },
  {
   "cell_type": "code",
   "execution_count": null,
   "metadata": {},
   "outputs": [
    {
     "name": "stdout",
     "output_type": "stream",
     "text": [
      "Error: Cannot divide by zero\n"
     ]
    }
   ],
   "source": [
    "def divide_numbers(x, y):\n",
    "    if y == 0:\n",
    "        raise ValueError(\"Cannot divide by zero\")\n",
    "    return x / y\n",
    "\n",
    "try:\n",
    "    result = divide_numbers(10, 0)\n",
    "except ValueError as e:\n",
    "    print(\"Error:\", e)\n"
   ]
  },
  {
   "cell_type": "markdown",
   "metadata": {},
   "source": [
    "Code: Custom Exception"
   ]
  },
  {
   "cell_type": "code",
   "execution_count": null,
   "metadata": {},
   "outputs": [
    {
     "name": "stdout",
     "output_type": "stream",
     "text": [
      "Custom error occurred: Value cannot be negative\n"
     ]
    }
   ],
   "source": [
    "class CustomError(Exception):\n",
    "    pass\n",
    "\n",
    "def check_value(x):\n",
    "    if x < 0:\n",
    "        raise CustomError(\"Value cannot be negative\")\n",
    "\n",
    "try:\n",
    "    check_value(-5)\n",
    "except CustomError as e:\n",
    "    print(\"Custom error occurred:\", e)\n"
   ]
  },
  {
   "cell_type": "markdown",
   "metadata": {},
   "source": [
    "Understanding the hierarchy of exceptions in Python"
   ]
  },
  {
   "cell_type": "markdown",
   "metadata": {},
   "source": [
    "###  BaseException:\n",
    "At the root of the exception hierarchy is the BaseException class. All built-in and user-defined exceptions inherit from this class.\n",
    "\n",
    "### Exception:\n",
    "Directly beneath BaseException is the Exception class. This is the base class for all built-in, non-system-exiting exceptions. Most user-defined exceptions also subclass from Exception\n",
    "\n",
    "### Built-in Exceptions:\n",
    "Python provides a wide range of built-in exceptions, each serving a specific purpose. These exceptions are organized into various categories based on their functionality\n",
    "\n",
    "### Custom Exceptions:\n",
    "Apart from built-in exceptions, Python allows you to define custom exception classes by subclassing existing ones. This helps in categorizing errors specific to your application."
   ]
  },
  {
   "cell_type": "markdown",
   "metadata": {},
   "source": [
    " ## Handling Exceptions at Different Levels:"
   ]
  },
  {
   "cell_type": "markdown",
   "metadata": {},
   "source": [
    "### Local Level: \n",
    "Handling exceptions within specific functions or blocks of code where errors are expected to occur.\n",
    "This involves using try and except blocks locally."
   ]
  },
  {
   "cell_type": "code",
   "execution_count": null,
   "metadata": {},
   "outputs": [
    {
     "name": "stdout",
     "output_type": "stream",
     "text": [
      "Cannot divide by zero\n"
     ]
    }
   ],
   "source": [
    "#Code\n",
    "def divide(x, y):\n",
    "    try:\n",
    "        result = x / y\n",
    "        print(\"Result:\", result)\n",
    "    except ZeroDivisionError:\n",
    "        print(\"Cannot divide by zero\")\n",
    "\n",
    "\n",
    "divide(10, 0)"
   ]
  },
  {
   "cell_type": "markdown",
   "metadata": {},
   "source": [
    "### Intermediate Level: \n",
    "Handling exceptions across multiple functions or modules. \n",
    "This involves propagating exceptions using raise or catching specific exceptions and re-raising them"
   ]
  },
  {
   "cell_type": "code",
   "execution_count": null,
   "metadata": {},
   "outputs": [
    {
     "name": "stdout",
     "output_type": "stream",
     "text": [
      "Error: Invalid data\n"
     ]
    }
   ],
   "source": [
    "#Code\n",
    "def process_data(data):\n",
    "    try:\n",
    "        result = 10 / data\n",
    "    except ZeroDivisionError:\n",
    "        raise ValueError(\"Invalid data\") from None\n",
    "\n",
    "try:\n",
    "    process_data(0)\n",
    "except ValueError as e:\n",
    "    print(\"Error:\", e)"
   ]
  },
  {
   "cell_type": "markdown",
   "metadata": {},
   "source": [
    "### Global Level:\n",
    "Handling exceptions at the highest level of your application, \n",
    "typically in the main entry point or top-level script. This involves catching exceptions that \n",
    "propagate from lower levels and logging or displaying appropriate error messages.\n",
    "\n"
   ]
  },
  {
   "cell_type": "code",
   "execution_count": null,
   "metadata": {},
   "outputs": [
    {
     "name": "stdout",
     "output_type": "stream",
     "text": [
      "An error occurred: Cannot divide by zero\n"
     ]
    }
   ],
   "source": [
    "def main():\n",
    "    try:\n",
    "        result = 10 / 0\n",
    "    except ZeroDivisionError :\n",
    "        print(\"An error occurred: Cannot divide by zero\")\n",
    "\n",
    "if __name__ == \"__main__\":\n",
    "    main()\n"
   ]
  },
  {
   "cell_type": "markdown",
   "metadata": {},
   "source": [
    "Properly documenting code with exceptions in Python involves providing clear and informative documentation\n",
    "about the exceptions that a function or module may raise, as well as how to handle them. \n",
    "\n",
    "1:Use docstrings to provide detailed explanations of the purpose of your code, including any potential exceptions that may be raised. Describe what each parameter represents and what the function or method does.\n",
    "\n",
    "2:Raise Clauses:\n",
    "Include Raises: sections in your docstrings to list the exceptions that can be raised by your code and under what circumstances they occur.\n",
    "\n",
    "3:Error Messages:\n",
    "Provide informative error messages when raising exceptions to help users understand why the error occurred and how to resolve it"
   ]
  },
  {
   "cell_type": "code",
   "execution_count": null,
   "metadata": {},
   "outputs": [
    {
     "name": "stdout",
     "output_type": "stream",
     "text": [
      "Error: Cannot divide by zero\n"
     ]
    }
   ],
   "source": [
    "#Code:\n",
    "def divide(x, y):\n",
    "    \"\"\"\n",
    "    Divide two numbers.\n",
    "\n",
    "    Args:\n",
    "        x (int): The dividend.\n",
    "        y (int): The divisor.\n",
    "\n",
    "    Raises:\n",
    "        ValueError: If `y` is zero.\n",
    "\n",
    "    Returns:\n",
    "        float: The result of the division.\n",
    "    \"\"\"\n",
    "    if y == 0:\n",
    "        raise ValueError(\"Cannot divide by zero\")\n",
    "    return x / y\n",
    "\n",
    "try:\n",
    "    result = divide(10, 0)\n",
    "except ValueError as e:\n",
    "    print(\"Error:\", e) \n"
   ]
  },
  {
   "cell_type": "markdown",
   "metadata": {},
   "source": [
    "\n",
    "Avoiding broad except clauses in Python exceptions is essential for writing robust and maintainable code. Broad except clauses catch all exceptions indiscriminately, which can obscure errors, make debugging difficult, and lead to unexpected behavior. To avoid broad except clauses:\n",
    "\n",
    "1:Be Specific: Catch only the exceptions you expect and know how to handle. Specify the exact exception classes or subclasses that you want to catch.\n",
    "\n",
    "2:Handle Specific Exceptions: Provide appropriate error handling logic for each specific exception. This allows for more targeted and meaningful error handling.\n",
    "\n",
    "3:Avoid Bare except:: Avoid using bare except: clauses, as they catch all exceptions, including system-exiting exceptions. Instead, specify the exceptions explicitly.\n",
    "\n",
    "4:Consider Multiple except Clauses: If your code needs to handle different types of exceptions differently, use multiple except clauses, each targeting a specific exception type."
   ]
  },
  {
   "cell_type": "markdown",
   "metadata": {},
   "source": [
    "#### Using finally for cleanup operations  \n",
    "The finally block in Python is used to define a block of code that will be executed regardless of whether an exception occurs or not. It is typically used for cleanup operations, such as closing files, releasing resources, or performing finalization tasks. "
   ]
  },
  {
   "cell_type": "code",
   "execution_count": null,
   "metadata": {},
   "outputs": [
    {
     "data": {
      "text/plain": [
       "'\\ntry:\\n    # Code that may raise exceptions\\n    # ...\\nexcept SomeException:\\n    # Handle the exception\\n    # ...\\nfinally:\\n    # Cleanup operations\\n    # This block is always executed, regardless of whether an exception occurred or not\\n    # ...\\n'"
      ]
     },
     "metadata": {},
     "output_type": "display_data"
    }
   ],
   "source": [
    "#Syntax\n",
    "'''\n",
    "try:\n",
    "    # Code that may raise exceptions\n",
    "    # ...\n",
    "except SomeException:\n",
    "    # Handle the exception\n",
    "    # ...\n",
    "finally:\n",
    "    # Cleanup operations\n",
    "    # This block is always executed, regardless of whether an exception occurred or not\n",
    "    # ...\n",
    "'''"
   ]
  },
  {
   "cell_type": "code",
   "execution_count": null,
   "metadata": {},
   "outputs": [
    {
     "name": "stdout",
     "output_type": "stream",
     "text": [
      "Division operation complete\n",
      "Result 1: 5.0\n",
      "Cannot divide by zero\n",
      "Division operation complete\n",
      "Result 2: None\n"
     ]
    }
   ],
   "source": [
    "#code\n",
    "def divide(x, y):\n",
    "    try:\n",
    "        result = x / y\n",
    "    except ZeroDivisionError:\n",
    "        print(\"Cannot divide by zero\")\n",
    "        result = None\n",
    "    finally:\n",
    "        print(\"Division operation complete\")\n",
    "    \n",
    "    return result\n",
    "\n",
    "result1 = divide(10, 2)\n",
    "print(\"Result 1:\", result1)\n",
    "\n",
    "result2 = divide(10, 0)\n",
    "print(\"Result 2:\", result2)\n",
    "\n"
   ]
  },
  {
   "cell_type": "markdown",
   "metadata": {},
   "source": [
    "## Questions:"
   ]
  },
  {
   "cell_type": "markdown",
   "metadata": {},
   "source": [
    "1. Write a function that takes two numbers as input and divides the first number by the second number.\n",
    "Raise a ZeroDivisionError if the second number is zero.\n",
    "\n",
    "    Solution:"
   ]
  },
  {
   "cell_type": "code",
   "execution_count": null,
   "metadata": {},
   "outputs": [],
   "source": [
    "def divide_numbers(num1, num2):\n",
    "    if num2 == 0:\n",
    "        raise ZeroDivisionError(\"Cannot divide by zero\")\n",
    "    else:\n",
    "        result = num1 / num2\n",
    "        return result\n",
    "\n",
    "# Example usage\n",
    "try:\n",
    "    print(divide_numbers(10, 2))  # Output: 5.0\n",
    "    print(divide_numbers(5, 0))   # Raises ZeroDivisionError\n",
    "except ZeroDivisionError:\n",
    "    print(\"Error: Division by zero is not allowed\")"
   ]
  },
  {
   "cell_type": "markdown",
   "metadata": {},
   "source": [
    "    \n",
    "2. Create a function that checks if a given string is a palindrome.\n",
    "Raise a custom PalindromeError if the input is not a valid string.\n",
    "\n",
    "    Solution:"
   ]
  },
  {
   "cell_type": "code",
   "execution_count": null,
   "metadata": {},
   "outputs": [],
   "source": [
    "class PalindromeError(Exception):\n",
    "    pass\n",
    "\n",
    "def is_palindrome(input_str):\n",
    "    if not isinstance(input_str, str):\n",
    "        raise PalindromeError(\"Input must be a string\")\n",
    "\n",
    "    # Remove spaces and convert to lowercase\n",
    "    clean_str = input_str.replace(\" \", \"\").lower()\n",
    "\n",
    "    # Check if the string is equal to its reverse\n",
    "    if clean_str == clean_str[::-1]:\n",
    "        return True\n",
    "    else:\n",
    "        return False\n",
    "\n",
    "# Example usage\n",
    "try:\n",
    "    print(is_palindrome(\"racecar\"))  # Output: True\n",
    "    print(is_palindrome(\"A man a plan a canal Panama\"))  # Output: True\n",
    "    print(is_palindrome(123))  # Raises PalindromeError\n",
    "except PalindromeError as e:\n",
    "    print(e)"
   ]
  },
  {
   "cell_type": "markdown",
   "metadata": {},
   "source": [
    "3. Write a Python script that iterates through a list of integers and attempts to divide each integer by zero. Handle the ZeroDivisionError exception within a try-except \n",
    "block, and use a finally block to print a message indicating the end of the iteration process.\n",
    "\n",
    "    Solution:"
   ]
  },
  {
   "cell_type": "code",
   "execution_count": null,
   "metadata": {},
   "outputs": [],
   "source": [
    "numbers = [10, 0, 5, 20, 3]\n",
    "\n",
    "for num in numbers:\n",
    "    try:\n",
    "        result = num / 0\n",
    "        print(f\"{num} / 0 = {result}\")\n",
    "    except ZeroDivisionError:\n",
    "        print(f\"Error: Cannot divide {num} by zero\")\n",
    "    finally:\n",
    "        print(\"Iteration completed\")\n",
    "        print(\"-----------------------\")\n",
    "\n",
    "print(\"End of script\")"
   ]
  },
  {
   "cell_type": "markdown",
   "metadata": {},
   "source": [
    "4. Write a Python function that attempts to divide two numbers and handles the ZeroDivisionError exception. \n",
    "Include a finally block to print a message indicating the end of the division operation.\n",
    "    \n",
    "    Solution:"
   ]
  },
  {
   "cell_type": "code",
   "execution_count": null,
   "metadata": {},
   "outputs": [],
   "source": [
    "def divide_numbers(num1, num2):\n",
    "    try:\n",
    "        result = num1 / num2\n",
    "        print(f\"{num1} / {num2} = {result}\")\n",
    "    except ZeroDivisionError:\n",
    "        print(f\"Error: Cannot divide {num1} by zero\")\n",
    "    finally:\n",
    "        print(\"Division operation completed\")\n",
    "\n",
    "# Example usage\n",
    "divide_numbers(10, 2)  # Output: 10 / 2 = 5.0, Division operation completed\n",
    "divide_numbers(5, 0)   # Output: Error: Cannot divide 5 by zero, Division operation completed"
   ]
  },
  {
   "cell_type": "markdown",
   "metadata": {},
   "source": [
    "5. Create a Python program that converts a string to an integer. Handle the ValueError exception if the string cannot be converted to an integer, and print a message indicating the error.\n",
    "\n",
    "    Solution:"
   ]
  },
  {
   "cell_type": "code",
   "execution_count": null,
   "metadata": {},
   "outputs": [],
   "source": [
    "try:\n",
    "    num_str = input(\"Enter a number: \")\n",
    "    num = int(num_str)\n",
    "    print(\"Integer value:\", num)\n",
    "except ValueError:\n",
    "    print(\"Error: Could not convert '{}' to an integer.\".format(num_str))\n"
   ]
  },
  {
   "cell_type": "markdown",
   "metadata": {},
   "source": [
    "6. Write a Python function that takes a number as input and returns its square root. Handle the case where the input is a negative number by raising a custom exception called NegativeNumberError.\n",
    "\n",
    "    Solution:"
   ]
  },
  {
   "cell_type": "code",
   "execution_count": null,
   "metadata": {},
   "outputs": [],
   "source": [
    "import math\n",
    "\n",
    "class NegativeNumberError(Exception):\n",
    "    pass\n",
    "\n",
    "def sqrt(num):\n",
    "    if num < 0:\n",
    "        raise NegativeNumberError(\"Cannot calculate square root of a negative number\")\n",
    "    return math.sqrt(num)\n",
    "\n",
    "try:\n",
    "    print(sqrt(25))  # Output: 5.0\n",
    "    print(sqrt(-4))  # Raises NegativeNumberError\n",
    "except NegativeNumberError as e:\n",
    "    print(e)"
   ]
  }
 ],
 "metadata": {
  "language_info": {
   "name": "python"
  }
 },
 "nbformat": 4,
 "nbformat_minor": 2
}
