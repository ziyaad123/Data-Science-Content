{
 "cells": [
  {
   "cell_type": "markdown",
   "metadata": {},
   "source": [
    "#  OOPs (Object oriented programming)"
   ]
  },
  {
   "cell_type": "markdown",
   "metadata": {},
   "source": [
    "### 1.Introduction"
   ]
  },
  {
   "cell_type": "markdown",
   "metadata": {},
   "source": [
    "- Object-Oriented Programming (OOP) is a programming that solving a problem by creating object is one of the most popular approcches in  programing.\n"
   ]
  },
  {
   "cell_type": "markdown",
   "metadata": {},
   "source": [
    "### 2.General OOPs vs Python OOPs"
   ]
  },
  {
   "cell_type": "markdown",
   "metadata": {},
   "source": [
    "- While the core concepts of OOP remain the same across programming languages, each language implements these concepts with its own syntax and features. Python, being an object-oriented language, supports OOP principles and provides its own way of defining and working with classes and objects."
   ]
  },
  {
   "cell_type": "markdown",
   "metadata": {},
   "source": [
    "### 3.Class and object"
   ]
  },
  {
   "cell_type": "markdown",
   "metadata": {},
   "source": [
    "- A class is a blueprint or a template for creating objects. It defines the attributes and methods that objects of that class will have.\n",
    " An object is an instance of a class, and it represents a specific entity with its own unique set of attribute values."
   ]
  },
  {
   "cell_type": "code",
   "execution_count": 4,
   "metadata": {},
   "outputs": [],
   "source": [
    "class MyClass:\n",
    "    pass  # This is an empty class definition\n",
    "\n",
    "obj = MyClass()  # Creating an instance (object) of the MyClass class"
   ]
  },
  {
   "cell_type": "markdown",
   "metadata": {},
   "source": [
    "### 4.Data members in class"
   ]
  },
  {
   "cell_type": "markdown",
   "metadata": {},
   "source": [
    "**A.Instance Variables**"
   ]
  },
  {
   "cell_type": "markdown",
   "metadata": {},
   "source": [
    "- Instance variables are attributes that are specific to each instance (object) of a class. These variables store data related to that particular instance and can have different values for different instances of the same class."
   ]
  },
  {
   "cell_type": "code",
   "execution_count": 30,
   "metadata": {},
   "outputs": [
    {
     "name": "stdout",
     "output_type": "stream",
     "text": [
      "1\n",
      "2\n"
     ]
    }
   ],
   "source": [
    "class MyClass:\n",
    "\n",
    "    def increment(self):\n",
    "        if not hasattr(self, 'instance_var'):  # Check if the instance variable is not set\n",
    "            self.instance_var = 0  # Initialize the instance variable if it doesn't exist\n",
    "        self.instance_var += 1  # Increment the instance variable\n",
    "        return self.instance_var  # Return the updated value of the instance variable\n",
    "\n",
    "obj = MyClass()  # Creating an instance of the MyClass class\n",
    "\n",
    "print(obj.increment())  # Output: 1  # Printing the initial value of the instance variable after incrementing\n",
    "print(obj.increment())  # Output: 2  # Printing the updated value of the instance variable after incrementing"
   ]
  },
  {
   "cell_type": "markdown",
   "metadata": {},
   "source": [
    "**B.Class Variables**"
   ]
  },
  {
   "cell_type": "markdown",
   "metadata": {},
   "source": [
    "- In Python, class variables are variables that are shared among all instances of a class. Unlike instance variables, which are unique to each object, class variables are common to all objects of the same class."
   ]
  },
  {
   "cell_type": "code",
   "execution_count": 31,
   "metadata": {},
   "outputs": [
    {
     "name": "stdout",
     "output_type": "stream",
     "text": [
      "0\n",
      "1\n",
      "2\n"
     ]
    }
   ],
   "source": [
    "class MyClass:\n",
    "    class_var = 0  # Defining a class variable and initializing it with value 0\n",
    "\n",
    "    def increment(self):  # Defining a method to increment the class variable\n",
    "        MyClass.class_var += 1  # Incrementing the class variable using the class name\n",
    "\n",
    "obj1 = MyClass()  # Creating the first instance of the MyClass class\n",
    "obj2 = MyClass()  # Creating the second instance of the MyClass class\n",
    "\n",
    "print(MyClass.class_var)  # Output: 0  # Printing the initial value of the class variable\n",
    "obj1.increment()  # Calling the increment() method on the obj1 instance\n",
    "print(MyClass.class_var)  # Output: 1  # Printing the updated value of the class variable\n",
    "obj2.increment()  # Calling the increment() method on the obj2 instance\n",
    "print(MyClass.class_var)  # Output: 2  # Printing the updated value of the class variable"
   ]
  },
  {
   "cell_type": "markdown",
   "metadata": {},
   "source": [
    "### 5. Methods in class"
   ]
  },
  {
   "cell_type": "markdown",
   "metadata": {},
   "source": [
    "**A.Normal Methods**"
   ]
  },
  {
   "cell_type": "markdown",
   "metadata": {},
   "source": [
    "- Normal methods, also known as instance methods, are the most common type of methods in Python classes.These methods have access to the instance data through the self parameter, which refers to the current instance of the class."
   ]
  },
  {
   "cell_type": "code",
   "execution_count": 32,
   "metadata": {},
   "outputs": [
    {
     "name": "stdout",
     "output_type": "stream",
     "text": [
      "This is a normal method.\n"
     ]
    }
   ],
   "source": [
    "class MyClass:\n",
    "    def my_method(self):  # Defining a normal method that takes self as the first argument\n",
    "        print(\"This is a normal method.\")  # Prints a string when the method is called\n",
    "\n",
    "obj = MyClass()  # Creating an instance of the MyClass class\n",
    "obj.my_method()  # Calling the my_method() method on the obj instance"
   ]
  },
  {
   "cell_type": "markdown",
   "metadata": {},
   "source": [
    "**B.Class Methods**"
   ]
  },
  {
   "cell_type": "markdown",
   "metadata": {},
   "source": [
    "- Class methods are methods that are bound to the class itself, not to a specific instance. They take a class parameter cls as the first argument, which allows them to access and modify class attributes."
   ]
  },
  {
   "cell_type": "code",
   "execution_count": 33,
   "metadata": {},
   "outputs": [
    {
     "name": "stdout",
     "output_type": "stream",
     "text": [
      "0\n",
      "1\n",
      "2\n"
     ]
    }
   ],
   "source": [
    "class MyClass:\n",
    "    class_var = 0  # Defining a class variable and initializing it with value 0\n",
    "\n",
    "    def increment(self):  # Defining a method to increment the class variable\n",
    "        MyClass.class_var += 1  # Incrementing the class variable using the class name\n",
    "\n",
    "obj1 = MyClass()  # Creating the first instance of the MyClass class\n",
    "obj2 = MyClass()  # Creating the second instance of the MyClass class\n",
    "\n",
    "print(MyClass.class_var)  # Output: 0  # Printing the initial value of the class variable\n",
    "obj1.increment()  # Calling the increment() method on the obj1 instance\n",
    "print(MyClass.class_var)  # Output: 1  # Printing the updated value of the class variable\n",
    "obj2.increment()  # Calling the increment() method on the obj2 instance\n",
    "print(MyClass.class_var)  # Output: 2  # Printing the updated value of the class variable"
   ]
  },
  {
   "cell_type": "markdown",
   "metadata": {},
   "source": [
    "**C. Static Methods**\n"
   ]
  },
  {
   "cell_type": "markdown",
   "metadata": {},
   "source": [
    "- Static methods are functions defined within a class but are not associated with any specific instance or the class itself. They do not take the self or cls parameter and are primarily used for utility"
   ]
  },
  {
   "cell_type": "code",
   "execution_count": 34,
   "metadata": {},
   "outputs": [
    {
     "name": "stdout",
     "output_type": "stream",
     "text": [
      "True\n",
      "True\n"
     ]
    }
   ],
   "source": [
    "class MathUtils:\n",
    "    @staticmethod\n",
    "    def is_even(num):\n",
    "        return num % 2 == 0\n",
    "\n",
    "    @staticmethod\n",
    "    def is_prime(num):\n",
    "        if num < 2:\n",
    "            return False\n",
    "        for i in range(2, int(num ** 0.5) + 1):\n",
    "            if num % i == 0:\n",
    "                return False\n",
    "        return True\n",
    "\n",
    "# Calling static methods\n",
    "print(MathUtils.is_even(4))  # Output: True\n",
    "print(MathUtils.is_prime(7))  # Output: True"
   ]
  },
  {
   "cell_type": "markdown",
   "metadata": {},
   "source": [
    "### 6. Special methods\t\t\t\n"
   ]
  },
  {
   "cell_type": "markdown",
   "metadata": {},
   "source": [
    "**A. __ init __ method**\n"
   ]
  },
  {
   "cell_type": "markdown",
   "metadata": {},
   "source": [
    "- The __init__ method is a special method in Python classes that is used to initialize the object's attributes when an instance of the class is created."
   ]
  },
  {
   "cell_type": "code",
   "execution_count": 35,
   "metadata": {},
   "outputs": [
    {
     "name": "stdout",
     "output_type": "stream",
     "text": [
      "Alice\n",
      "25\n"
     ]
    }
   ],
   "source": [
    "class Person:\n",
    "    def __init__(self, name, age):\n",
    "        self.name = name\n",
    "        self.age = age\n",
    "\n",
    "# Creating an instance of the Person class\n",
    "person1 = Person(\"Alice\", 25)\n",
    "print(person1.name)  # Output: Alice\n",
    "print(person1.age)   # Output: 25"
   ]
  },
  {
   "cell_type": "markdown",
   "metadata": {},
   "source": [
    "**B.  __ str__ method**\n"
   ]
  },
  {
   "cell_type": "markdown",
   "metadata": {},
   "source": [
    "-  The __str__ method is a special method in Python classes that is used to define the string representation of an object. It is automatically called when you try to convert an object to a string, such as when using print() or str() functions."
   ]
  },
  {
   "cell_type": "code",
   "execution_count": 36,
   "metadata": {},
   "outputs": [
    {
     "name": "stdout",
     "output_type": "stream",
     "text": [
      "Alice (25)\n",
      "Alice (25)\n"
     ]
    }
   ],
   "source": [
    "class Person:\n",
    "    def __init__(self, name, age):\n",
    "        self.name = name\n",
    "        self.age = age\n",
    "\n",
    "    def __str__(self):\n",
    "        return f\"{self.name} ({self.age})\"\n",
    "\n",
    "# Creating an instance of the Person class\n",
    "person1 = Person(\"Alice\", 25)\n",
    "print(person1)  # Output: Alice (25)\n",
    "print(str(person1))  # Output: Alice (25)"
   ]
  },
  {
   "cell_type": "markdown",
   "metadata": {},
   "source": [
    "**C.__ new__ method**"
   ]
  },
  {
   "cell_type": "markdown",
   "metadata": {},
   "source": [
    "- The __new__ method is a static method in Python classes that is called before the __init__ method when creating a new instance of a class. It is responsible for creating and returning the new instance of the class."
   ]
  },
  {
   "cell_type": "code",
   "execution_count": 37,
   "metadata": {},
   "outputs": [
    {
     "name": "stdout",
     "output_type": "stream",
     "text": [
      "Creating a new instance of Person\n",
      "Alice (25)\n"
     ]
    }
   ],
   "source": [
    "class Person:\n",
    "    def __new__(cls, *args, **kwargs):\n",
    "        print(\"Creating a new instance of Person\")\n",
    "        return super(Person, cls).__new__(cls)\n",
    "\n",
    "    def __init__(self, name, age):\n",
    "        self.name = name\n",
    "        self.age = age\n",
    "\n",
    "    def __str__(self):\n",
    "        return f\"{self.name} ({self.age})\"\n",
    "\n",
    "# Creating an instance of the Person class\n",
    "person1 = Person(\"Alice\", 25)\n",
    "print(person1)"
   ]
  },
  {
   "cell_type": "markdown",
   "metadata": {},
   "source": [
    "### 7. Constructor and Deconstructor"
   ]
  },
  {
   "cell_type": "markdown",
   "metadata": {},
   "source": [
    "- Constructor:\n",
    "The constructor is a special method in Python classes that is automatically called when an instance (object) of the class is created. It is used to initialize the attributes (variables) of the object with desired values or perform any other necessary setup."
   ]
  },
  {
   "cell_type": "markdown",
   "metadata": {},
   "source": [
    "- Deconstructor:\n",
    "In Python, there is no traditional deconstructor like in some other languages (e.g., C++). However, Python provides a special method called __del__ that is a \"destructor\" of sorts."
   ]
  },
  {
   "cell_type": "code",
   "execution_count": 38,
   "metadata": {},
   "outputs": [
    {
     "name": "stdout",
     "output_type": "stream",
     "text": [
      "Constructor called\n",
      "Deconstructor called\n"
     ]
    }
   ],
   "source": [
    "class MyClass:\n",
    "    def __init__(self):  # Defining the constructor method\n",
    "        print(\"Constructor called\")  # Prints a message when the constructor is called\n",
    "\n",
    "    def __del__(self):  # Defining the deconstructor method\n",
    "        print(\"Deconstructor called\")  # Prints a message when the deconstructor is called\n",
    "\n",
    "obj = MyClass()  # Output: Constructor called  # Creating an instance of the MyClass class\n",
    "del obj  # Output: Deconstructor called  # Deleting the obj instance"
   ]
  },
  {
   "cell_type": "markdown",
   "metadata": {},
   "source": [
    "**A. Constructor without arguments**"
   ]
  },
  {
   "cell_type": "markdown",
   "metadata": {},
   "source": [
    "- If you don't need to initialize any attributes in the constructor, you can define a class without the __init__ method. Python will automatically provide a default constructor without any arguments."
   ]
  },
  {
   "cell_type": "code",
   "execution_count": 39,
   "metadata": {},
   "outputs": [
    {
     "name": "stdout",
     "output_type": "stream",
     "text": [
      "0\n"
     ]
    }
   ],
   "source": [
    "class MyClass:\n",
    "    def __init__(self):  # Defining the constructor method without any arguments\n",
    "        self.data = 0  # Initializing an instance variable with value 0\n",
    "\n",
    "obj = MyClass()  # Creating an instance of the MyClass class\n",
    "print(obj.data)  # Output: 0  # Printing the value of the instance variable"
   ]
  },
  {
   "cell_type": "markdown",
   "metadata": {},
   "source": [
    "**B. Constructor with arguments**"
   ]
  },
  {
   "cell_type": "markdown",
   "metadata": {},
   "source": [
    "- You can define a constructor that takes arguments to initialize the object's attributes. This is a common practice in object-oriented programming."
   ]
  },
  {
   "cell_type": "code",
   "execution_count": 40,
   "metadata": {},
   "outputs": [
    {
     "name": "stdout",
     "output_type": "stream",
     "text": [
      "10\n"
     ]
    }
   ],
   "source": [
    "class MyClass:\n",
    "    def __init__(self, value):  # Defining the constructor method with one argument\n",
    "        self.data = value  # Initializing an instance variable with the value passed as an argument\n",
    "\n",
    "obj = MyClass(10)  # Creating an instance of the MyClass class and passing 10 as an argument\n",
    "print(obj.data)  # Output: 10  # Printing the value of the instance variable"
   ]
  },
  {
   "cell_type": "markdown",
   "metadata": {},
   "source": [
    "**C. Constructor with default arguments**"
   ]
  },
  {
   "cell_type": "markdown",
   "metadata": {},
   "source": [
    "- In Python, constructors are defined using the __init__ method, which is automatically called when an instance of a class is created. "
   ]
  },
  {
   "cell_type": "code",
   "execution_count": 41,
   "metadata": {},
   "outputs": [
    {
     "name": "stdout",
     "output_type": "stream",
     "text": [
      "0\n",
      "20\n"
     ]
    }
   ],
   "source": [
    "class MyClass:\n",
    "    def __init__(self, value=0):  # Defining the constructor method with a default argument\n",
    "        self.data = value  # Initializing an instance variable with the value passed as an argument or the default value\n",
    "\n",
    "obj1 = MyClass()  # Creating an instance of the MyClass class without passing any argument\n",
    "print(obj1.data)  # Output: 0  # Printing the value of the instance variable (default value)\n",
    "\n",
    "obj2 = MyClass(20)  # Creating an instance of the MyClass class and passing 20 as an argument\n",
    "print(obj2.data)  # Output: 20  # Printing the value of the instance variable"
   ]
  },
  {
   "cell_type": "markdown",
   "metadata": {},
   "source": [
    "### 8. Methods with argument\n"
   ]
  },
  {
   "cell_type": "code",
   "execution_count": 42,
   "metadata": {},
   "outputs": [
    {
     "name": "stdout",
     "output_type": "stream",
     "text": [
      "Arguments: 10, 20\n"
     ]
    }
   ],
   "source": [
    "class MyClass:\n",
    "    def my_method(self, arg1, arg2):  # Defining a method that takes two arguments besides self\n",
    "        print(f\"Arguments: {arg1}, {arg2}\")  # Printing the values of the arguments\n",
    "\n",
    "obj = MyClass()  # Creating an instance of the MyClass class\n",
    "obj.my_method(10, 20)  # Output: Arguments: 10, 20  # Calling the my_method() method and passing 10 and 20 as arguments"
   ]
  },
  {
   "cell_type": "markdown",
   "metadata": {},
   "source": [
    "**A. Pass object as an argument**"
   ]
  },
  {
   "cell_type": "markdown",
   "metadata": {},
   "source": [
    "- In Python, you can pass an object as an argument to a function. For example, if you have a function called my_function, you can pass an object as an argument to it. Here is an example of how you can pass an object as an argument to a function:\n",
    "             "
   ]
  },
  {
   "cell_type": "code",
   "execution_count": 43,
   "metadata": {},
   "outputs": [
    {
     "name": "stdout",
     "output_type": "stream",
     "text": [
      "30\n"
     ]
    }
   ],
   "source": [
    "class MyClass:\n",
    "    def __init__(self, value):  # Defining the constructor method with one argument\n",
    "        self.data = value  # Initializing an instance variable with the value passed as an argument\n",
    "\n",
    "    def update(self, other):  # Defining a method that takes another object as an argument\n",
    "        self.data += other.data  # Updating the instance variable with the sum of its own value and the other object's value\n",
    "\n",
    "obj1 = MyClass(10)  # Creating the first instance of the MyClass class and passing 10 as an argument\n",
    "obj2 = MyClass(20)  # Creating the second instance of the MyClass class and passing 20 as an argument\n",
    "\n",
    "obj1.update(obj2)  # Calling the update() method on the obj1 instance and passing obj2 as an argument\n",
    "print(obj1.data)  # Output: 30  # Printing the updated value of the instance variable"
   ]
  },
  {
   "cell_type": "markdown",
   "metadata": {},
   "source": [
    "**B.Object as an return type**\n"
   ]
  },
  {
   "cell_type": "markdown",
   "metadata": {},
   "source": [
    "- In Python, you can return an object from a function. This allows you to create and return instances of classes, enabling you to encapsulate data and behavior within objects."
   ]
  },
  {
   "cell_type": "code",
   "execution_count": 44,
   "metadata": {},
   "outputs": [
    {
     "name": "stdout",
     "output_type": "stream",
     "text": [
      "11\n"
     ]
    }
   ],
   "source": [
    "class MyClass:\n",
    "    def __init__(self, value):  # Defining the constructor method with one argument\n",
    "        self.data = value  # Initializing an instance variable with the value passed as an argument\n",
    "\n",
    "    def increment(self):  # Defining a method to increment the instance variable\n",
    "        self.data += 1  # Incrementing the instance variable\n",
    "        return self  # Returning the object itself\n",
    "\n",
    "obj = MyClass(10)  # Creating an instance of the MyClass class and passing 10 as an argument\n",
    "obj = obj.increment()  # Calling the increment() method and updating the obj variable with the returned object\n",
    "print(obj.data)  # Output: 11  # Printing the updated value of the instance variable"
   ]
  },
  {
   "cell_type": "markdown",
   "metadata": {},
   "source": [
    "**C. Method overloading**"
   ]
  },
  {
   "cell_type": "markdown",
   "metadata": {},
   "source": [
    "-  Method overloading is a feature in some programming languages that allows a class to have multiple methods with the same name but different parameter lists."
   ]
  },
  {
   "cell_type": "code",
   "execution_count": 45,
   "metadata": {},
   "outputs": [
    {
     "name": "stdout",
     "output_type": "stream",
     "text": [
      "arg1: 10, arg2: 0\n",
      "arg1: 10, arg2: 20\n"
     ]
    }
   ],
   "source": [
    "class MyClass:\n",
    "    def my_method(self, arg1, arg2=0):\n",
    "        print(f\"arg1: {arg1}, arg2: {arg2}\")\n",
    "\n",
    "obj = MyClass()\n",
    "obj.my_method(10)  # Output: arg1: 10, arg2: 0\n",
    "obj.my_method(10, 20)  # Output: arg1: 10, arg2: 20"
   ]
  },
  {
   "cell_type": "markdown",
   "metadata": {},
   "source": [
    "### 9.Data encapsulation"
   ]
  },
  {
   "cell_type": "markdown",
   "metadata": {},
   "source": [
    "- Encapsulation is the principle of bundling data and methods within a single unit (class). It helps in hiding the internal implementation details of an object from the outside world, providing a well-defined interface to interact with the object."
   ]
  },
  {
   "cell_type": "code",
   "execution_count": 47,
   "metadata": {},
   "outputs": [
    {
     "name": "stdout",
     "output_type": "stream",
     "text": [
      "0\n",
      "10\n"
     ]
    }
   ],
   "source": [
    "class MyClass:\n",
    "    def __init__(self):  # Defining the constructor method\n",
    "        self.__private_var = 0  # Defining a private instance variable\n",
    "\n",
    "    def get_private_var(self):  # Defining a method to get the value of the private variable\n",
    "        return self.__private_var  # Returning the value of the private variable\n",
    "\n",
    "    def set_private_var(self, value):  # Defining a method to set the value of the private variable\n",
    "        self.__private_var = value  # Setting the value of the private variable\n",
    "\n",
    "obj = MyClass()  # Creating an instance of the MyClass class\n",
    "\n",
    "print(obj.get_private_var())  # Output: 0  # Printing the initial value of the private variable\n",
    "\n",
    "obj.set_private_var(10)  # Setting the value of the private variable to 10\n",
    "print(obj.get_private_var())  # Output: 10  # Printing the updated value of the private variable"
   ]
  },
  {
   "cell_type": "markdown",
   "metadata": {},
   "source": [
    "### 10.Data Abstraction"
   ]
  },
  {
   "cell_type": "markdown",
   "metadata": {},
   "source": [
    "- Abstraction is the principle of exposing only the essential features of an object to the outside world while hiding the unnecessary implementation details."
   ]
  },
  {
   "cell_type": "code",
   "execution_count": 48,
   "metadata": {},
   "outputs": [
    {
     "name": "stdout",
     "output_type": "stream",
     "text": [
      "5000\n",
      "6000\n"
     ]
    }
   ],
   "source": [
    "class Employee:\n",
    "    def __init__(self, name, age, salary):\n",
    "        # Public attributes\n",
    "        self.name = name\n",
    "        self.age = age\n",
    "        \n",
    "        # Private attribute\n",
    "        self.__salary = salary\n",
    "\n",
    "    def get_salary(self):\n",
    "        # Method to retrieve the salary\n",
    "        return self.__salary\n",
    "\n",
    "    def set_salary(self, new_salary):\n",
    "        # Method to update the salary\n",
    "        if new_salary > 0:\n",
    "            self.__salary = new_salary\n",
    "        else:\n",
    "            print(\"Invalid salary\")\n",
    "\n",
    "# Create an instance of the Employee class\n",
    "employee = Employee(\"John\", 30, 5000)\n",
    "\n",
    "# Retrieve the salary using the get_salary method\n",
    "print(employee.get_salary())  # Output: 5000\n",
    "\n",
    "# Update the salary using the set_salary method\n",
    "employee.set_salary(6000)\n",
    "\n",
    "# Retrieve the updated salary\n",
    "print(employee.get_salary())  # Output: 6000"
   ]
  },
  {
   "cell_type": "markdown",
   "metadata": {},
   "source": [
    "### 11.Data Hiding\n"
   ]
  },
  {
   "cell_type": "markdown",
   "metadata": {},
   "source": [
    "- Data hiding is a technique used to prevent direct access to an object's internal data from outside the class"
   ]
  },
  {
   "cell_type": "code",
   "execution_count": 50,
   "metadata": {},
   "outputs": [
    {
     "name": "stdout",
     "output_type": "stream",
     "text": [
      "10\n"
     ]
    }
   ],
   "source": [
    "class MyClass:\n",
    "    def __init__(self):\n",
    "        # The __hidden_var is a private instance variable (hidden from outside the class)\n",
    "        self.__hidden_var = 0  # Hidden variable, initialized with 0\n",
    "\n",
    "    def get_hidden_var(self):\n",
    "        # This method is a getter to retrieve the value of the __hidden_var\n",
    "        return self.__hidden_var  # Returns the value of the hidden variable\n",
    "\n",
    "    def set_hidden_var(self, value):\n",
    "        # This method is a setter to update the value of the __hidden_var\n",
    "        self.__hidden_var = value  # Updates the hidden variable with the provided value\n",
    "\n",
    "# Creating an instance of the MyClass\n",
    "obj = MyClass()\n",
    "\n",
    "# Calling the set_hidden_var method to update the hidden variable\n",
    "obj.set_hidden_var(10)  # Sets the hidden variable to 10\n",
    "\n",
    "# Calling the get_hidden_var method to retrieve the value of the hidden variable\n",
    "print(obj.get_hidden_var())  # Output: 10"
   ]
  }
 ],
 "metadata": {
  "kernelspec": {
   "display_name": "Python 3",
   "language": "python",
   "name": "python3"
  },
  "language_info": {
   "name": "python",
   "version": "3.11.4"
  }
 },
 "nbformat": 4,
 "nbformat_minor": 2
}
