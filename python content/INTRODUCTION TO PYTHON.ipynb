{
  "cells": [
    {
      "cell_type": "markdown",
      "metadata": {
        "vscode": {
          "languageId": "raw"
        }
      },
      "source": [
        "# Python Input and Output Statements\n",
        "\n",
        "The print() function can take multiple arguments, and it will print them separated by spaces by default.\n",
        "You can use the end keyword argument to specify what character(s) should be printed at the end of the output (instead of the default newline \\n).\n",
        "\n",
        "The sep keyword argument allows you to specify the separator string that will be used between the arguments passed to print().\n",
        "\n",
        "The input() function can also take a prompt string as an argument, which will be displayed to the user before they enter their input."
      ]
    },
    {
      "cell_type": "code",
      "execution_count": null,
      "metadata": {
        "trusted": true
      },
      "outputs": [],
      "source": [
        "# Python Input and Output Statements\n",
        "\n",
        "# Input statement\n",
        "name = input(\"Enter your name: \")\n",
        "print(\"Hello,\", name)\n",
        "\n",
        "# Output statement with keyword arguments\n",
        "print(\"Hello\", \"World\", sep=\", \", end=\"!\\n\")"
      ]
    },
    {
      "cell_type": "markdown",
      "metadata": {},
      "source": [
        "# Data Types in Python\n",
        "\n",
        "Numeric types (int, float, complex) are immutable, meaning their values cannot be changed after creation.\n",
        "\n",
        "Sequence types (str, list, tuple) can contain multiple values of different data types.\n",
        "\n",
        "range is a special sequence type that generates a sequence of numbers within a specified range.\n",
        "\n",
        "Mapping types (dict) store key-value pairs, where keys must be unique and immutable.\n",
        "\n",
        "Set types (set, frozenset) are unordered collections of unique elements.\n",
        "\n",
        "The bool type represents truth values (True or False)."
      ]
    },
    {
      "cell_type": "code",
      "execution_count": null,
      "metadata": {
        "trusted": true
      },
      "outputs": [],
      "source": [
        "# Data Types in Python\n",
        "int_num = 10\n",
        "float_num = 3.14\n",
        "complex_num = 2 + 3j\n",
        "string = \"Hello, World!\"\n",
        "boolean = True\n",
        "list_example = [1, 2, 3, 4, 5]\n",
        "tuple_example = (1, 2, 3, 4, 5)\n",
        "dict_example = {\"name\": \"John\", \"age\": 30}\n",
        "set_example = {1, 2, 3, 4, 5}"
      ]
    },
    {
      "cell_type": "markdown",
      "metadata": {},
      "source": [
        "# Expressions and Operators\n",
        "\n",
        "Operator precedence determines the order in which operations are performed in an expression.\n",
        "\n",
        "Parentheses can be used to override the default operator precedence.\n",
        "\n",
        "Bitwise operators treat operands as a sequence of bits and perform operations bit by bit.\n",
        "\n",
        "Augmented assignment operators (+=, -=, *=, etc.) are shorthand for combining an arithmetic operation and an assignment."
      ]
    },
    {
      "cell_type": "code",
      "execution_count": null,
      "metadata": {
        "trusted": true
      },
      "outputs": [],
      "source": [
        "# Expressions and Operators\n",
        "a = 10\n",
        "b = 3\n",
        "\n",
        "# Arithmetic Operators\n",
        "print(a + b)  # Addition: 13\n",
        "print(a - b)  # Subtraction: 7\n",
        "print(a * b)  # Multiplication: 30\n",
        "print(a / b)  # Division: 3.3333333333333335\n",
        "print(a // b) # Floor Division: 3\n",
        "print(a % b)  # Modulus: 1\n",
        "print(a ** b) # Exponentiation: 1000\n",
        "\n",
        "# Comparison Operators\n",
        "print(a == b) # Equal to: False\n",
        "print(a != b) # Not equal to: True\n",
        "print(a > b)  # Greater than: True\n",
        "print(a < b)  # Less than: False\n",
        "print(a >= b) # Greater than or equal to: True\n",
        "print(a <= b) # Less than or equal to: False\n",
        "\n",
        "# Logical Operators\n",
        "print(a > 5 and b < 5)  # and: True\n",
        "print(a > 5 or b < 1)   # or: True\n",
        "print(not(a > 5 and b < 5)) # not: False"
      ]
    },
    {
      "cell_type": "markdown",
      "metadata": {},
      "source": [
        "# Type Casting\n",
        "\n",
        "Type casting is useful when you need to convert data from one type to another.\n",
        "\n",
        "Explicit type conversion is preferred over implicit type conversion for better code readability and predictability.\n",
        "When converting between numeric types, information may be truncated or rounded depending on the target type."
      ]
    },
    {
      "cell_type": "code",
      "execution_count": null,
      "metadata": {
        "trusted": true
      },
      "outputs": [],
      "source": [
        "# Type Casting\n",
        "int_from_float = int(3.14)\n",
        "float_from_int = float(10)\n",
        "string_from_int = str(100)\n",
        "list_from_string = list(\"Hello\")\n",
        "tuple_from_list = tuple([1, 2, 3, 4, 5])\n",
        "set_from_list = set([1, 2, 3, 4, 5])\n",
        "\n",
        "print(int_from_float)\n",
        "print(float_from_int)\n",
        "print(string_from_int)\n",
        "print(list_from_string)\n",
        "print(tuple_from_list)\n",
        "print(set_from_list)"
      ]
    },
    {
      "cell_type": "markdown",
      "metadata": {},
      "source": [
        "# Conditional Statements\n",
        "\n",
        "The if statement executes a block of code if a specified condition is true.\n",
        "\n",
        "The elif (short for \"else if\") statement provides additional conditions to check if the previous conditions were false.\n",
        "\n",
        "The else statement specifies a block of code to execute if none of the previous conditions were true.\n",
        "\n",
        "Conditions in if, elif, and else statements must evaluate to a boolean value (True or False)."
      ]
    },
    {
      "cell_type": "code",
      "execution_count": null,
      "metadata": {
        "trusted": true
      },
      "outputs": [],
      "source": [
        "# Conditional Statements\n",
        "a = 10\n",
        "b = 5\n",
        "\n",
        "if a > b:\n",
        "    print(f\"{a} is greater than {b}\")\n",
        "elif a < b:\n",
        "    print(f\"{a} is less than {b}\")\n",
        "else:\n",
        "    print(f\"{a} is equal to {b}\")"
      ]
    },
    {
      "cell_type": "markdown",
      "metadata": {},
      "source": [
        "# Looping Statements\n",
        "\n",
        "The for loop is used to iterate over sequences (like lists, tuples, strings) or other iterable objects.\n",
        "\n",
        "The while loop executes a block of code as long as a specified condition is true.\n",
        "\n",
        "Nested loops (a loop inside another loop) can be used to iterate over multi-dimensional data structures"
      ]
    },
    {
      "cell_type": "code",
      "execution_count": null,
      "metadata": {
        "trusted": true
      },
      "outputs": [],
      "source": [
        "# Looping Statements\n",
        "# For loop\n",
        "fruits = [\"apple\", \"banana\", \"cherry\"]\n",
        "for fruit in fruits:\n",
        "    print(fruit)\n",
        "\n",
        "# While loop\n",
        "count = 0\n",
        "while count < 5:\n",
        "    print(count)\n",
        "    count += 1"
      ]
    },
    {
      "cell_type": "markdown",
      "metadata": {},
      "source": [
        "# Jumping Statements\n",
        "\n",
        "The break statement terminates the current loop and transfers control to the next statement outside the loop.\n",
        "\n",
        "The continue statement skips the current iteration of the loop and moves to the next iteration.\n",
        "Both break and continue can be used in both for and while loops."
      ]
    },
    {
      "cell_type": "code",
      "execution_count": null,
      "metadata": {
        "trusted": true
      },
      "outputs": [],
      "source": [
        "# Jumping Statements\n",
        "# break statement\n",
        "for i in range(10):\n",
        "    if i == 5:\n",
        "        break\n",
        "    print(i)\n",
        "\n",
        "# continue statement\n",
        "for i in range(10):\n",
        "    if i == 5:\n",
        "        continue\n",
        "    print(i)"
      ]
    },
    {
      "cell_type": "markdown",
      "metadata": {},
      "source": [
        "# Special Functions\n",
        "\n",
        "The len() function returns the number of items in an object (e.g., the length of a string, list, tuple, or other iterable).\n",
        "\n",
        "The id() function returns the unique identifier (memory address) of an object.\n",
        "\n",
        "The type() function returns the type of an object (e.g., int, float, str, list, etc.).\n",
        "\n",
        "The range() function generates a sequence of numbers within a specified range and is commonly used in for loops."
      ]
    },
    {
      "cell_type": "code",
      "execution_count": null,
      "metadata": {
        "trusted": true
      },
      "outputs": [],
      "source": [
        "# Special Functions\n",
        "fruits = [\"apple\", \"banana\", \"cherry\"]\n",
        "\n",
        "# len()\n",
        "print(len(fruits))  # Output: 3\n",
        "\n",
        "# id()\n",
        "print(id(fruits))  # Output: Unique ID of the list object\n",
        "\n",
        "# type()\n",
        "print(type(fruits))  # Output: <class 'list'>\n",
        "\n",
        "# range()\n",
        "for i in range(5):\n",
        "    print(i)  # Output: 0 1 2 3 4"
      ]
    }
  ],
  "metadata": {
    "kernelspec": {
      "display_name": "Python (Pyodide)",
      "language": "python",
      "name": "python"
    },
    "language_info": {
      "codemirror_mode": {
        "name": "python",
        "version": 3
      },
      "file_extension": ".py",
      "mimetype": "text/x-python",
      "name": "python",
      "nbconvert_exporter": "python",
      "pygments_lexer": "ipython3",
      "version": "3.8"
    }
  },
  "nbformat": 4,
  "nbformat_minor": 4
}
