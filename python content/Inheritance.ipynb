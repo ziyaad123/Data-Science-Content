{
 "cells": [
  {
   "cell_type": "markdown",
   "metadata": {},
   "source": [
    "<h1><b>Inheritance</b></h1>\n",
    "<h2>1. Introduction</h2>\n",
    "<p style=\"font-size:18px\">Inheritance provides code reusability to the program because we can use an existing class to create a new class instead of creating it from scratch.</p>\n",
    "<p style=\"font-size:18px\">In inheritance, the child class acquires the properties and can access all the data members and functions defined in the parent class.</p>\n",
    "<br>\n",
    "<p align=\"center\"><img src = \"https://static.javatpoint.com/python/images/python-inheritance.png\" alt=\"Base and Child class\" class=\"center\"></p>"
   ]
  },
  {
   "cell_type": "markdown",
   "metadata": {},
   "source": [
    "<h3>Syntax</h3>\n"
   ]
  },
  {
   "cell_type": "code",
   "execution_count": 2,
   "metadata": {},
   "outputs": [],
   "source": [
    "class ParentClass:\n",
    "    #parent class methods and attributes\n",
    "    def prent_nethod(self):\n",
    "        print(\"This parent method\")\n",
    "\n",
    "class ChildClass(ParentClass):\n",
    "    #child class attributes and methods and parent class attributes and functions\n",
    "    def child_method(self):\n",
    "        print(\"This is child method\")"
   ]
  },
  {
   "cell_type": "markdown",
   "metadata": {},
   "source": [
    "<h2>2. Properties of Inheritance<h2>\n",
    "<p style=\"font-size:18px\"><b>(i) Code Reusability: </b>Inheritance promotes code reuse by enabling you to define a base class (parent class) with common properties and methods. Derived classes (child classes) can inherit these functionalities and extend them with specific implementations.</p>\n",
    "\n",
    "<p style=\"font-size:18px\"><b>(ii) Hierarchy: </b>Classes are organized in a parent-child relationship, where child classes (subclasses) inherit attributes and methods from parent classes (superclasses). This hierarchy allows for a structured and organized codebase.</p>\n",
    "\n",
    "<p style=\"font-size:18px\"><b>(iii) Extensibility: </b>Inherited classes can add new attributes and methods or override existing ones from their parent classes. This allows for the extension of functionality without modifying the original class, thus promoting flexibility and modularity.</p>\n",
    "\n",
    "<p style=\"font-size:18px\"><b>(iv) Polymorphism: </b>Polymorphism is the ability of different classes to be treated as instances of the same class through a common interface. This allows for more flexible and generalized code, where objects of different classes can be used interchangeably.</p>\n",
    "\n",
    "<p style=\"font-size:18px\"><b>(v) Encapsulation: </b>Inheritance can help in encapsulating common behavior and attributes within a parent class, which can then be inherited by multiple subclasses.</p>\n"
   ]
  },
  {
   "cell_type": "markdown",
   "metadata": {},
   "source": [
    "<h2>3.MRO (Method Resolution Order)</h2>\n",
    "<font size=\"4\"><p>MRO is a set of rules that define the order in which Python searches for methods when dealing with class inheritance, especially in scenarios with multiple inheritance.</p>\n",
    "<p>In simple words - \"The method or attributes is explored in the current class, if the method is not present in the current class, the search moves to the parent classes, and so on\".</p>\n",
    "<p>It plays an essential role in multiple inheritance where the same method can be found in the multiple superclasses.</p></font>"
   ]
  },
  {
   "cell_type": "markdown",
   "metadata": {},
   "source": [
    "<h5>Example: Animal Kingdom</h5>"
   ]
  },
  {
   "cell_type": "code",
   "execution_count": 3,
   "metadata": {},
   "outputs": [
    {
     "name": "stdout",
     "output_type": "stream",
     "text": [
      "Generic animal sound\n",
      "Woof!\n",
      "Meow!\n",
      "Woof!\n"
     ]
    }
   ],
   "source": [
    "class Animal:\n",
    "  def make_sound(self):\n",
    "    print(\"Generic animal sound\")\n",
    "\n",
    "class Dog(Animal):\n",
    "  def make_sound(self):\n",
    "    print(\"Woof!\")\n",
    "\n",
    "class Cat(Animal):\n",
    "  def make_sound(self):\n",
    "    print(\"Meow!\")\n",
    "\n",
    "class Poodle(Dog):  # Poodle inherits from Dog\n",
    "  pass\n",
    "\n",
    "animals = [Animal(), Dog(), Cat(), Poodle()]\n",
    "for animal in animals:\n",
    "  animal.make_sound()"
   ]
  },
  {
   "cell_type": "markdown",
   "metadata": {},
   "source": [
    "<h2>3. Types of Inheritance</h2>\n",
    "<font size=\"4\"><p><b>(i) Single Inheritance : </b></p><p>Single inheritance enables a derived class to inherit properties from a single parent class, thus enabling code reusability and the addition of new features to existing code.</p>\n",
    "<p align=\"center\"><img src=\"https://media.geeksforgeeks.org/wp-content/uploads/20200108135809/inheritance11.png\" alt=\"Single Inheritance\" class=\"center\" height=\"400px\" width=\"400px\"></p>\n",
    "\n",
    "\n"
   ]
  },
  {
   "cell_type": "code",
   "execution_count": 4,
   "metadata": {},
   "outputs": [
    {
     "name": "stdout",
     "output_type": "stream",
     "text": [
      "This function is in parent class.\n",
      "This function is in child class.\n"
     ]
    }
   ],
   "source": [
    "# Base class\n",
    "class Parent:\n",
    "    def func1(self):\n",
    "        print(\"This function is in parent class.\")\n",
    " \n",
    "# Derived class\n",
    " \n",
    " \n",
    "class Child(Parent):\n",
    "    def func2(self):\n",
    "        print(\"This function is in child class.\")\n",
    " \n",
    " \n",
    "# Driver's code\n",
    "object = Child()\n",
    "object.func1()\n",
    "object.func2()"
   ]
  },
  {
   "cell_type": "markdown",
   "metadata": {},
   "source": [
    "<p><b>(ii) Multiple Inheritance : </b></p><p>When a class can be derived from more than one base class this type of inheritance is called multiple inheritances. In multiple inheritances, all the features of the base classes are inherited into the derived class.</p>\n",
    "<p align=\"center\"><img src=\"https://media.geeksforgeeks.org/wp-content/uploads/20200108144424/multiple-inheritance1.png\" alt=\"Multiple Inheritance\" class=\"center\" height=\"400px\" width=\"400px\">"
   ]
  },
  {
   "cell_type": "code",
   "execution_count": 5,
   "metadata": {},
   "outputs": [
    {
     "name": "stdout",
     "output_type": "stream",
     "text": [
      "Father : RAM\n",
      "Mother : SITA\n"
     ]
    }
   ],
   "source": [
    "# Base class1\n",
    "class Mother:\n",
    "    mothername = \"\"\n",
    " \n",
    "    def mother(self):\n",
    "        print(self.mothername)\n",
    " \n",
    "# Base class2\n",
    " \n",
    " \n",
    "class Father:\n",
    "    fathername = \"\"\n",
    " \n",
    "    def father(self):\n",
    "        print(self.fathername)\n",
    " \n",
    "# Derived class\n",
    " \n",
    " \n",
    "class Son(Mother, Father):\n",
    "    def parents(self):\n",
    "        print(\"Father :\", self.fathername)\n",
    "        print(\"Mother :\", self.mothername)\n",
    " \n",
    " \n",
    "# Driver's code\n",
    "s1 = Son()\n",
    "s1.fathername = \"RAM\"\n",
    "s1.mothername = \"SITA\"\n",
    "s1.parents()"
   ]
  },
  {
   "cell_type": "markdown",
   "metadata": {},
   "source": [
    "<p><b>(iii) Multilevel Inheritance : </b></p><p>In multilevel inheritance, features of the base class and the derived class are further inherited into the new derived class. This is similar to a relationship representing a child and a grandfather.</p>\n",
    "<p align=\"center\"><img src=\"https://media.geeksforgeeks.org/wp-content/uploads/20200108144705/Multilevel-inheritance1.png\" alt=\"Multilevel Inheritance\" class=\"center\" height=\"400px\" width=\"400px\">"
   ]
  },
  {
   "cell_type": "code",
   "execution_count": 6,
   "metadata": {},
   "outputs": [
    {
     "name": "stdout",
     "output_type": "stream",
     "text": [
      "Lal mani\n",
      "Grandfather name : Lal mani\n",
      "Father name : Rampal\n",
      "Son name : Prince\n"
     ]
    }
   ],
   "source": [
    "\n",
    "# Base class\n",
    "class Grandfather:\n",
    "\n",
    "\tdef __init__(self, grandfathername):\n",
    "\t\tself.grandfathername = grandfathername\n",
    "\n",
    "# Intermediate class\n",
    "class Father(Grandfather):\n",
    "\tdef __init__(self, fathername, grandfathername):\n",
    "\t\tself.fathername = fathername\n",
    "\n",
    "\t\t# invoking constructor of Grandfather class\n",
    "\t\tGrandfather.__init__(self, grandfathername)\n",
    "\n",
    "# Derived class\n",
    "class Son(Father):\n",
    "\tdef __init__(self, sonname, fathername, grandfathername):\n",
    "\t\tself.sonname = sonname\n",
    "\n",
    "\t\t# invoking constructor of Father class\n",
    "\t\tFather.__init__(self, fathername, grandfathername)\n",
    "\n",
    "\tdef print_name(self):\n",
    "\t\tprint('Grandfather name :', self.grandfathername)\n",
    "\t\tprint(\"Father name :\", self.fathername)\n",
    "\t\tprint(\"Son name :\", self.sonname)\n",
    "\n",
    "\n",
    "# Driver code\n",
    "s1 = Son('Prince', 'Rampal', 'Lal mani')\n",
    "print(s1.grandfathername)\n",
    "s1.print_name()\n"
   ]
  },
  {
   "cell_type": "markdown",
   "metadata": {},
   "source": [
    "<p><b>(iv) Hierarchical Innheritance : </b></p><p>When more than one derived class are created from a single base this type of inheritance is called hierarchical inheritance. In this program, we have a parent (base) class and two child (derived) classes.</p>\n",
    "<p align=\"center\"><img src=\"https://media.geeksforgeeks.org/wp-content/uploads/20200108144949/Hierarchical-inheritance1.png\" alt=\"Hierarchical Inheritance\" class=\"center\" height=\"400px\" width=\"400px\">"
   ]
  },
  {
   "cell_type": "code",
   "execution_count": 7,
   "metadata": {},
   "outputs": [
    {
     "name": "stdout",
     "output_type": "stream",
     "text": [
      "This function is in parent class.\n",
      "This function is in child 1.\n",
      "This function is in parent class.\n",
      "This function is in child 2.\n"
     ]
    }
   ],
   "source": [
    "\n",
    "# Base class\n",
    "class Parent:\n",
    "\tdef func1(self):\n",
    "\t\tprint(\"This function is in parent class.\")\n",
    "\n",
    "# Derived class1\n",
    "class Child1(Parent):\n",
    "\tdef func2(self):\n",
    "\t\tprint(\"This function is in child 1.\")\n",
    "\n",
    "# Derivied class2\n",
    "class Child2(Parent):\n",
    "\tdef func3(self):\n",
    "\t\tprint(\"This function is in child 2.\")\n",
    "\n",
    "\n",
    "# Driver's code\n",
    "object1 = Child1()\n",
    "object2 = Child2()\n",
    "object1.func1()\n",
    "object1.func2()\n",
    "object2.func1()\n",
    "object2.func3()\n"
   ]
  },
  {
   "cell_type": "markdown",
   "metadata": {},
   "source": [
    "<p><b>(v) Hybrid Inheritance : </b></p><p>Inheritance consisting of multiple types of inheritance is called hybrid inheritance.</p>\n",
    "<p align=\"center\"><img src=\"https://media.geeksforgeeks.org/wp-content/uploads/Hybrid-Inheritance.png\" alt=\"Hybrid Inheritance\" class=\"center\" height=\"400px\" width=\"400px\"></font>"
   ]
  },
  {
   "cell_type": "code",
   "execution_count": 8,
   "metadata": {},
   "outputs": [
    {
     "name": "stdout",
     "output_type": "stream",
     "text": [
      "This function is in school.\n",
      "This function is in student 1. \n"
     ]
    }
   ],
   "source": [
    "\n",
    "class School:\n",
    "\tdef func1(self):\n",
    "\t\tprint(\"This function is in school.\")\n",
    "\n",
    "\n",
    "class Student1(School):\n",
    "\tdef func2(self):\n",
    "\t\tprint(\"This function is in student 1. \")\n",
    "\n",
    "\n",
    "class Student2(School):\n",
    "\tdef func3(self):\n",
    "\t\tprint(\"This function is in student 2.\")\n",
    "\n",
    "\n",
    "class Student3(Student1, School):\n",
    "\tdef func4(self):\n",
    "\t\tprint(\"This function is in student 3.\")\n",
    "\n",
    "\n",
    "# Driver's code\n",
    "object = Student3()\n",
    "object.func1()\n",
    "object.func2()\n"
   ]
  },
  {
   "cell_type": "markdown",
   "metadata": {},
   "source": [
    "<h2><b>Method Overriding :</b></p>\n",
    "<font size=\"4\"><p>Method overriding is an ability of any object-oriented programming language that allows a subclass or child class to provide a specific implementation of a method that is already provided by one of its super-classes or parent classes.</p>\n",
    "<p>When a method in a subclass has the same name, same parameters or signature and same return type(or sub-type) as a method in its super-class, then the method in the subclass is said to override the method in the super-class.</p>\n",
    "<p align=\"center\"><img src=\"https://prepbytes-misc-images.s3.ap-south-1.amazonaws.com/assets/1674634933923-Method%20Overriding%20in%20Java1.png\" alt=\"Method Overriding\" class=\"center\" height=\"400px\" width=\"400px\"></font>"
   ]
  },
  {
   "cell_type": "code",
   "execution_count": 1,
   "metadata": {},
   "outputs": [
    {
     "name": "stdout",
     "output_type": "stream",
     "text": [
      "Area of square: 25\n",
      "Area of circle: 28.259999999999998\n"
     ]
    }
   ],
   "source": [
    "class Shape:\n",
    " \n",
    "  def area(self):\n",
    "    raise NotImplementedError(\"Subclasses must implement area()\")\n",
    "\n",
    "\n",
    "class Square(Shape):\n",
    "\n",
    "  def __init__(self, side):\n",
    "    self.side = side\n",
    "\n",
    "  def area(self):\n",
    "    #Calculates area of square\n",
    "    return self.side * self.side\n",
    "\n",
    "class Circle(Shape):\n",
    "\n",
    "  def __init__(self, radius):\n",
    "    self.radius = radius\n",
    "\n",
    "  def area(self):\n",
    "    #Calculates area of circle\n",
    "    return 3.14 * self.radius * self.radius\n",
    "\n",
    "# Create objects of Square and Circle\n",
    "square = Square(5)\n",
    "circle = Circle(3)\n",
    "\n",
    "\n",
    "# Call the overridden area method from each subclass\n",
    "print(f\"Area of square: {square.area()}\")  \n",
    "print(f\"Area of circle: {circle.area()}\")  "
   ]
  },
  {
   "cell_type": "markdown",
   "metadata": {},
   "source": [
    "<h2><b>Super() Method :</b></p>\n",
    "<font size=\"4\"><p>In Python, the super() function is used to refer to the parent class or superclass.</p>\n",
    "<p>It allows you to call methods defined in the superclass from the subclass, enabling you to extend and customize the functionality inherited from the parent class.</p>\n",
    "<p align=\"center\"><img src=\"https://www.logilax.com/wp-content/uploads/2023/09/super-in-python.png\" alt=\"Super() function\" class=\"center\" height=\"400px\" width=\"400px\"></p></font>"
   ]
  },
  {
   "cell_type": "code",
   "execution_count": 2,
   "metadata": {},
   "outputs": [
    {
     "name": "stdout",
     "output_type": "stream",
     "text": [
      "I am a RedSquare.\n",
      "I am also colored.\n",
      "I am a red square.\n"
     ]
    }
   ],
   "source": [
    "class Shape:\n",
    "\n",
    "  def info(self):\n",
    "    print(f\"I am a {type(self).__name__}.\")\n",
    "\n",
    "class ColoredShape(Shape):\n",
    "\n",
    "  def __init__(self):\n",
    "    pass  \n",
    "\n",
    "  def info(self):\n",
    "    super().info() # Call info from Shape  \n",
    "    print(f\"I am also colored.\")\n",
    "\n",
    "class RedSquare(ColoredShape):\n",
    "\n",
    "  # No __init__ defined here \n",
    "\n",
    "  def info(self):\n",
    "    super().info()  # Call info from ColoredShape\n",
    "    print(f\"I am a red square.\")\n",
    "\n",
    "# Create objects (these won't have color set since ColoredShape lacks __init__)\n",
    "red_square = RedSquare()\n",
    "\n",
    "red_square.info()  "
   ]
  },
  {
   "cell_type": "markdown",
   "metadata": {},
   "source": [
    "<h4><b>Super() with __init__ method :</b></h4>\n",
    "<font size=\"4\"><p>Python has a reserved method called “__init__.” In Object-Oriented Programming, it is referred to as a constructor. When this method is called it allows the class to initialize the attributes of the class.</p>\n",
    "<p>In an inherited subclass, a parent class can be referred to with the use of the super() function. The super function returns a temporary object of the superclass that allows access to all of its methods to its child class.</p></font>"
   ]
  },
  {
   "cell_type": "code",
   "execution_count": 4,
   "metadata": {},
   "outputs": [
    {
     "name": "stdout",
     "output_type": "stream",
     "text": [
      "The ID is: 103\n",
      "The Name is: Suraj kr gupta\n",
      "The Address is: Noida\n",
      "The Emails is: SKG@gmails\n"
     ]
    }
   ],
   "source": [
    "#Base class\n",
    "class Emp():\n",
    "    def __init__(self, id, name, Add):\n",
    "        self.id = id\n",
    "        self.name = name\n",
    "        self.Add = Add\n",
    " \n",
    "# Class freelancer inherits EMP\n",
    "class Freelance(Emp):\n",
    "    def __init__(self, id, name, Add, Emails):\n",
    "        super().__init__(id, name, Add)\n",
    "        self.Emails = Emails\n",
    " \n",
    "Emp_1 = Freelance(103, \"Suraj kr gupta\", \"Noida\" , \"SKG@gmails\")\n",
    "print('The ID is:', Emp_1.id)\n",
    "print('The Name is:', Emp_1.name)\n",
    "print('The Address is:', Emp_1.Add)\n",
    "print('The Emails is:', Emp_1.Emails)"
   ]
  },
  {
   "cell_type": "markdown",
   "metadata": {},
   "source": [
    "<h4><b>Super() with __str__ method :</b></h4>\n",
    "<font size=\"4\"><p>str() is a built-in function in the Python programming language that is used to convert the specified value into a string datatype.</p>\n",
    "<p>Just like with __init__ method, Super() method can inherit the __str__ function to the sub/child class from the super/parent class</p></font>"
   ]
  },
  {
   "cell_type": "code",
   "execution_count": 14,
   "metadata": {},
   "outputs": [
    {
     "name": "stdout",
     "output_type": "stream",
     "text": [
      "I am a dog of breed Labrador\n"
     ]
    }
   ],
   "source": [
    "# Parent class\n",
    "class Animal:\n",
    "    def __init__(self, species):\n",
    "        self.species = species\n",
    "\n",
    "    def __str__(self):\n",
    "        return f\"I am a {self.species}\"\n",
    "\n",
    "# Child class inherits Parent class(Animal)\n",
    "class Dog(Animal):\n",
    "    def __init__(self, breed):\n",
    "        super().__init__(\"dog\")\n",
    "        self.breed = breed\n",
    "\n",
    "    def __str__(self):\n",
    "        return super().__str__() + f\" of breed {self.breed}\"\n",
    "\n",
    "# Creating an instance of Dog\n",
    "my_dog = Dog(\"Labrador\")\n",
    "\n",
    "# Printing the Dog instance\n",
    "print(my_dog)"
   ]
  }
 ],
 "metadata": {
  "kernelspec": {
   "display_name": "Python 3",
   "language": "python",
   "name": "python3"
  },
  "language_info": {
   "codemirror_mode": {
    "name": "ipython",
    "version": 3
   },
   "file_extension": ".py",
   "mimetype": "text/x-python",
   "name": "python",
   "nbconvert_exporter": "python",
   "pygments_lexer": "ipython3",
   "version": "3.11.4"
  }
 },
 "nbformat": 4,
 "nbformat_minor": 2
}
