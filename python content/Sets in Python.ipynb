{
 "cells": [
  {
   "cell_type": "markdown",
   "metadata": {},
   "source": [
    "# SETS\n",
    "\n",
    "In Python, a set is an unordered collection of unique elements. This means that a set cannot contain duplicate values, and the order of elements in a set is undefined. Sets are a fundamental data structure in Python, commonly used for tasks that involve membership testing, removing duplicates from a sequence, and performing mathematical operations like union, intersection, and difference.\n",
    "\n",
    "## Creating Sets in Python\n",
    "\n",
    "In Python, you can create a set using either curly braces {} or the set() constructor. When using curly braces, you provide a comma-separated list of elements enclosed within them. Alternatively, you can use the 'set()' constructor by passing an iterable object like a list or a tuple as an argument. Sets automatically eliminate duplicate elements, so if you try to add duplicate elements, they will only be included once in the set. \n",
    "\n",
    "Here are examples of both methods:"
   ]
  },
  {
   "cell_type": "code",
   "execution_count": 3,
   "metadata": {},
   "outputs": [
    {
     "name": "stdout",
     "output_type": "stream",
     "text": [
      "Set created using '{}' curly brackets: {1, 2, 3, 4, 5}\n",
      "Set created using set constructor: {4, 5, 6, 7, 8}\n"
     ]
    }
   ],
   "source": [
    "# Using curly braces\n",
    "my_set = {1, 2, 3, 4, 5}\n",
    "\n",
    "# Using set() constructor\n",
    "another_set = set([4, 5, 6, 7, 8])\n",
    "\n",
    "#print\n",
    "print(\"Set created using '{}' curly brackets:\",my_set)\n",
    "print(\"Set created using set constructor:\",another_set)"
   ]
  },
  {
   "cell_type": "markdown",
   "metadata": {},
   "source": [
    "In these examples, my_set contains the elements 1, 2, 3, 4, and 5, while another_set contains the elements 4, 5, 6, 7, and 8. Duplicate elements, if present, are automatically removed when creating the set.\n",
    "\n",
    "## Set Operations in Python\n",
    "\n",
    "In Python, sets support several fundamental operations that are essential for set manipulation and analysis. These operations include union, intersection, difference, and symmetric difference.\n",
    "\n",
    "- ### Union (|):\n",
    "The union of two sets A and B is denoted by 𝐴 | 𝐵. This operation combines all unique elements from two sets into a new set, excluding duplicates. It forms a set that contains elements from either set. \n",
    "\n",
    "For example:"
   ]
  },
  {
   "cell_type": "code",
   "execution_count": 5,
   "metadata": {},
   "outputs": [
    {
     "name": "stdout",
     "output_type": "stream",
     "text": [
      "Union: {1, 2, 3, 4, 5}\n"
     ]
    }
   ],
   "source": [
    "set1 = {1, 2, 3}\n",
    "set2 = {3, 4, 5}\n",
    "union_set = set1 | set2  # Output: {1, 2, 3, 4, 5}\n",
    "print(\"Union:\",union_set)"
   ]
  },
  {
   "cell_type": "markdown",
   "metadata": {},
   "source": [
    "In this example, the union of set1 and set2 results in {1, 2, 3, 4, 5}, as it includes all unique elements from both sets.\n",
    "\n",
    "\n",
    "For example, imagine you have two shopping lists, one for groceries and one for household items. When you go shopping, you want to create a single list that includes all the items you need without duplicates."
   ]
  },
  {
   "cell_type": "code",
   "execution_count": 10,
   "metadata": {},
   "outputs": [
    {
     "name": "stdout",
     "output_type": "stream",
     "text": [
      "Shopping list: {'milk', 'bread', 'bananas', 'detergent', 'paper towels', 'apples'}\n"
     ]
    }
   ],
   "source": [
    "grocery_list = {\"apples\", \"bananas\", \"milk\", \"bread\"}\n",
    "household_list = {\"detergent\", \"paper towels\", \"milk\", \"bread\"}\n",
    "\n",
    "shopping_list = grocery_list | household_list\n",
    "\n",
    "print(\"Shopping list:\",shopping_list)"
   ]
  },
  {
   "cell_type": "markdown",
   "metadata": {},
   "source": [
    "In this example, the union operation merges both shopping lists, ensuring that each unique item appears only once.\n",
    "\n",
    "- ### Intersection (&):\n",
    "The intersection of two sets A and B is denoted by 𝐴 & 𝐵. This operation finds elements that are common to both sets and returns them in a new set. It only includes elements that exist in both sets. \n",
    "\n",
    "For example:"
   ]
  },
  {
   "cell_type": "code",
   "execution_count": 6,
   "metadata": {},
   "outputs": [
    {
     "name": "stdout",
     "output_type": "stream",
     "text": [
      "Intersection: {3}\n"
     ]
    }
   ],
   "source": [
    "set1 = {1, 2, 3}\n",
    "set2 = {3, 4, 5}\n",
    "intersection_set = set1 & set2  # Output: {3}\n",
    "print(\"Intersection:\",intersection_set)"
   ]
  },
  {
   "cell_type": "markdown",
   "metadata": {},
   "source": [
    "Here, the intersection of set1 and set2 yields {3}, as it contains the element that is present in both sets.\n",
    "\n",
    "For example, Consider you're organizing a meetup for two social groups, one interested in hiking and the other in photography. You want to identify interests that are common to both groups to plan activities accordingly."
   ]
  },
  {
   "cell_type": "code",
   "execution_count": 11,
   "metadata": {},
   "outputs": [
    {
     "name": "stdout",
     "output_type": "stream",
     "text": [
      "Common interests of both the group: {'hiking'}\n"
     ]
    }
   ],
   "source": [
    "hiking_group = {\"hiking\", \"camping\", \"outdoors\"}\n",
    "photography_group = {\"photography\", \"editing\", \"hiking\"}\n",
    "\n",
    "common_interests = hiking_group & photography_group\n",
    "\n",
    "print(\"Common interests of both the group:\",common_interests)"
   ]
  },
  {
   "cell_type": "markdown",
   "metadata": {},
   "source": [
    "Here, the intersection operation reveals that both groups share an interest in hiking, suggesting it as a potential activity for the combined meetup.\n",
    "\n",
    "- ### Difference (-):\n",
    "The difference between two sets A and B is denoted by 𝐴 − 𝐵. This operation subtracts elements of one set from another and returns the remaining elements in a new set. It includes elements that are present in the first set but not in the second set. \n",
    "\n",
    "For example:"
   ]
  },
  {
   "cell_type": "code",
   "execution_count": 7,
   "metadata": {},
   "outputs": [
    {
     "name": "stdout",
     "output_type": "stream",
     "text": [
      "Difference: {1, 2}\n"
     ]
    }
   ],
   "source": [
    "set1 = {1, 2, 3}\n",
    "set2 = {3, 4, 5}\n",
    "difference_set = set1 - set2  # Output: {1, 2}\n",
    "print(\"Difference:\",difference_set)"
   ]
  },
  {
   "cell_type": "markdown",
   "metadata": {},
   "source": [
    "In this case, the difference between set1 and set2 results in {1, 2}, as it includes elements that are present in set1 but not in set2.\n",
    "\n",
    "For example, Suppose you have a list of recommended books and a list of books you've already read. You want to filter out the recommended books that you've already read to refine your reading list."
   ]
  },
  {
   "cell_type": "code",
   "execution_count": 12,
   "metadata": {},
   "outputs": [
    {
     "name": "stdout",
     "output_type": "stream",
     "text": [
      "Books that already read: {'The Catcher in the Rye', 'To Kill a Mockingbird'}\n"
     ]
    }
   ],
   "source": [
    "recommended_books = {\"The Catcher in the Rye\", \"1984\", \"To Kill a Mockingbird\", \"Harry Potter\"}\n",
    "read_books = {\"1984\", \"Harry Potter\"}\n",
    "\n",
    "unread_books = recommended_books - read_books\n",
    "\n",
    "print(\"Books that already read:\",unread_books)"
   ]
  },
  {
   "cell_type": "markdown",
   "metadata": {},
   "source": [
    "In this case, the difference operation removes the books you've already read from the list of recommended books, leaving only the unread ones.\n",
    "\n",
    "- ### Symmetric Difference (^):\n",
    "The symmetric difference of two sets A and B, denoted by 𝐴 ^ 𝐵.The symmetric difference operation generates a new set containing elements that are exclusive to each set. It includes elements that are present in either set, but not in both sets.\n",
    "\n",
    "For example:"
   ]
  },
  {
   "cell_type": "code",
   "execution_count": 8,
   "metadata": {},
   "outputs": [
    {
     "name": "stdout",
     "output_type": "stream",
     "text": [
      "Symmetric Difference: {1, 2, 4, 5}\n"
     ]
    }
   ],
   "source": [
    "set1 = {1, 2, 3}\n",
    "set2 = {3, 4, 5}\n",
    "symmetric_difference_set = set1 ^ set2  # Output: {1, 2, 4, 5}\n",
    "print(\"Symmetric Difference:\",symmetric_difference_set)"
   ]
  },
  {
   "cell_type": "markdown",
   "metadata": {},
   "source": [
    "Here, the symmetric difference between set1 and set2 yields {1, 2, 4, 5}, as it includes elements that are exclusive to either set.\n",
    "\n",
    "For example, Suppose you're deciding between two restaurants for dinner, each with its own menu. You want to identify dishes that are unique to each restaurant to make an informed decision."
   ]
  },
  {
   "cell_type": "code",
   "execution_count": 13,
   "metadata": {},
   "outputs": [
    {
     "name": "stdout",
     "output_type": "stream",
     "text": [
      "Unique Dishes: {'garlic bread', 'burger', 'fries', 'ice cream', 'salad', 'pizza'}\n"
     ]
    }
   ],
   "source": [
    "restaurant1_menu = {\"pizza\", \"pasta\", \"salad\", \"garlic bread\"}\n",
    "restaurant2_menu = {\"pasta\", \"burger\", \"fries\", \"ice cream\"}\n",
    "\n",
    "unique_choices = restaurant1_menu ^ restaurant2_menu\n",
    "\n",
    "print(\"Unique Dishes:\",unique_choices)"
   ]
  },
  {
   "cell_type": "markdown",
   "metadata": {},
   "source": [
    "In this example, the symmetric difference operation identifies dishes that are exclusive to each restaurant, helping you compare their offerings.\n",
    "\n",
    "## Set Methods in Python\n",
    "\n",
    "In addition to basic set operations, Python sets also come with a variety of methods for more advanced manipulation. These methods allow you to add and remove elements, perform set operations in place, check for containment, and more. Here are some commonly used set methods:\n",
    "\n",
    "- #### **add(element):**\n",
    "This method adds the specified element to the set if it is not already present."
   ]
  },
  {
   "cell_type": "code",
   "execution_count": 14,
   "metadata": {},
   "outputs": [
    {
     "name": "stdout",
     "output_type": "stream",
     "text": [
      "Before add(): {1, 2, 3}\n",
      "After add(): {1, 2, 3, 4}\n"
     ]
    }
   ],
   "source": [
    "my_set = {1, 2, 3}\n",
    "print(\"Before add():\",my_set)\n",
    "my_set.add(4)\n",
    "print(\"After add():\",my_set)  # Output: {1, 2, 3, 4}"
   ]
  },
  {
   "cell_type": "markdown",
   "metadata": {},
   "source": [
    "- #### **remove(element):**\n",
    "This method removes the specified element from the set. Raises a KeyError if the element is not present."
   ]
  },
  {
   "cell_type": "code",
   "execution_count": 15,
   "metadata": {},
   "outputs": [
    {
     "name": "stdout",
     "output_type": "stream",
     "text": [
      "Before remove(): {1, 2, 3}\n",
      "After remove(): {1, 3}\n"
     ]
    }
   ],
   "source": [
    "my_set = {1, 2, 3}\n",
    "print(\"Before remove():\",my_set)\n",
    "my_set.remove(2)\n",
    "print(\"After remove():\",my_set)  # Output: {1, 3}"
   ]
  },
  {
   "cell_type": "markdown",
   "metadata": {},
   "source": [
    "- #### **discard(element):**\n",
    "This method removes the specified element from the set if it exists. It does not raise an error if the element is not found."
   ]
  },
  {
   "cell_type": "code",
   "execution_count": 16,
   "metadata": {},
   "outputs": [
    {
     "name": "stdout",
     "output_type": "stream",
     "text": [
      "Before discard(): {1, 2, 3}\n",
      "After discard(): {1, 3}\n"
     ]
    }
   ],
   "source": [
    "my_set = {1, 2, 3}\n",
    "print(\"Before discard():\",my_set)\n",
    "my_set.discard(2)\n",
    "print(\"After discard():\",my_set)  # Output: {1, 3}"
   ]
  },
  {
   "cell_type": "markdown",
   "metadata": {},
   "source": [
    "- #### **pop():**\n",
    "This method removes and returns an arbitrary element from the set. Raises a KeyError if the set is empty."
   ]
  },
  {
   "cell_type": "code",
   "execution_count": 17,
   "metadata": {},
   "outputs": [
    {
     "name": "stdout",
     "output_type": "stream",
     "text": [
      "Before pop(): {1, 2, 3}\n",
      "After pop(): 1\n"
     ]
    }
   ],
   "source": [
    "my_set = {1, 2, 3}\n",
    "print(\"Before pop():\",my_set)\n",
    "removed_element = my_set.pop()\n",
    "print(\"After pop():\",removed_element)  # Output: 1"
   ]
  },
  {
   "cell_type": "markdown",
   "metadata": {},
   "source": [
    "- #### **clear():**\n",
    "This method removes all elements from the set, making it an empty set."
   ]
  },
  {
   "cell_type": "code",
   "execution_count": 18,
   "metadata": {},
   "outputs": [
    {
     "name": "stdout",
     "output_type": "stream",
     "text": [
      "Before clear(): {1, 2, 3}\n",
      "After clear(): set()\n"
     ]
    }
   ],
   "source": [
    "my_set = {1, 2, 3}\n",
    "print(\"Before clear():\",my_set)\n",
    "my_set.clear()\n",
    "print(\"After clear():\",my_set)  # Output: set()"
   ]
  },
  {
   "cell_type": "markdown",
   "metadata": {},
   "source": [
    "- #### **copy():**\n",
    "This method returns a shallow copy of the set, allowing you to work with a duplicate set without modifying the original."
   ]
  },
  {
   "cell_type": "code",
   "execution_count": 19,
   "metadata": {},
   "outputs": [
    {
     "name": "stdout",
     "output_type": "stream",
     "text": [
      "Before copy(): {1, 2, 3}\n",
      "After copy(): {1, 2, 3}\n"
     ]
    }
   ],
   "source": [
    "my_set = {1, 2, 3}\n",
    "print(\"Before copy():\",my_set)\n",
    "copied_set = my_set.copy()\n",
    "print(\"After copy():\",copied_set)  # Output: {1, 2, 3}"
   ]
  },
  {
   "cell_type": "markdown",
   "metadata": {},
   "source": [
    "- #### **update(iterable):**\n",
    "This method adds elements from the specified iterable to the set."
   ]
  },
  {
   "cell_type": "code",
   "execution_count": 20,
   "metadata": {},
   "outputs": [
    {
     "name": "stdout",
     "output_type": "stream",
     "text": [
      "Before update(): {1, 2, 3}\n",
      "After update(): {1, 2, 3, 4, 5}\n"
     ]
    }
   ],
   "source": [
    "my_set = {1, 2, 3}\n",
    "print(\"Before update():\",my_set)\n",
    "my_set.update([4, 5])\n",
    "print(\"After update():\",my_set)  # Output: {1, 2, 3, 4, 5}"
   ]
  },
  {
   "cell_type": "markdown",
   "metadata": {},
   "source": [
    "- #### **issubset(other_set):**\n",
    "This method checks if all elements of the set are present in the specified set, returning True if it's a subset."
   ]
  },
  {
   "cell_type": "code",
   "execution_count": 21,
   "metadata": {},
   "outputs": [
    {
     "name": "stdout",
     "output_type": "stream",
     "text": [
      "True\n"
     ]
    }
   ],
   "source": [
    "set1 = {1, 2}\n",
    "set2 = {1, 2, 3, 4}\n",
    "result = set1.issubset(set2)\n",
    "print(result)  # Output: True"
   ]
  },
  {
   "cell_type": "markdown",
   "metadata": {},
   "source": [
    "- #### **issuperset(other_set):**\n",
    "This method checks if the set contains all elements of the specified set, returning True if it's a superset."
   ]
  },
  {
   "cell_type": "code",
   "execution_count": 22,
   "metadata": {},
   "outputs": [
    {
     "name": "stdout",
     "output_type": "stream",
     "text": [
      "True\n"
     ]
    }
   ],
   "source": [
    "set1 = {1, 2, 3, 4}\n",
    "set2 = {1, 2}\n",
    "result = set1.issuperset(set2)\n",
    "print(result)  # Output: True"
   ]
  },
  {
   "cell_type": "markdown",
   "metadata": {},
   "source": [
    "- #### **isdisjoint(other_set):**\n",
    "This method checks if the set has no elements in common with the specified set, returning True if they are disjoint."
   ]
  },
  {
   "cell_type": "code",
   "execution_count": 23,
   "metadata": {},
   "outputs": [
    {
     "name": "stdout",
     "output_type": "stream",
     "text": [
      "True\n"
     ]
    }
   ],
   "source": [
    "set1 = {1, 2, 3}\n",
    "set2 = {4, 5, 6}\n",
    "result = set1.isdisjoint(set2)\n",
    "print(result)  # Output: True"
   ]
  },
  {
   "cell_type": "markdown",
   "metadata": {},
   "source": [
    "## Checking Membership with the 'in' Keyword\n",
    "\n",
    "In Python, you can check if an element is present in a set or other data structures using the in keyword. This keyword returns True if the element is found in the set, and False otherwise. It provides a convenient way to perform membership tests in Python.\n",
    "\n",
    "Here's how you can use the in keyword to check for membership:"
   ]
  },
  {
   "cell_type": "code",
   "execution_count": 24,
   "metadata": {},
   "outputs": [
    {
     "name": "stdout",
     "output_type": "stream",
     "text": [
      "True\n",
      "False\n"
     ]
    }
   ],
   "source": [
    "my_set = {1, 2, 3, 4, 5}\n",
    "\n",
    "# Check if an element is present in the set\n",
    "print(3 in my_set)  # Output: True\n",
    "print(6 in my_set)  # Output: False"
   ]
  },
  {
   "cell_type": "markdown",
   "metadata": {},
   "source": [
    "In this example, 3 in my_set returns True because the element 3 is present in the set my_set. Conversely, 6 in my_set returns False because 6 is not present in the set.\n",
    "\n",
    "The in keyword is particularly useful when you need to quickly check if an element exists in a set or other iterable object without having to iterate through all elements manually. It provides a concise and efficient way to perform membership checks in Python.\n",
    "\n",
    "## Set Comprehension in Python\n",
    "\n",
    "Set comprehension is a concise and elegant way to create sets in Python. It follows a similar syntax to list comprehension but produces sets instead. Set comprehension is useful for creating sets based on some logic or transformation applied to an iterable.\n",
    "\n",
    "Here's the general syntax of set comprehension:\n",
    "\n",
    "new_set = {expression for item in iterable if condition}\n",
    "\n",
    "Where:\n",
    "\n",
    "- expression is the value to include in the set.\n",
    "\n",
    "- item is the variable representing each element in the iterable.\n",
    "\n",
    "- iterable is the sequence of elements to iterate over.\n",
    "\n",
    "- condition (optional) is a filter to include only certain elements based on a condition.\n",
    "\n",
    "Here's an example to illustrate set comprehension:"
   ]
  },
  {
   "cell_type": "code",
   "execution_count": 25,
   "metadata": {},
   "outputs": [
    {
     "name": "stdout",
     "output_type": "stream",
     "text": [
      "{1, 4, 9, 16, 25}\n"
     ]
    }
   ],
   "source": [
    "# Creating a set of squares of numbers from 1 to 5\n",
    "squares = {x * x for x in range(1, 6)}\n",
    "print(squares)  # Output: {1, 4, 9, 16, 25}"
   ]
  },
  {
   "cell_type": "markdown",
   "metadata": {},
   "source": [
    "In this example, the set comprehension {x * x for x in range(1, 6)} generates a set of squares of numbers from 1 to 5.\n",
    "\n",
    "Set comprehension can also include a conditional expression to filter elements:"
   ]
  },
  {
   "cell_type": "code",
   "execution_count": 26,
   "metadata": {},
   "outputs": [
    {
     "name": "stdout",
     "output_type": "stream",
     "text": [
      "{16, 4}\n"
     ]
    }
   ],
   "source": [
    "# Creating a set of even squares of numbers from 1 to 5\n",
    "even_squares = {x * x for x in range(1, 6) if x % 2 == 0}\n",
    "print(even_squares)  # Output: {4, 16}"
   ]
  },
  {
   "cell_type": "markdown",
   "metadata": {},
   "source": [
    "Here, the conditional expression if x % 2 == 0 filters out odd numbers, resulting in a set containing only even squares.\n",
    "\n",
    "Set comprehension offers a concise and expressive way to create sets based on iterable data, enabling developers to write clean and readable code.\n",
    "\n",
    "For example, let's say you're building a social media platform, and you want to analyze the interests of your users to understand their preferences better. You have data containing the interests of users in different categories such as sports, music, movies, and books. You want to create a set of unique interests across all users for further analysis."
   ]
  },
  {
   "cell_type": "code",
   "execution_count": 28,
   "metadata": {},
   "outputs": [
    {
     "name": "stdout",
     "output_type": "stream",
     "text": [
      "Unique Interests: {'sports', 'traveling', 'music', 'cooking', 'reading', 'movies', 'gaming', 'photography'}\n"
     ]
    }
   ],
   "source": [
    "# Sample data representing user interests in different categories\n",
    "user_interests = {\n",
    "    'Alice': {'sports', 'music', 'reading'},\n",
    "    'Bob': {'movies', 'music', 'gaming'},\n",
    "    'Charlie': {'sports', 'music', 'cooking'},\n",
    "    'David': {'sports', 'traveling', 'photography'},\n",
    "    'Emma': {'music', 'reading', 'cooking'}\n",
    "}\n",
    "\n",
    "# Using set comprehension to create a set of unique interests across all users\n",
    "unique_interests = {interest for interests in user_interests.values() for interest in interests}\n",
    "\n",
    "print(\"Unique Interests:\",unique_interests)"
   ]
  },
  {
   "cell_type": "markdown",
   "metadata": {},
   "source": [
    "In this example, we use set comprehension to create a set unique_interests containing all unique interests across all users. We iterate over the values of the user_interests dictionary (which are sets of interests for each user), and then iterate over each interest within those sets. This allows us to collect all unique interests into one set, which can be further analyzed or used for personalization purposes on the social media platform.\n",
    "\n",
    "## Advanced Set Operations in Python\n",
    "\n",
    "- #### **Cartesian Product:**\n",
    "The Cartesian product of two sets A and B, denoted as A × B, is the set of all ordered pairs (a, b) where 'a' is in set A and 'b' is in set B. This operation is useful for combining elements from two sets to form all possible pairs."
   ]
  },
  {
   "cell_type": "code",
   "execution_count": 29,
   "metadata": {},
   "outputs": [
    {
     "name": "stdout",
     "output_type": "stream",
     "text": [
      "{(2, 'c'), (1, 'c'), (1, 'b'), (2, 'a'), (1, 'a'), (2, 'b')}\n"
     ]
    }
   ],
   "source": [
    "set1 = {1, 2}\n",
    "set2 = {'a', 'b', 'c'}\n",
    "cartesian_product = {(x, y) for x in set1 for y in set2}\n",
    "print(cartesian_product)"
   ]
  },
  {
   "cell_type": "markdown",
   "metadata": {},
   "source": [
    "- #### **Power Set:**\n",
    "The power set of a set A, denoted as P(A), is the set of all subsets of A, including the empty set and A itself. This operation is useful for generating all possible subsets of a given set."
   ]
  },
  {
   "cell_type": "code",
   "execution_count": 30,
   "metadata": {},
   "outputs": [
    {
     "name": "stdout",
     "output_type": "stream",
     "text": [
      "{frozenset({2}), frozenset({2, 3}), frozenset({1, 2, 3}), frozenset({1, 2}), frozenset({3}), frozenset({1}), frozenset(), frozenset({1, 3})}\n"
     ]
    }
   ],
   "source": [
    "def power_set(s):\n",
    "    if len(s) == 0:\n",
    "        return {frozenset()}\n",
    "    element = s.pop()\n",
    "    subsets = power_set(s)\n",
    "    return subsets.union({subset.union({element}) for subset in subsets})\n",
    "\n",
    "my_set = {1, 2, 3}\n",
    "print(power_set(my_set))"
   ]
  },
  {
   "cell_type": "markdown",
   "metadata": {},
   "source": [
    "- #### **Frozen Set:**\n",
    "A frozenset is an immutable version of a set, meaning its elements cannot be changed after creation. This operation is useful when you need to create a set that remains constant and cannot be modified."
   ]
  },
  {
   "cell_type": "code",
   "execution_count": 31,
   "metadata": {},
   "outputs": [
    {
     "name": "stdout",
     "output_type": "stream",
     "text": [
      "frozenset({1, 2, 3})\n"
     ]
    }
   ],
   "source": [
    "my_set = {1, 2, 3}\n",
    "frozen_set = frozenset(my_set)\n",
    "print(frozen_set)"
   ]
  },
  {
   "cell_type": "markdown",
   "metadata": {},
   "source": [
    "- #### **Set Algebra (SymPy's BooleanAlgebra):**\n",
    "SymPy's BooleanAlgebra provides support for set algebra operations like complement, intersection, and union. This operation is useful for performing advanced set operations in symbolic mathematics."
   ]
  },
  {
   "cell_type": "code",
   "execution_count": 33,
   "metadata": {},
   "outputs": [
    {
     "name": "stdout",
     "output_type": "stream",
     "text": [
      "{3}\n",
      "{1, 2, 3, 4, 5}\n",
      "{4, 5}\n"
     ]
    }
   ],
   "source": [
    "from sympy import BooleanAlgebra\n",
    "\n",
    "ba = BooleanAlgebra()\n",
    "set1 = {1, 2, 3}\n",
    "set2 = {3, 4, 5}\n",
    "\n",
    "# Intersection\n",
    "intersection = ba.intersection(set1, set2)\n",
    "print(intersection)\n",
    "\n",
    "# Union\n",
    "union = ba.union(set1, set2)\n",
    "print(union)\n",
    "\n",
    "# Complement of set1 in set2\n",
    "complement = ba.complement(set1, set2)\n",
    "print(complement)\n"
   ]
  }
 ],
 "metadata": {
  "kernelspec": {
   "display_name": "Python 3",
   "language": "python",
   "name": "python3"
  },
  "language_info": {
   "codemirror_mode": {
    "name": "ipython",
    "version": 3
   },
   "file_extension": ".py",
   "mimetype": "text/x-python",
   "name": "python",
   "nbconvert_exporter": "python",
   "pygments_lexer": "ipython3",
   "version": "3.12.2"
  }
 },
 "nbformat": 4,
 "nbformat_minor": 2
}
