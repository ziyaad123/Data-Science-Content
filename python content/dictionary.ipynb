{
 "cells": [
  {
   "cell_type": "markdown",
   "metadata": {},
   "source": [
    "# Dictionary\n",
    "A dictionary in Python is an unordered collection of key-value pairs. It is a mutable data type, which means you can add, modify, or remove elements after its creation. Dictionaries are useful for storing and retrieving data in an efficient and flexible way, particularly when you need to associate values with unique keys."
   ]
  },
  {
   "cell_type": "markdown",
   "metadata": {},
   "source": [
    "# Creating a Dictionary\n",
    "* You can create a dictionary using the dict() constructor or by enclosing key-value pairs inside curly braces {}."
   ]
  },
  {
   "cell_type": "code",
   "execution_count": 68,
   "metadata": {},
   "outputs": [],
   "source": [
    "# Using the dict() constructor\n",
    "empty_dict = dict()\n",
    "\n",
    "# Using curly braces\n",
    "person = {'name': 'John', 'age': 30, 'city': 'New York'}"
   ]
  },
  {
   "cell_type": "markdown",
   "metadata": {},
   "source": [
    "# Accessing and Modifying Values\n",
    "* You can access values in a dictionary using their corresponding keys."
   ]
  },
  {
   "cell_type": "code",
   "execution_count": 69,
   "metadata": {},
   "outputs": [
    {
     "name": "stdout",
     "output_type": "stream",
     "text": [
      "John\n",
      "30\n"
     ]
    }
   ],
   "source": [
    "# Accessing values\n",
    "print(person['name'])  \n",
    "print(person.get('age'))    \n",
    "\n",
    "# Modifying values\n",
    "person['age'] = 31"
   ]
  },
  {
   "cell_type": "markdown",
   "metadata": {},
   "source": [
    "# Practical Examples and Use Cases\n",
    "## Dictionaries are widely used in various applications, such as:\n",
    "* Data Structures: Dictionaries can represent complex data structures like objects, databases, or caches.\n"
   ]
  },
  {
   "cell_type": "code",
   "execution_count": 70,
   "metadata": {},
   "outputs": [
    {
     "name": "stdout",
     "output_type": "stream",
     "text": [
      "John Doe\n",
      "New York\n"
     ]
    }
   ],
   "source": [
    "# Representing a person object\n",
    "person = {\n",
    "    'name': 'John Doe',\n",
    "    'age': 30,\n",
    "    'address': {\n",
    "        'street': '123 Main St',\n",
    "        'city': 'New York',\n",
    "        'state': 'NY'\n",
    "    }\n",
    "}\n",
    "\n",
    "# Accessing nested data\n",
    "print(person['name'])  \n",
    "print(person['address']['city'])  "
   ]
  },
  {
   "cell_type": "markdown",
   "metadata": {},
   "source": [
    "* Configuration Files: Configuration settings for applications are often stored in dictionaries."
   ]
  },
  {
   "cell_type": "code",
   "execution_count": 71,
   "metadata": {},
   "outputs": [],
   "source": [
    "# Configuration settings for an application\n",
    "config = {\n",
    "    'debug': True,\n",
    "    'log_file': 'app.log',\n",
    "    'database': {\n",
    "        'host': 'localhost',\n",
    "        'user': 'root',\n",
    "        'password': 'secret'\n",
    "    }\n",
    "}\n",
    "\n",
    "# Accessing configuration values\n",
    "debug_mode = config['debug']\n",
    "log_file = config['log_file']\n",
    "db_host = config['database']['host']"
   ]
  },
  {
   "cell_type": "markdown",
   "metadata": {},
   "source": [
    "* Counting Occurrences: Dictionaries can be used to count the occurrences of elements in a collection."
   ]
  },
  {
   "cell_type": "code",
   "execution_count": 72,
   "metadata": {},
   "outputs": [
    {
     "name": "stdout",
     "output_type": "stream",
     "text": [
      "{'Hello,': 2, 'world!': 1, 'Python!': 1}\n"
     ]
    }
   ],
   "source": [
    "# Counting word occurrences in a sentence\n",
    "sentence = \"Hello, world! Hello, Python!\"\n",
    "word_counts = {}\n",
    "\n",
    "for word in sentence.split():\n",
    "    if word in word_counts:\n",
    "        word_counts[word] += 1\n",
    "    else:\n",
    "        word_counts[word] = 1\n",
    "\n",
    "print(word_counts)  "
   ]
  },
  {
   "cell_type": "markdown",
   "metadata": {},
   "source": [
    "* Data Processing: Dictionaries are useful for data manipulation, filtering, and analysis tasks."
   ]
  },
  {
   "cell_type": "code",
   "execution_count": 73,
   "metadata": {},
   "outputs": [
    {
     "name": "stdout",
     "output_type": "stream",
     "text": [
      "[{'name': 'Bob', 'age': 35, 'city': 'Chicago'}]\n",
      "{'New York': [{'name': 'John', 'age': 25, 'city': 'New York'}], 'Los Angeles': [{'name': 'Jane', 'age': 30, 'city': 'Los Angeles'}], 'Chicago': [{'name': 'Bob', 'age': 35, 'city': 'Chicago'}]}\n"
     ]
    }
   ],
   "source": [
    "# Data manipulation and filtering\n",
    "data = [\n",
    "    {'name': 'John', 'age': 25, 'city': 'New York'},\n",
    "    {'name': 'Jane', 'age': 30, 'city': 'Los Angeles'},\n",
    "    {'name': 'Bob', 'age': 35, 'city': 'Chicago'}\n",
    "]\n",
    "\n",
    "# Filtering data based on a condition\n",
    "filtered_data = [person for person in data if person['age'] > 30]\n",
    "print(filtered_data)  \n",
    "\n",
    "# Grouping data by city\n",
    "grouped_data = {}\n",
    "for person in data:\n",
    "    city = person['city']\n",
    "    if city in grouped_data:\n",
    "        grouped_data[city].append(person)\n",
    "    else:\n",
    "        grouped_data[city] = [person]\n",
    "\n",
    "print(grouped_data)"
   ]
  },
  {
   "cell_type": "markdown",
   "metadata": {},
   "source": [
    "# Dictionary Methods\n",
    "### Dictionaries provide several built-in methods for working with them efficiently:\n",
    "* keys(): Returns a view object containing the dictionary's keys."
   ]
  },
  {
   "cell_type": "code",
   "execution_count": 74,
   "metadata": {},
   "outputs": [
    {
     "name": "stdout",
     "output_type": "stream",
     "text": [
      "dict_keys(['name', 'age', 'city'])\n"
     ]
    }
   ],
   "source": [
    "keys = person.keys()\n",
    "print(keys) "
   ]
  },
  {
   "cell_type": "markdown",
   "metadata": {},
   "source": [
    "* values(): Returns a view object containing the dictionary's values."
   ]
  },
  {
   "cell_type": "code",
   "execution_count": 75,
   "metadata": {},
   "outputs": [
    {
     "name": "stdout",
     "output_type": "stream",
     "text": [
      "dict_values(['Bob', 35, 'Chicago'])\n"
     ]
    }
   ],
   "source": [
    "values = person.values()\n",
    "print(values)"
   ]
  },
  {
   "cell_type": "markdown",
   "metadata": {},
   "source": [
    "* items() : Returns a view object that displays a list of all the values in the dictionary."
   ]
  },
  {
   "cell_type": "code",
   "execution_count": 76,
   "metadata": {},
   "outputs": [
    {
     "name": "stdout",
     "output_type": "stream",
     "text": [
      "dict_items([('name', 'Bob'), ('age', 35), ('city', 'Chicago')])\n"
     ]
    }
   ],
   "source": [
    "items = person.items()\n",
    "print(items)"
   ]
  },
  {
   "cell_type": "markdown",
   "metadata": {},
   "source": [
    "* get(key, default=None) : Returns the value for the specified key if the key is in the dictionary. If the key is not found, it returns the default value provided as the second argument (None if not specified)."
   ]
  },
  {
   "cell_type": "code",
   "execution_count": 77,
   "metadata": {},
   "outputs": [
    {
     "name": "stdout",
     "output_type": "stream",
     "text": [
      "None\n",
      "0\n"
     ]
    }
   ],
   "source": [
    "print(person.get('Name'))  \n",
    "print(person.get('phonenumber', 0))  "
   ]
  },
  {
   "cell_type": "markdown",
   "metadata": {},
   "source": [
    "* pop(key, default=None) : Removes the key-value pair from the dictionary and returns the value. If the key is not found, it returns the default value provided as the second argument (raises a KeyError if not specified)."
   ]
  },
  {
   "cell_type": "code",
   "execution_count": 78,
   "metadata": {},
   "outputs": [
    {
     "name": "stdout",
     "output_type": "stream",
     "text": [
      "2\n",
      "{'apple': 1, 'orange': 3}\n"
     ]
    }
   ],
   "source": [
    "my_dict = {'apple': 1, 'banana': 2, 'orange': 3}\n",
    "removed_value = my_dict.pop('banana')\n",
    "print(removed_value) \n",
    "print(my_dict)  # Output: {'apple': 1, 'orange': 3}"
   ]
  },
  {
   "cell_type": "markdown",
   "metadata": {},
   "source": [
    "* clear() : Definition: Removes all the key-value pairs from the dictionary."
   ]
  },
  {
   "cell_type": "code",
   "execution_count": 79,
   "metadata": {},
   "outputs": [
    {
     "name": "stdout",
     "output_type": "stream",
     "text": [
      "{}\n"
     ]
    }
   ],
   "source": [
    "my_dict.clear()\n",
    "print(my_dict)"
   ]
  },
  {
   "cell_type": "markdown",
   "metadata": {},
   "source": [
    "* copy() : Returns a shallow copy of the dictionary."
   ]
  },
  {
   "cell_type": "code",
   "execution_count": 80,
   "metadata": {},
   "outputs": [
    {
     "name": "stdout",
     "output_type": "stream",
     "text": [
      "{'name': 'Bob', 'age': 35, 'city': 'Chicago'}\n"
     ]
    }
   ],
   "source": [
    "new_dic = person.copy()\n",
    "print(new_dic)"
   ]
  },
  {
   "cell_type": "markdown",
   "metadata": {},
   "source": [
    "# Adding and Removing Key-Value Pairs"
   ]
  },
  {
   "cell_type": "code",
   "execution_count": 81,
   "metadata": {},
   "outputs": [],
   "source": [
    "person['email'] = 'john@example.com'  # Adding a new pair\n",
    "popped_value = person.pop('age')  # Removing a pair"
   ]
  },
  {
   "cell_type": "markdown",
   "metadata": {},
   "source": [
    "# Dictionary Comprehension\n",
    "## Concise way to create a new dictionary from an iterable.\n",
    "* Example 1: Creating a dictionary from a list"
   ]
  },
  {
   "cell_type": "code",
   "execution_count": 82,
   "metadata": {},
   "outputs": [
    {
     "name": "stdout",
     "output_type": "stream",
     "text": [
      "{1: 1, 2: 4, 3: 9, 4: 16, 5: 25}\n"
     ]
    }
   ],
   "source": [
    "# List of numbers\n",
    "numbers = [1, 2, 3, 4, 5]\n",
    "\n",
    "# Dictionary with squares of numbers\n",
    "squares = {num: num**2 for num in numbers}\n",
    "print(squares)"
   ]
  },
  {
   "cell_type": "markdown",
   "metadata": {},
   "source": [
    "* Example 2: Creating a dictionary from another dictionary\n"
   ]
  },
  {
   "cell_type": "code",
   "execution_count": 83,
   "metadata": {},
   "outputs": [
    {
     "name": "stdout",
     "output_type": "stream",
     "text": [
      "{1: 'a', 2: 'b', 3: 'c'}\n"
     ]
    }
   ],
   "source": [
    "# Original dictionary\n",
    "original = {'a': 1, 'b': 2, 'c': 3}\n",
    "\n",
    "# New dictionary with keys and values swapped\n",
    "swapped = {value: key for key, value in original.items()}\n",
    "print(swapped)\n"
   ]
  },
  {
   "cell_type": "markdown",
   "metadata": {},
   "source": [
    "* Example 3: Creating a dictionary with conditional logic\n"
   ]
  },
  {
   "cell_type": "code",
   "execution_count": 84,
   "metadata": {},
   "outputs": [
    {
     "name": "stdout",
     "output_type": "stream",
     "text": [
      "{2: 8, 4: 64, 6: 216, 8: 512, 10: 1000}\n"
     ]
    }
   ],
   "source": [
    "# List of numbers\n",
    "numbers = [1, 2, 3, 4, 5, 6, 7, 8, 9, 10]\n",
    "\n",
    "# Dictionary with even numbers as keys and their cubes as values\n",
    "even_cubes = {num: num**3 for num in numbers if num % 2 == 0}\n",
    "print(even_cubes)\n"
   ]
  },
  {
   "cell_type": "markdown",
   "metadata": {},
   "source": [
    "* Example 4: Creating a dictionary from two lists\n"
   ]
  },
  {
   "cell_type": "code",
   "execution_count": 85,
   "metadata": {},
   "outputs": [
    {
     "name": "stdout",
     "output_type": "stream",
     "text": [
      "{'a': 1, 'b': 2, 'c': 3, 'd': 4, 'e': 5}\n"
     ]
    }
   ],
   "source": [
    "# List of keys\n",
    "keys = ['a', 'b', 'c', 'd', 'e']\n",
    "\n",
    "# List of values\n",
    "values = [1, 2, 3, 4, 5]\n",
    "\n",
    "# Dictionary from keys and values\n",
    "new_dict = {key: value for key, value in zip(keys, values)}\n",
    "print(new_dict)"
   ]
  },
  {
   "cell_type": "markdown",
   "metadata": {},
   "source": [
    "# Nesting Dictionaries \n",
    "* Dictionaries can contain other dictionaries as values, creating nested structures."
   ]
  },
  {
   "cell_type": "code",
   "execution_count": 86,
   "metadata": {},
   "outputs": [
    {
     "name": "stdout",
     "output_type": "stream",
     "text": [
      "john@example.com\n"
     ]
    }
   ],
   "source": [
    "person = {\n",
    "    'name': 'John',\n",
    "    'age': 30,\n",
    "    'contact': {\n",
    "        'email': 'john@example.com',\n",
    "        'phone': '123-456-7890'\n",
    "    }\n",
    "}\n",
    "\n",
    "print(person['contact']['email']) "
   ]
  },
  {
   "cell_type": "markdown",
   "metadata": {},
   "source": [
    "# Use Cases and Real World Examples\n",
    "* Representing complex data structures, caching, counting occurrences, data manipulation, and analysis.\n",
    "1. Counting occurrences:"
   ]
  },
  {
   "cell_type": "code",
   "execution_count": 87,
   "metadata": {},
   "outputs": [
    {
     "name": "stdout",
     "output_type": "stream",
     "text": [
      "{'Hello,': 2, 'world!': 1, 'Python!': 1}\n"
     ]
    }
   ],
   "source": [
    "sentence = \"Hello, world! Hello, Python!\"\n",
    "word_counts = {}\n",
    "\n",
    "for word in sentence.split():\n",
    "    if word in word_counts:\n",
    "        word_counts[word] += 1\n",
    "    else:\n",
    "        word_counts[word] = 1\n",
    "\n",
    "print(word_counts)  "
   ]
  },
  {
   "cell_type": "markdown",
   "metadata": {},
   "source": [
    "2. Data manipulation and analysis:"
   ]
  },
  {
   "cell_type": "code",
   "execution_count": 88,
   "metadata": {},
   "outputs": [
    {
     "name": "stdout",
     "output_type": "stream",
     "text": [
      "[{'name': 'Bob', 'age': 35, 'city': 'Chicago'}]\n"
     ]
    }
   ],
   "source": [
    "data = [\n",
    "    {'name': 'John', 'age': 25, 'city': 'New York'},\n",
    "    {'name': 'Jane', 'age': 30, 'city': 'Los Angeles'},\n",
    "    {'name': 'Bob', 'age': 35, 'city': 'Chicago'}\n",
    "]\n",
    "\n",
    "filtered_data = [person for person in data if person['age'] > 30]\n",
    "print(filtered_data)  "
   ]
  },
  {
   "cell_type": "markdown",
   "metadata": {},
   "source": [
    "# Solving Problems Using Sets and Dictionaries\n",
    "* Sets and dictionaries are often used together to solve various problems, such as finding unique elements, counting occurrences, or performing set operations."
   ]
  },
  {
   "cell_type": "code",
   "execution_count": 89,
   "metadata": {},
   "outputs": [
    {
     "name": "stdout",
     "output_type": "stream",
     "text": [
      "{4, 5}\n",
      "{1: 2, 2: 2, 3: 1, 4: 1, 5: 2}\n"
     ]
    }
   ],
   "source": [
    "# Finding common elements between two lists\n",
    "list1 = [1, 2, 3, 4, 5]\n",
    "list2 = [4, 5, 6, 7, 8]\n",
    "\n",
    "set1 = set(list1)\n",
    "set2 = set(list2)\n",
    "\n",
    "common_elements = set1.intersection(set2)\n",
    "print(common_elements)  \n",
    "\n",
    "# Counting unique elements\n",
    "elements = [1, 2, 3, 1, 2, 4, 5, 5]\n",
    "unique_counts = {element: elements.count(element) for element in set(elements)}\n",
    "print(unique_counts) "
   ]
  },
  {
   "cell_type": "markdown",
   "metadata": {},
   "source": [
    "# Examples from Data Manipulation, Filtering, and Analysis\n",
    "1. Data manipulation : Data manipulation refers to the process of changing or transforming data into a desired format or structure.\n",
    "* Example: Transforming a list of dictionaries into a dictionary of lists, grouped by a specific key."
   ]
  },
  {
   "cell_type": "code",
   "execution_count": 90,
   "metadata": {},
   "outputs": [
    {
     "name": "stdout",
     "output_type": "stream",
     "text": [
      "{'New York': [{'name': 'Alice', 'age': 25, 'city': 'New York'}, {'name': 'Charlie', 'age': 35, 'city': 'New York'}], 'Chicago': [{'name': 'Bob', 'age': 30, 'city': 'Chicago'}, {'name': 'David', 'age': 40, 'city': 'Chicago'}]}\n"
     ]
    }
   ],
   "source": [
    "# List of dictionaries\n",
    "data = [\n",
    "    {\"name\": \"Alice\", \"age\": 25, \"city\": \"New York\"},\n",
    "    {\"name\": \"Bob\", \"age\": 30, \"city\": \"Chicago\"},\n",
    "    {\"name\": \"Charlie\", \"age\": 35, \"city\": \"New York\"},\n",
    "    {\"name\": \"David\", \"age\": 40, \"city\": \"Chicago\"}\n",
    "]\n",
    "\n",
    "# Grouping data by city\n",
    "grouped_data = {}\n",
    "for person in data:\n",
    "    city = person[\"city\"]\n",
    "    if city in grouped_data:\n",
    "        grouped_data[city].append(person)\n",
    "    else:\n",
    "        grouped_data[city] = [person]\n",
    "\n",
    "print(grouped_data)"
   ]
  },
  {
   "cell_type": "markdown",
   "metadata": {},
   "source": [
    "2. Data Filtering : Data filtering is the process of selecting a subset of data based on specific criteria or conditions.\n",
    "* Example: Filtering a list of dictionaries to include only those with an age greater than 30."
   ]
  },
  {
   "cell_type": "code",
   "execution_count": 91,
   "metadata": {},
   "outputs": [
    {
     "name": "stdout",
     "output_type": "stream",
     "text": [
      "[{'name': 'Charlie', 'age': 35, 'city': 'New York'}, {'name': 'David', 'age': 40, 'city': 'Chicago'}]\n"
     ]
    }
   ],
   "source": [
    "# List of dictionaries\n",
    "data = [\n",
    "    {\"name\": \"Alice\", \"age\": 25, \"city\": \"New York\"},\n",
    "    {\"name\": \"Bob\", \"age\": 30, \"city\": \"Chicago\"},\n",
    "    {\"name\": \"Charlie\", \"age\": 35, \"city\": \"New York\"},\n",
    "    {\"name\": \"David\", \"age\": 40, \"city\": \"Chicago\"}\n",
    "]\n",
    "\n",
    "# Filtering data based on age\n",
    "filtered_data = [person for person in data if person[\"age\"] > 30]\n",
    "\n",
    "print(filtered_data)"
   ]
  },
  {
   "cell_type": "markdown",
   "metadata": {},
   "source": [
    "3. Data Analysis : Data analysis involves examining and interpreting data to uncover patterns, trends, and insights.\n",
    "* Example: Calculating the average age of people in each city."
   ]
  },
  {
   "cell_type": "code",
   "execution_count": 92,
   "metadata": {},
   "outputs": [
    {
     "name": "stdout",
     "output_type": "stream",
     "text": [
      "{'New York': 30.0, 'Chicago': 35.0}\n"
     ]
    }
   ],
   "source": [
    "# List of dictionaries\n",
    "data = [\n",
    "    {\"name\": \"Alice\", \"age\": 25, \"city\": \"New York\"},\n",
    "    {\"name\": \"Bob\", \"age\": 30, \"city\": \"Chicago\"},\n",
    "    {\"name\": \"Charlie\", \"age\": 35, \"city\": \"New York\"},\n",
    "    {\"name\": \"David\", \"age\": 40, \"city\": \"Chicago\"}\n",
    "]\n",
    "\n",
    "# Calculating average age by city\n",
    "city_ages = {}\n",
    "for person in data:\n",
    "    city = person[\"city\"]\n",
    "    age = person[\"age\"]\n",
    "    if city in city_ages:\n",
    "        city_ages[city].append(age)\n",
    "    else:\n",
    "        city_ages[city] = [age]\n",
    "\n",
    "average_ages = {city: sum(ages) / len(ages) for city, ages in city_ages.items()}\n",
    "\n",
    "print(average_ages)"
   ]
  },
  {
   "cell_type": "markdown",
   "metadata": {},
   "source": [
    "# Best practices for choosing betweek sets and dict\n",
    "* Use sets when dealing with unique elements and set operations.\n",
    "* Use dictionaries when you need to associate values with keys and perform frequent lookups."
   ]
  },
  {
   "cell_type": "markdown",
   "metadata": {},
   "source": [
    "## Use Sets when:\n",
    "1. Storing unique elements: Sets are ideal for storing unique elements and performing set operations like union, intersection, and difference."
   ]
  },
  {
   "cell_type": "code",
   "execution_count": 93,
   "metadata": {},
   "outputs": [
    {
     "name": "stdout",
     "output_type": "stream",
     "text": [
      "{1, 2, 3, 4}\n"
     ]
    }
   ],
   "source": [
    "# Storing unique elements\n",
    "unique_elements = set([1, 2, 3, 1, 2, 4])\n",
    "print(unique_elements)  \n",
    "\n",
    "# Set operations\n",
    "set1 = {1, 2, 3}\n",
    "set2 = {3, 4, 5}\n",
    "union_set = set1.union(set2) \n",
    "intersection_set = set1.intersection(set2)  "
   ]
  },
  {
   "cell_type": "markdown",
   "metadata": {},
   "source": [
    "2. Checking membership efficiently: Sets provide constant-time complexity for membership tests, making them efficient for checking if an element is present or not."
   ]
  },
  {
   "cell_type": "code",
   "execution_count": 94,
   "metadata": {},
   "outputs": [
    {
     "name": "stdout",
     "output_type": "stream",
     "text": [
      "True\n",
      "False\n"
     ]
    }
   ],
   "source": [
    "elements = set([1, 2, 3, 4, 5])\n",
    "print(3 in elements)  \n",
    "print(6 in elements)  "
   ]
  },
  {
   "cell_type": "markdown",
   "metadata": {},
   "source": [
    "3. Removing duplicate elements: Sets automatically remove duplicate elements, which can be useful in data cleaning or preprocessing tasks."
   ]
  },
  {
   "cell_type": "code",
   "execution_count": 95,
   "metadata": {},
   "outputs": [
    {
     "name": "stdout",
     "output_type": "stream",
     "text": [
      "[1, 2, 3, 4, 5]\n"
     ]
    }
   ],
   "source": [
    "duplicate_list = [1, 2, 3, 1, 2, 4, 5, 5]\n",
    "unique_list = list(set(duplicate_list))\n",
    "print(unique_list)  "
   ]
  },
  {
   "cell_type": "markdown",
   "metadata": {},
   "source": [
    "# Use Dictionaries when:\n",
    "\n",
    "1. Associating values with keys: Dictionaries are designed to store and retrieve values associated with unique keys."
   ]
  },
  {
   "cell_type": "code",
   "execution_count": 96,
   "metadata": {},
   "outputs": [
    {
     "name": "stdout",
     "output_type": "stream",
     "text": [
      "John\n"
     ]
    }
   ],
   "source": [
    "person = {'name': 'John', 'age': 30, 'city': 'New York'}\n",
    "print(person['name'])"
   ]
  },
  {
   "cell_type": "markdown",
   "metadata": {},
   "source": [
    "2. Frequent lookups and retrievals: Dictionaries provide constant-time complexity for lookups and retrievals, making them efficient for frequent data access operations."
   ]
  },
  {
   "cell_type": "code",
   "execution_count": 97,
   "metadata": {},
   "outputs": [
    {
     "name": "stdout",
     "output_type": "stream",
     "text": [
      "555-5678\n"
     ]
    }
   ],
   "source": [
    "phone_book = {'Alice': '555-1234', 'Bob': '555-5678', 'Charlie': '555-9012'}\n",
    "print(phone_book.get('Bob', 'Not found'))  "
   ]
  },
  {
   "cell_type": "markdown",
   "metadata": {},
   "source": [
    "3. Counting occurrences: Dictionaries can be used to count the occurrences of elements in a collection efficiently."
   ]
  },
  {
   "cell_type": "code",
   "execution_count": 98,
   "metadata": {},
   "outputs": [
    {
     "name": "stdout",
     "output_type": "stream",
     "text": [
      "{'Hello,': 2, 'world!': 1, 'Python!': 1}\n"
     ]
    }
   ],
   "source": [
    "sentence = \"Hello, world! Hello, Python!\"\n",
    "word_counts = {}\n",
    "for word in sentence.split():\n",
    "    if word in word_counts:\n",
    "        word_counts[word] += 1\n",
    "    else:\n",
    "        word_counts[word] = 1\n",
    "print(word_counts)  "
   ]
  },
  {
   "cell_type": "markdown",
   "metadata": {},
   "source": [
    "4. Representing complex data structures: Dictionaries can be nested to represent complex data structures like databases, JSON data, or configuration files."
   ]
  },
  {
   "cell_type": "code",
   "execution_count": 99,
   "metadata": {},
   "outputs": [
    {
     "name": "stdout",
     "output_type": "stream",
     "text": [
      "{'host': 'localhost', 'user': 'root', 'password': 'secret'}\n",
      "{'port': 8000, 'enabled': True}\n"
     ]
    }
   ],
   "source": [
    "config = {\n",
    "    'database': {\n",
    "        'host': 'localhost',\n",
    "        'user': 'root',\n",
    "        'password': 'secret'\n",
    "    },\n",
    "    'server': {\n",
    "        'port': 8000,\n",
    "        'enabled': True\n",
    "    }\n",
    "}\n",
    "print(config['database'])\n",
    "print(config['server'])"
   ]
  },
  {
   "cell_type": "markdown",
   "metadata": {},
   "source": [
    "* In general, sets are more memory-efficient than dictionaries when dealing with unique elements, while dictionaries provide more functionality and flexibility for associating values with keys and efficient lookups. If you need both unique elements and key-value associations, you can combine sets and dictionaries in your solution.\n",
    "* By understanding the strengths and use cases of sets and dictionaries, you can choose the appropriate data structure for your problem and write more efficient and readable code."
   ]
  },
  {
   "cell_type": "markdown",
   "metadata": {},
   "source": [
    "## Few questions related to dictionaries "
   ]
  },
  {
   "cell_type": "markdown",
   "metadata": {},
   "source": [
    "1. Merge Two Dictionaries\n",
    "\n",
    "Write a function that takes two dictionaries as input and returns a new dictionary that combines all the key-value pairs from both dictionaries. If a key exists in both dictionaries, the value from the second dictionary should overwrite the value from the first dictionary."
   ]
  },
  {
   "cell_type": "code",
   "execution_count": 1,
   "metadata": {},
   "outputs": [
    {
     "name": "stdout",
     "output_type": "stream",
     "text": [
      "{'a': 1, 'b': 3, 'c': 4}\n"
     ]
    }
   ],
   "source": [
    "def merge_dicts(dict1, dict2):\n",
    "    merged = dict1.copy()\n",
    "    merged.update(dict2)\n",
    "    return merged\n",
    "\n",
    "dict1 = {'a': 1, 'b': 2}\n",
    "dict2 = {'b': 3, 'c': 4}\n",
    "merged_dict = merge_dicts(dict1, dict2)\n",
    "print(merged_dict) "
   ]
  },
  {
   "cell_type": "markdown",
   "metadata": {},
   "source": [
    "2. Invert a Dictionary\n",
    "\n",
    "Write a function that takes a dictionary as input and returns a new dictionary with the keys and values swapped."
   ]
  },
  {
   "cell_type": "code",
   "execution_count": 2,
   "metadata": {},
   "outputs": [
    {
     "name": "stdout",
     "output_type": "stream",
     "text": [
      "{1: 'a', 2: 'b', 3: 'c'}\n"
     ]
    }
   ],
   "source": [
    "def invert_dict(dictionary):\n",
    "    inverted = {value: key for key, value in dictionary.items()}\n",
    "    return inverted\n",
    "\n",
    "original_dict = {'a': 1, 'b': 2, 'c': 3}\n",
    "inverted_dict = invert_dict(original_dict)\n",
    "print(inverted_dict) "
   ]
  },
  {
   "cell_type": "markdown",
   "metadata": {},
   "source": [
    "3. Sort a Dictionary by Value\n",
    "\n",
    "Write a function that takes a dictionary as input and returns a new dictionary with the key-value pairs sorted by value in ascending order."
   ]
  },
  {
   "cell_type": "code",
   "execution_count": 3,
   "metadata": {},
   "outputs": [
    {
     "name": "stdout",
     "output_type": "stream",
     "text": [
      "{'a': 1, 'b': 2, 'c': 3}\n"
     ]
    }
   ],
   "source": [
    "def sort_dict_by_value(dictionary):\n",
    "    sorted_dict = dict(sorted(dictionary.items(), key=lambda x: x[1]))\n",
    "    return sorted_dict\n",
    "\n",
    "unsorted_dict = {'b': 2, 'a': 1, 'c': 3}\n",
    "sorted_dict = sort_dict_by_value(unsorted_dict)\n",
    "print(sorted_dict)"
   ]
  },
  {
   "cell_type": "markdown",
   "metadata": {},
   "source": [
    "4. Remove Duplicate Values from a Dictionary\n",
    "\n",
    "Write a function that takes a dictionary as input and returns a new dictionary with duplicate values removed. If there are multiple keys associated with the same value, the function should keep only the first occurrence of that value."
   ]
  },
  {
   "cell_type": "code",
   "execution_count": 4,
   "metadata": {},
   "outputs": [
    {
     "name": "stdout",
     "output_type": "stream",
     "text": [
      "{'a': 1, 'b': 2, 'd': 3}\n"
     ]
    }
   ],
   "source": [
    "def remove_duplicate_values(dictionary):\n",
    "    unique_values = {}\n",
    "    for key, value in dictionary.items():\n",
    "        if value not in unique_values.values():\n",
    "            unique_values[key] = value\n",
    "    return unique_values\n",
    "\n",
    "original_dict = {'a': 1, 'b': 2, 'c': 1, 'd': 3, 'e': 2}\n",
    "unique_dict = remove_duplicate_values(original_dict)\n",
    "print(unique_dict)"
   ]
  },
  {
   "cell_type": "markdown",
   "metadata": {},
   "source": [
    "5. Group Data by Key\n",
    "\n",
    "Write a function that takes a list of dictionaries as input and returns a new dictionary where the keys are the unique values of a specified key in the input dictionaries, and the values are lists containing the dictionaries that share that key value."
   ]
  },
  {
   "cell_type": "code",
   "execution_count": 5,
   "metadata": {},
   "outputs": [
    {
     "name": "stdout",
     "output_type": "stream",
     "text": [
      "{'New York': [{'name': 'Alice', 'age': 25, 'city': 'New York'}, {'name': 'Charlie', 'age': 35, 'city': 'New York'}], 'Chicago': [{'name': 'Bob', 'age': 30, 'city': 'Chicago'}, {'name': 'David', 'age': 40, 'city': 'Chicago'}]}\n"
     ]
    }
   ],
   "source": [
    "def group_by_key(data, key):\n",
    "    grouped = {}\n",
    "    for item in data:\n",
    "        value = item[key]\n",
    "        if value in grouped:\n",
    "            grouped[value].append(item)\n",
    "        else:\n",
    "            grouped[value] = [item]\n",
    "    return grouped\n",
    "\n",
    "data = [\n",
    "    {'name': 'Alice', 'age': 25, 'city': 'New York'},\n",
    "    {'name': 'Bob', 'age': 30, 'city': 'Chicago'},\n",
    "    {'name': 'Charlie', 'age': 35, 'city': 'New York'},\n",
    "    {'name': 'David', 'age': 40, 'city': 'Chicago'}\n",
    "]\n",
    "\n",
    "grouped_by_city = group_by_key(data, 'city')\n",
    "print(grouped_by_city)"
   ]
  }
 ],
 "metadata": {
  "kernelspec": {
   "display_name": "Python 3",
   "language": "python",
   "name": "python3"
  },
  "language_info": {
   "codemirror_mode": {
    "name": "ipython",
    "version": 3
   },
   "file_extension": ".py",
   "mimetype": "text/x-python",
   "name": "python",
   "nbconvert_exporter": "python",
   "pygments_lexer": "ipython3",
   "version": "3.9.6"
  }
 },
 "nbformat": 4,
 "nbformat_minor": 2
}
