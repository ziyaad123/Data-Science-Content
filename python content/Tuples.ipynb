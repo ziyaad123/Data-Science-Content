{
 "cells": [
  {
   "cell_type": "markdown",
   "metadata": {},
   "source": [
    "TUPLE\n",
    "- Tuples are used to store multiple items in a single variable.\n",
    "- Tuple is one of 4 built-in data types in Python used to store collections of data, the other 3 are List, Set, and Dictionary, all with different qualities and usage\n",
    "- A tuple is a collection which is ordered and unchangeable.\n",
    "- Tuples are written with round brackets."
   ]
  },
  {
   "cell_type": "code",
   "execution_count": null,
   "metadata": {},
   "outputs": [],
   "source": [
    "1.\n",
    "y= (\"apple\", \"banana\", \"cherry\")\n",
    "print(y)"
   ]
  },
  {
   "cell_type": "markdown",
   "metadata": {},
   "source": [
    "- Tuple items are ordered, unchangeable, and allow duplicate values.\n",
    "- Tuple items are indexed, the first item has index [0], the second item has index [1] etc.\n",
    "- Tuples are unchangeable, meaning that we cannot change, add or remove items after the tuple has been created."
   ]
  },
  {
   "cell_type": "code",
   "execution_count": null,
   "metadata": {},
   "outputs": [],
   "source": [
    "2.\n",
    "# Allow Duplicates:\n",
    "x= (\"apple\", \"banana\", \"cherry\", \"apple\", \"cherry\")\n",
    "print(x)\n",
    "\n",
    "3.\n",
    "#Tuple Length:\n",
    "thistuple = tuple((\"apple\", \"banana\", \"cherry\"))\n",
    "print(len(thistuple))"
   ]
  },
  {
   "cell_type": "markdown",
   "metadata": {},
   "source": [
    "8. Tuple can store different datatypes "
   ]
  },
  {
   "cell_type": "code",
   "execution_count": null,
   "metadata": {},
   "outputs": [],
   "source": [
    "4.\n",
    "tuple1 = (\"abc\", 34, True, 40, \"male\")\n",
    "print(tuple1)"
   ]
  },
  {
   "cell_type": "markdown",
   "metadata": {},
   "source": [
    "9. It is also possible to use the tuple() constructor to make a tuple."
   ]
  },
  {
   "cell_type": "code",
   "execution_count": null,
   "metadata": {},
   "outputs": [],
   "source": [
    "5.\n",
    "q = tuple((\"apple\", \"banana\", \"cherry\")) # note the double round-brackets\n",
    "print(q)\n",
    "\n",
    "6.\n",
    "#Print the second item in the tuple:\n",
    "w = (\"apple\", \"banana\", \"cherry\")\n",
    "print(w[1])\n",
    "\n",
    "7.\n",
    "#Return the third, fourth, and fifth item:\n",
    "e = (\"apple\", \"banana\", \"cherry\", \"orange\", \"kiwi\", \"melon\", \"mango\")\n",
    "print(e[2:5])\n",
    "\n",
    "8.\n",
    "#This example returns the items from the beginning to, but NOT included, \"kiwi\":\n",
    "t= (\"apple\", \"banana\", \"cherry\", \"orange\", \"kiwi\", \"melon\", \"mango\")\n",
    "print(t[:4])\n",
    "\n",
    "9.\n",
    "#This example returns the items from index -4 (included) to index -1 (excluded)\n",
    "le = (\"apple\", \"banana\", \"cherry\", \"orange\", \"kiwi\", \"melon\", \"mango\")\n",
    "print(le[-4:-1])"
   ]
  },
  {
   "cell_type": "markdown",
   "metadata": {},
   "source": [
    "10. Characteristics of Tuples\n",
    "- They are indexed.\n",
    "- Tuples are ordered.\n",
    "- These are immutable.\n",
    "- They can contain duplicate items."
   ]
  },
  {
   "cell_type": "code",
   "execution_count": null,
   "metadata": {},
   "outputs": [],
   "source": [
    "10.\n",
    "#Convert the tuple into a list , add \"orange\", and convert it back into a tuple:\n",
    "thistuple = (\"apple\", \"banana\", \"cherry\")\n",
    "y = list(thistuple)\n",
    "y.append(\"orange\")\n",
    "thistuple = tuple(y)\n",
    "\n",
    "print(thistuple)"
   ]
  },
  {
   "cell_type": "code",
   "execution_count": null,
   "metadata": {},
   "outputs": [],
   "source": [
    "11.\n",
    "# Delete tuple:\n",
    "thistuple = (\"apple\", \"banana\", \"cherry\")\n",
    "del thistuple\n",
    "print(thistuple)\n",
    "#this will raise an error because the tuple no longer exists"
   ]
  },
  {
   "cell_type": "code",
   "execution_count": null,
   "metadata": {},
   "outputs": [],
   "source": [
    "12.\n",
    "# Using Asterisk*:\n",
    "fruits = (\"apple\", \"mango\", \"papaya\", \"pineapple\", \"cherry\")\n",
    "\n",
    "(green, *tropic, red) = fruits\n",
    "\n",
    "print(green)\n",
    "print(tropic)\n",
    "print(red)"
   ]
  },
  {
   "cell_type": "code",
   "execution_count": null,
   "metadata": {},
   "outputs": [],
   "source": [
    "# You can loop through the tuple items by using a for loop.\n",
    "13.\n",
    "i = (\"apple\", \"banana\", \"cherry\")\n",
    "for x in i:\n",
    "  print(x)"
   ]
  },
  {
   "cell_type": "code",
   "execution_count": null,
   "metadata": {},
   "outputs": [],
   "source": [
    "14.\n",
    "repeated_number = 5  # Number to repeat\n",
    "repetitions = 3  # Number of repetitions\n",
    "\n",
    "repeated_tuple = tuple(range(repeated_number)) * repetitions\n",
    "\n",
    "print(\"Tuple with repeated elements:\", repeated_tuple) \n",
    "# Output: Tuple with repeated elements: (0, 1, 2, 3, 4, 0, 1, 2, 3, 4)\n",
    "\n",
    "15.\n",
    "tuple = (\"apple\", \"banana\", \"cherry\")\n",
    "i = 0\n",
    "while i < len(tuple):\n",
    "  print(tuple[i])\n",
    "  i = i + 1"
   ]
  },
  {
   "cell_type": "code",
   "execution_count": null,
   "metadata": {},
   "outputs": [],
   "source": [
    "# We can join two tuples\n",
    "16.\n",
    "tuple1 = (1, 2, 3)\n",
    "tuple2 = (4, 5, 6)\n",
    "\n",
    "joined_tuple = tuple1 + tuple2\n",
    "\n",
    "print(\"Joined tuple:\", joined_tuple)  # Output: Joined tuple: (1, 2, 3, 4, 5, 6)"
   ]
  },
  {
   "cell_type": "code",
   "execution_count": null,
   "metadata": {},
   "outputs": [],
   "source": [
    "# We can multiply tuple\n",
    "17.\n",
    "fruits = (\"apple\", \"banana\", \"cherry\")\n",
    "mytuple = fruits * 2\n",
    "\n",
    "print(mytuple)"
   ]
  },
  {
   "cell_type": "markdown",
   "metadata": {},
   "source": [
    "14. we can use count() funtion to find how mant times a element is repeated or we can run for loop or while loop for finding count "
   ]
  },
  {
   "cell_type": "markdown",
   "metadata": {},
   "source": [
    "--- list vs tuple\n",
    "- Lists and Tuples in Python are two classes of Python Data Structures. \n",
    "- The list structure is dynamic, and readily changed whereas the tuple structure is static and cannot be changed. This means that the tuple is generally faster than the list.\n",
    "- Lists are denoted by square brackets and tuples are denoted with parenthesis"
   ]
  },
  {
   "cell_type": "markdown",
   "metadata": {},
   "source": [
    "List:\n",
    "- Lists are mutable\n",
    "- The implication of iterations is Time-consuming\n",
    "- The list is better for performing operations, such as insertion and deletion.\n",
    "- Lists consume more memory\n",
    "- Lists have several built-in methods\n",
    "- Unexpected changes and errors are more likely to occur\n",
    "\n",
    "Tuple:\n",
    "- Tuples are immutable\n",
    "- The implication of iterations is comparatively Faster\n",
    "- A Tuple data type is appropriate for accessing the elements\n",
    "- Tuple consumes less memory as compared to the list\n",
    "- Tuple does not have many built-in methods.\n",
    "- Because tuples don’t change they are far less error-prone."
   ]
  },
  {
   "cell_type": "markdown",
   "metadata": {},
   "source": [
    "4. Which is better list or tuple in Python?\n",
    "As tuples are stored in a single memory block therefore they don’t require extra space for new objects whereas the lists are allocated in two blocks, first the fixed one with all the Python object information and second a variable-sized block for the data.\n",
    "\n",
    "5. In Python, both lists and tuples support a range of operations, including indexing, slicing, concatenation, and more. However, there are some differences between the operations that are available for lists and tuples due to their mutability and immutability, respectively\n"
   ]
  },
  {
   "cell_type": "markdown",
   "metadata": {},
   "source": [
    "6. when to use tuple over list :\n",
    "In Python, tuples and lists are both used to store collections of data, but they have some important differences. Here are some situations where you might want to use tuples instead of lists – \n",
    "\n",
    "Immutable Data – Tuples are immutable, thus once they are generated, their contents cannot be changed. This makes tuples a suitable option for storing information that shouldn’t change, such as setup settings, constant values, or other information that should stay the same while your programme is running.\n",
    "\n",
    "Performance – Tuples are more lightweight than lists and might be quicker to generate, access, and iterate through since they are immutable. Using a tuple can be more effective than using a list if you have a huge collection of data that you need to store, retrieve, and use regularly and that data does not need to be altered.\n",
    "\n",
    "Data integrity – By ensuring that the data’s structure and contents stay consistent, tuples can be utilised to ensure data integrity. To make sure the caller is aware of how much data to expect, for instance, if a function returns a set amount of values, you might want to return them as a tuple rather than a list."
   ]
  },
  {
   "cell_type": "markdown",
   "metadata": {},
   "source": [
    " slicing and indexing \n",
    "- Slicing and indexing are two fundamental concepts in Python. They help you access specific elements in a sequence, such as a list, tuple or string.\n",
    "- By using these techniques, you can extract substrings from strings, filter lists, and extract columns from 2D lists, among other things.\n",
    "- Indexing is the process of accessing an element in a sequence using its position in the sequence (its index).\n",
    "- In Python, indexing starts from 0, which means the first element in a sequence is at position 0, the second element is at position 1, and so on.\n",
    "- To access an element in a sequence, you can use square brackets [] with the index of the element you want to access.\n",
    "- Slicing is the process of accessing a sub-sequence of a sequence by specifying a starting and ending index. In Python, you perform slicing using the colon : operator.\n",
    "- where start_index is the index of the first element in the sub-sequence and end_index is the index of the last element in the sub-sequence (excluding the element at the end_index). To slice a sequence, you can use square brackets [] with the start and end indices separated by a colon.\n",
    "- You can also omit either the start_index or the end_index in a slice to get all the elements from the beginning or end of the sequence."
   ]
  },
  {
   "cell_type": "code",
   "execution_count": null,
   "metadata": {},
   "outputs": [],
   "source": [
    "1.\n",
    "my_list = ['apple', 'banana', 'cherry', 'date']\n",
    "print(my_list[:2]) # output: ['apple', 'banana']\n",
    "print(my_list[2:]) # output: ['cherry', 'date']\n",
    "\n",
    "2.\n",
    "numbers = [1, 2, 3, 4, 5, 6, 7, 8, 9]\n",
    "numbers[1:4] = [10, 20, 30]\n",
    "print(numbers) # output: [1, 10, 20, 30, 5, 6, 7, 8, 9]\n",
    "\n",
    "3.\n",
    "numbers[4:4] = [40, 50]\n",
    "print(numbers) # output: [1, 10, 20, 30, 40, 50, 5, 6, 7, 8, 9]\n"
   ]
  },
  {
   "cell_type": "markdown",
   "metadata": {},
   "source": [
    "9. Slicing and indexing are powerful tools that can greatly simplify certain tasks in Python programming, such as selecting subsets of data, modifying lists, and extracting substrings. By understanding these concepts and using them effectively in your code"
   ]
  },
  {
   "cell_type": "markdown",
   "metadata": {},
   "source": [
    "Lists offer flexibility for modifications, while tuples provide a fixed structure for data integrity."
   ]
  },
  {
   "cell_type": "markdown",
   "metadata": {},
   "source": [
    "--- Count and Index (TUPLES)\n",
    "\n",
    "COUNT\n",
    "\n",
    "1. The count() method of Tuple returns the number of times the given element appears in the tuple.\n",
    "\n",
    "2. Syntax:\n",
    "tuple.count(element)\n",
    "\n",
    "Where the element is the element that is to be counted."
   ]
  },
  {
   "cell_type": "code",
   "execution_count": null,
   "metadata": {},
   "outputs": [],
   "source": [
    "1.\n",
    "# Creating tuples \n",
    "Tuple1 = (0, 1, 2, 3, 2, 3, 1, 3, 2) \n",
    "Tuple2 = ('python', 'geek', 'python','for', 'java', 'python') \n",
    "\n",
    "# count the appearance of 3 \n",
    "res = Tuple1.count(3) \n",
    "print('Count of 3 in Tuple1 is:', res) \n",
    "\n",
    "# count the appearance of python \n",
    "res = Tuple2.count('python') \n",
    "print('Count of Python in Tuple2 is:', res)"
   ]
  },
  {
   "cell_type": "code",
   "execution_count": null,
   "metadata": {},
   "outputs": [],
   "source": [
    "2.\n",
    "# Creating tuples \n",
    "Tuple = (0, 1, (2, 3), (2, 3), 1, [3, 2], 'geeks', (0,)) \n",
    "\n",
    "# count the appearance of (2, 3) \n",
    "res = Tuple.count((2, 3)) \n",
    "print('Count of (2, 3) in Tuple is:', res) \n",
    "\n",
    "# count the appearance of [3, 2] \n",
    "res = Tuple.count([3, 2]) \n",
    "print('Count of [3, 2] in Tuple is:', res)"
   ]
  },
  {
   "cell_type": "code",
   "execution_count": null,
   "metadata": {},
   "outputs": [],
   "source": [
    "3.\n",
    "fruits_tuple = (\"apple\", \"banana\", \"orange\", \"apple\", \"grape\")\n",
    "apple_count = fruits_tuple.count(\"apple\")\n",
    "print(\"Number of apples:\", apple_count)  "
   ]
  },
  {
   "cell_type": "code",
   "execution_count": null,
   "metadata": {},
   "outputs": [],
   "source": [
    "4.\n",
    "numbers_tuple = (1, 2, 3, 2, 1, 4)\n",
    "count_1 = numbers_tuple.count(1)\n",
    "count_2 = numbers_tuple.count(2)\n",
    "print(\"Count of 1:\", count_1)  \n",
    "print(\"Count of 2:\", count_2)  "
   ]
  },
  {
   "cell_type": "markdown",
   "metadata": {},
   "source": [
    "The Index() method returns the first occurrence of the given element from the tuple.\n",
    "\n",
    "Syntax:\n",
    "tuple.index(element, start, end)\n",
    "\n",
    "Parameters:\n",
    "\n",
    "element: The element to be searched.\n",
    "start (Optional): The starting index from where the searching is started\n",
    "end (Optional): The ending index till where the searching is done\n",
    "\n",
    "Note: This method raises a ValueError if the element is not found in the tuple."
   ]
  },
  {
   "cell_type": "code",
   "execution_count": null,
   "metadata": {},
   "outputs": [],
   "source": [
    "1.\n",
    "# Creating tuples \n",
    "Tuple = (0, 1, 2, 3, 2, 3, 1, 3, 2) \n",
    "\n",
    "# getting the index of 3 \n",
    "res = Tuple.index(3) \n",
    "print('First occurrence of 3 is', res) \n",
    "\n",
    "# getting the index of 3 after 4th \n",
    "# index \n",
    "res = Tuple.index(3, 4) \n",
    "print('First occurrence of 3 after 4th index is:', res)"
   ]
  },
  {
   "cell_type": "code",
   "execution_count": null,
   "metadata": {},
   "outputs": [],
   "source": [
    "2.\n",
    "# Creating tuples \n",
    "Tuple = (0, 1, 2, 3, 2, 3, 1, 3, 2) \n",
    "\n",
    "# getting the index of 3 \n",
    "res = Tuple.index(4)"
   ]
  },
  {
   "cell_type": "code",
   "execution_count": null,
   "metadata": {},
   "outputs": [],
   "source": [
    "3.\n",
    "fruits_tuple = (\"apple\", \"banana\", \"cherry\", \"banana\")\n",
    "\n",
    "# Find the index of \"banana\" (first occurrence)\n",
    "index_of_banana = fruits_tuple.index(\"banana\")\n",
    "print(index_of_banana)  # Output: 1\n",
    "\n",
    "# Try finding the index of an element not in the tuple\n",
    "try:\n",
    "  index_of_mango = fruits_tuple.index(\"mango\")\n",
    "except ValueError:\n",
    "  print(\"Element 'mango' not found in the tuple\")"
   ]
  },
  {
   "cell_type": "code",
   "execution_count": null,
   "metadata": {},
   "outputs": [],
   "source": [
    "4.\n",
    "numbers_tuple = (10, 20, 30, 40, 20)\n",
    "\n",
    "# Find the index of 20 (starting from index 1 - second element)\n",
    "index_after_first = numbers_tuple.index(20, 1)\n",
    "print(index_after_first)  # Output: 4\n",
    "\n",
    "# Find the index of 20 (within a specified range)\n",
    "index_in_range = numbers_tuple.index(20, 2, 4)\n",
    "print(index_in_range)  # Output: 4"
   ]
  },
  {
   "cell_type": "markdown",
   "metadata": {},
   "source": [
    "Built-in Functions\n",
    "\n",
    "1. len(list/tuple): Returns the length (number of elements) of the list or tuple."
   ]
  },
  {
   "cell_type": "code",
   "execution_count": null,
   "metadata": {},
   "outputs": [],
   "source": [
    "numbers_list = [1, 2, 3, 4, 5]\n",
    "length = len(numbers_list)\n",
    "print(\"Length of the list:\", length)  # Output: Length of the list: 5\n",
    "\n",
    "numbers_tuple = (10, 20, 30)\n",
    "length = len(numbers_tuple)\n",
    "print(\"Length of the tuple:\", length)  # Output: Length of the tuple: 3"
   ]
  },
  {
   "cell_type": "markdown",
   "metadata": {},
   "source": [
    "2. sum(list/tuple): Calculates the sum of all elements in the list or tuple."
   ]
  },
  {
   "cell_type": "code",
   "execution_count": null,
   "metadata": {},
   "outputs": [],
   "source": [
    "numbers_list = [1, 2, 3, 4, 5]\n",
    "total_sum = sum(numbers_list)\n",
    "print(\"Sum of numbers:\", total_sum)  # Output: Sum of numbers: 15\n",
    "\n",
    "numbers_tuple = (10, 20, 30)\n",
    "total_sum = sum(numbers_tuple)\n",
    "print(\"Sum of numbers_tuple:\", total_sum)  # Output: Sum of numbers_tuple: 60"
   ]
  },
  {
   "cell_type": "markdown",
   "metadata": {},
   "source": [
    "3. max(list/tuple): Returns the element with the highest value in the list or tuple."
   ]
  },
  {
   "cell_type": "code",
   "execution_count": null,
   "metadata": {},
   "outputs": [],
   "source": [
    "numbers_list = [1, 5, 2, 8, 3]\n",
    "largest = max(numbers_list)\n",
    "print(\"Largest number:\", largest)  # Output: Largest number: 8\n",
    "\n",
    "numbers_tuple = (10, 20, 30)\n",
    "largest = max(numbers_tuple)\n",
    "print(\"Largest number in tuple:\", largest)  # Output: Largest number in tuple: 30"
   ]
  },
  {
   "cell_type": "markdown",
   "metadata": {},
   "source": [
    "4. min(list/tuple): Returns the element with the lowest value in the list or tuple."
   ]
  },
  {
   "cell_type": "code",
   "execution_count": null,
   "metadata": {},
   "outputs": [],
   "source": [
    "numbers_list = [1, 5, 2, 8, 3]\n",
    "smallest = min(numbers_list)\n",
    "print(\"Smallest number:\", smallest)  # Output: Smallest number: 1\n",
    "\n",
    "numbers_tuple = (10, 20, 30)\n",
    "smallest = min(numbers_tuple)\n",
    "print(\"Smallest number in tuple:\", smallest)  # Output: Smallest number in tuple: 10"
   ]
  },
  {
   "cell_type": "markdown",
   "metadata": {},
   "source": [
    "5. sorted(list/tuple): Returns a new list/tuple with elements arranged in ascending order by default."
   ]
  },
  {
   "cell_type": "code",
   "execution_count": null,
   "metadata": {},
   "outputs": [],
   "source": [
    "numbers_list = [1, 5, 2, 8, 3]\n",
    "sorted_list = sorted(numbers_list)\n",
    "print(\"Sorted list:\", sorted_list)  # Output: Sorted list: [1, 2, 3, 5, 8]\n",
    "\n",
    "numbers_tuple = (10, 20, 30, 4, 5)\n",
    "sorted_tuple = sorted(numbers_tuple)\n",
    "print(\"Sorted tuple:\", sorted_tuple)  # Output: Sorted tuple: [4, 5, 10, 20, 30]"
   ]
  },
  {
   "cell_type": "markdown",
   "metadata": {},
   "source": [
    "<h2>Hands on exercise (Questions)</h2>"
   ]
  },
  {
   "cell_type": "code",
   "execution_count": null,
   "metadata": {},
   "outputs": [],
   "source": [
    "# Q1.Accessing individual elements\n",
    "fruits = [\"apple\", \"banana\", \"cherry\"]\n",
    "first_fruit = fruits[0]  # Accesses \"apple\"\n",
    "last_fruit = fruits[-1]  # Accesses \"cherry\" (negative indexing starts from the end)"
   ]
  },
  {
   "cell_type": "code",
   "execution_count": null,
   "metadata": {},
   "outputs": [],
   "source": [
    "# Q2.Extracting a sublist:\n",
    "numbers = [1, 2, 3, 4, 5]\n",
    "sublist1 = numbers[1:4]  # Extracts [2, 3, 4] (includes index 1, excludes 4)\n",
    "sublist2 = numbers[2:]  # Extracts [3, 4, 5] (from index 2 to the end)"
   ]
  },
  {
   "cell_type": "code",
   "execution_count": null,
   "metadata": {},
   "outputs": [],
   "source": [
    "# Q3.Copying a list\n",
    "original_list = [6, 7, 8]\n",
    "copy_list = original_list[:]  # Creates a shallow copy"
   ]
  },
  {
   "cell_type": "code",
   "execution_count": null,
   "metadata": {},
   "outputs": [],
   "source": [
    "# Q4.Reversing a list:\n",
    "letters = ['a', 'b', 'c', 'd']\n",
    "reversed_letters = letters[::-1]  # Extracts [d, c, b, a]"
   ]
  },
  {
   "cell_type": "code",
   "execution_count": null,
   "metadata": {},
   "outputs": [],
   "source": [
    "# Q5.Counting occurrences in a string\n",
    "message = \"Hello, world! How is your day?\"\n",
    "count_of_o = message.count('o')  # Case-sensitive counting\n",
    "print(count_of_o)  # Output: 2"
   ]
  },
  {
   "cell_type": "code",
   "execution_count": null,
   "metadata": {},
   "outputs": [],
   "source": [
    "# Q6.Counting the occurrences of 2\n",
    "numbers = [1, 2, 2, 3, 1, 4, 2]\n",
    "count_of_2 = numbers.count(2)\n",
    "print(count_of_2)"
   ]
  },
  {
   "cell_type": "code",
   "execution_count": null,
   "metadata": {},
   "outputs": [],
   "source": [
    "# Q7.returns the length\n",
    "numbers_list = [1, 2, 3, 4, 5]\n",
    "numbers_tuple = (6, 7, 8, 9)\n",
    "\n",
    "list_length = len(numbers_list)\n",
    "tuple_length = len(numbers_tuple)\n",
    "\n",
    "print(\"Length of list:\", list_length)  # Output: 5\n",
    "print(\"Length of tuple:\", tuple_length)  # Output: 4"
   ]
  },
  {
   "cell_type": "code",
   "execution_count": null,
   "metadata": {},
   "outputs": [],
   "source": [
    "# Q8.returns the smallest element in the sequence.\n",
    "fruits_list = [\"apple\", \"banana\", \"cherry\"]\n",
    "fruits_tuple = (\"mango\", \"kiwi\", \"grape\")\n",
    "\n",
    "smallest_fruit_list = min(fruits_list)\n",
    "smallest_fruit_tuple = min(fruits_tuple)\n",
    "\n",
    "print(\"Smallest fruit in list:\", smallest_fruit_list)  # Output: apple\n",
    "print(\"Smallest fruit in tuple:\", smallest_fruit_tuple)  # Output: grape"
   ]
  },
  {
   "cell_type": "code",
   "execution_count": null,
   "metadata": {},
   "outputs": [],
   "source": [
    "# Q9.This function returns the largest element in the sequence.\n",
    "numbers_list = [1, 5, 2, 8]\n",
    "numbers_tuple = (3, 7, 9, 0)\n",
    "\n",
    "largest_number_list = max(numbers_list)\n",
    "largest_number_tuple = max(numbers_tuple)\n",
    "\n",
    "print(\"Largest number in list:\", largest_number_list)  # Output: 8\n",
    "print(\"Largest number in tuple:\", largest_number_tuple)  # Output: 9"
   ]
  },
  {
   "cell_type": "code",
   "execution_count": null,
   "metadata": {},
   "outputs": [],
   "source": [
    "# Q10.This method sorts the elements of the list in-place\n",
    "mixed_list = [\"apple\", 3, 9.5, True]\n",
    "\n",
    "mixed_list.sort()  # Sorts the list in-place\n",
    "\n",
    "print(\"Sorted list:\", mixed_list)  # Output: [3, 9.5, True, apple] (depending on Python version)"
   ]
  },
  {
   "cell_type": "code",
   "execution_count": null,
   "metadata": {},
   "outputs": [],
   "source": [
    "# Q11. This function calculates the sum of all the elements in the sequence (assumes numeric data)\n",
    "numbers_list = [4, 7, 2, 11]\n",
    "numbers_tuple = (6, 3, 8, 1)\n",
    "\n",
    "list_sum = sum(numbers_list)\n",
    "tuple_sum = sum(numbers_tuple)\n",
    "\n",
    "print(\"Sum of list elements:\", list_sum)  # Output: 24\n",
    "print(\"Sum of tuple elements:\", tuple_sum)  # Output: 18"
   ]
  }
 ],
 "metadata": {
  "language_info": {
   "name": "python"
  }
 },
 "nbformat": 4,
 "nbformat_minor": 2
}
