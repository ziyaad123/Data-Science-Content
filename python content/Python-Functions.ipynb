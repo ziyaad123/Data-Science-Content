{
 "cells": [
  {
   "cell_type": "markdown",
   "metadata": {},
   "source": [
    "# 1.Functions in Python"
   ]
  },
  {
   "cell_type": "markdown",
   "metadata": {},
   "source": [
    "Functions are a fundamental concept in programming languages and play a crucial role in organizing and reusing code. They allow developers to break down complex tasks into smaller, more manageable pieces, making the code easier to understand, maintain, and debug. Functions also enable code reusability, as they can be called multiple times from different parts of a program, promoting modularity and efficiency. Additionally, functions facilitate collaboration among developers by allowing them to work on different parts of a program independently, and they contribute to the overall efficiency and performance of a program."
   ]
  },
  {
   "cell_type": "markdown",
   "metadata": {},
   "source": [
    "# 2.Syntax of a Function\n",
    "Now let's understand the syntax of functions; \n",
    "\n",
    " - 2.1.*def* keyword: This keyword signals the start of a function definiton.\n",
    "\n",
    " - 2.2.Function: use lowercase, with underscores fpr seperation.\n",
    "\n",
    " - 2.3.Parantheses *()*:These enclose any parameters(arguments) the function might accept, if the function doesn't take any arguments you\"ll still have empty arguments.\n",
    "\n",
    "- 2.4.Colon: This follows the paranthesis and indicates the start of the function body.\n",
    "\n",
    " - 2.5.Indented Block: The indented block (usually 4 spaces or a tab), contains the statements that define the function's behaviour.This block can include calculations, variable assignments, conditional statements.\n",
    "\n",
    "- 2.6.Optional *return* Statement: This statement (if present), specifies the value the function will return when called, If no *return* statement is present the function implicityly returns *None*.\n"
   ]
  },
  {
   "cell_type": "code",
   "execution_count": 5,
   "metadata": {},
   "outputs": [
    {
     "name": "stdout",
     "output_type": "stream",
     "text": [
      "Hello J!\n"
     ]
    }
   ],
   "source": [
    "def greet(name): #Function definition with parameter 'name'\n",
    "    \"\"\"This function prints a greeting message.\"\"\"\n",
    "    print(\"Hello\", name + \"!\")\n",
    "\n",
    "# Function call with argument 'Alice'\n",
    "greet(\"J\")\n"
   ]
  },
  {
   "cell_type": "markdown",
   "metadata": {},
   "source": [
    "# 3.Parameters in Functions\n",
    "\n",
    "Parameters, also known as arguments, are the inputs a function receives when it's called. They provide a way to customize the function's behavior for different scenarios. Here's a breakdown of different types of parameters in Python:\n",
    "\n",
    "\n",
    "\n"
   ]
  },
  {
   "cell_type": "markdown",
   "metadata": {},
   "source": [
    "### 3.1. Positional Arguments:\n",
    "These are arguments passed to the function in the same order they are defined in the function declaration.\n",
    "The function expects a specific number of arguments based on the order.\n"
   ]
  },
  {
   "cell_type": "code",
   "execution_count": 6,
   "metadata": {},
   "outputs": [
    {
     "name": "stdout",
     "output_type": "stream",
     "text": [
      "15\n"
     ]
    }
   ],
   "source": [
    "def calculate_area(length, width):\n",
    "  \"\"\"This function calculates the area of a rectangle.\"\"\"\n",
    "  return length * width\n",
    "\n",
    "# Calling the function with positional arguments\n",
    "area = calculate_area(5, 3)  # length = 5, width = 3\n",
    "print(area)  # Output: 15"
   ]
  },
  {
   "cell_type": "markdown",
   "metadata": {},
   "source": [
    "### 3.2. Keyword Arguments:\n",
    "\n",
    "These arguments are passed by name when calling the function.\n",
    "The order doesn't matter as long as you associate the value with the correct parameter name.\n"
   ]
  },
  {
   "cell_type": "code",
   "execution_count": 7,
   "metadata": {},
   "outputs": [
    {
     "name": "stdout",
     "output_type": "stream",
     "text": [
      "Hi J!\n"
     ]
    }
   ],
   "source": [
    "def greet(name, message=\"Hello\"):\n",
    "  \"\"\"This function greets someone with an optional message.\"\"\"\n",
    "  print(message, name + \"!\")\n",
    "\n",
    "# Calling with keyword arguments (notice order is switched)\n",
    "greet(message=\"Hi\", name=\"J\")  # Output: Hi J!"
   ]
  },
  {
   "cell_type": "markdown",
   "metadata": {},
   "source": [
    "### 3.3. Default Arguments:\n",
    "\n",
    "These arguments have pre-defined values assigned within the function definition.\n",
    "If no value is passed during the function call, the default value is used."
   ]
  },
  {
   "cell_type": "code",
   "execution_count": 8,
   "metadata": {},
   "outputs": [
    {
     "name": "stdout",
     "output_type": "stream",
     "text": [
      "Hello World!\n",
      "Hello J!\n"
     ]
    }
   ],
   "source": [
    "def greet(name=\"World\"):\n",
    "  \"\"\"This function greets someone by name.\"\"\"\n",
    "  print(\"Hello\", name + \"!\")\n",
    "\n",
    "# Calling with default argument\n",
    "greet()  # Output: Hello World!\n",
    "\n",
    "# Calling with a custom argument\n",
    "greet(\"J\")  # Output: Hello Alice!"
   ]
  },
  {
   "cell_type": "markdown",
   "metadata": {},
   "source": [
    "### 3.4. Variable Length Arguments (args):\n",
    "\n",
    "This allows a function to accept an arbitrary number of positional arguments.\n",
    "These arguments are packed into a tuple inside the function."
   ]
  },
  {
   "cell_type": "code",
   "execution_count": 9,
   "metadata": {},
   "outputs": [
    {
     "name": "stdout",
     "output_type": "stream",
     "text": [
      "20.0\n",
      "Please provide at least one number.\n"
     ]
    }
   ],
   "source": [
    "def calculate_average(*numbers):\n",
    "  \"\"\"This function calculates the average of any number of arguments.\"\"\"\n",
    "  if len(numbers) == 0:\n",
    "    print(\"Please provide at least one number.\")\n",
    "    return\n",
    "  return sum(numbers) / len(numbers)\n",
    "\n",
    "# Calling with variable arguments\n",
    "average = calculate_average(10, 20, 30)\n",
    "print(average)  # Output: 20.0\n",
    "\n",
    "# Calling without arguments\n",
    "calculate_average()  # Output: Please provide at least one number.\n"
   ]
  },
  {
   "cell_type": "markdown",
   "metadata": {},
   "source": [
    "### 3.5. Keyword Variable Length Arguments (kwargs):\n",
    "\n",
    "Similar to variable length arguments, but these arguments are captured in a dictionary.\n",
    "You can pass any number of keyword arguments, and they are accessible as key-value pairs within the function."
   ]
  },
  {
   "cell_type": "code",
   "execution_count": 10,
   "metadata": {},
   "outputs": [
    {
     "name": "stdout",
     "output_type": "stream",
     "text": [
      "Vanshika J. Singh\n",
      "Shubhdeep Singh Sidhu\n"
     ]
    }
   ],
   "source": [
    "def full_name(first, last, *, middle=\"\"):\n",
    "  \"\"\"This function combines first, middle, and last name.\"\"\"\n",
    "  return first + \" \" + middle + \" \" + last\n",
    "\n",
    "# Calling with keyword arguments (notice 'middle' is named)\n",
    "print(full_name(first=\"Vanshika\", last=\"Singh\", middle=\"J.\"))  # Output: Vanshika J. Singh\n",
    "\n",
    "# You can also use positional arguments for the first two parameters\n",
    "print(full_name(\"Shubhdeep\", \"Sidhu\", middle=\"Singh\"))  # Output: Shubhdeep Singh Sidhu\n"
   ]
  },
  {
   "cell_type": "markdown",
   "metadata": {},
   "source": [
    "### 3.6. Keyword-Only Arguments:\n",
    "\n",
    "Introduced in Python 3.5, these arguments must be preceded by * in the function definition.\n",
    "They can only be passed by keyword name, not by position."
   ]
  },
  {
   "cell_type": "code",
   "execution_count": 11,
   "metadata": {},
   "outputs": [
    {
     "name": "stdout",
     "output_type": "stream",
     "text": [
      "5.0\n"
     ]
    }
   ],
   "source": [
    "def divide(dividend, *, divisor=1):\n",
    "  \"\"\"This function divides two numbers with an optional divisor (default 1).\"\"\"\n",
    "  return dividend / divisor\n",
    "\n",
    "# Calling with keyword argument (notice 'divisor' comes after *)\n",
    "print(divide(dividend=10, divisor=2))  # Output: 5.0\n",
    "\n",
    "# This would cause an error because 'divisor' is not a positional argument\n",
    "# print(divide(10, 2)) \n"
   ]
  },
  {
   "cell_type": "markdown",
   "metadata": {},
   "source": [
    "# 4.Passing Function as Arguments\n"
   ]
  },
  {
   "cell_type": "markdown",
   "metadata": {},
   "source": [
    "In Python, functions are first-class objects, meaning you can treat them like any other data type. This allows you to pass functions as arguments to other functions. This powerful concept is often referred to as higher-order functions. Here's how it works:\n"
   ]
  },
  {
   "cell_type": "markdown",
   "metadata": {},
   "source": [
    "## 4.1. Higher-Order Functions:\n",
    "\n",
    "A higher-order function is a function that:\n",
    "\n",
    "Takes one or more functions as arguments.\n",
    "May or may not return a function itself.\n",
    "These functions provide more flexibility in how you approach problems and can make your code more concise and readable."
   ]
  },
  {
   "cell_type": "markdown",
   "metadata": {},
   "source": [
    "## 4.2. Passing Functions as Arguments (Example):\n",
    "\n",
    "Consider you have two functions:\n",
    "\n",
    "*shout(text)*: Converts the input text to uppercase and returns it.\n",
    "\n",
    "*whisper(text)*: Converts the input text to lowercase and returns it.\n",
    "\n",
    "Now, you can create a higher-order function *modify_text* that takes another function and a text as arguments. This allows you to decide how you want to modify the text (shout or whisper) at runtime:"
   ]
  },
  {
   "cell_type": "code",
   "execution_count": 12,
   "metadata": {},
   "outputs": [
    {
     "name": "stdout",
     "output_type": "stream",
     "text": [
      "HELLO WORLD!\n",
      "hello world!\n"
     ]
    }
   ],
   "source": [
    "def shout(text):\n",
    "  \"\"\"This function converts text to uppercase.\"\"\"\n",
    "  return text.upper()\n",
    "\n",
    "def whisper(text):\n",
    "  \"\"\"This function converts text to lowercase.\"\"\"\n",
    "  return text.lower()\n",
    "\n",
    "def modify_text(text, func):\n",
    "  \"\"\"This function applies a provided function (func) to the text.\"\"\"\n",
    "  return func(text)\n",
    "\n",
    "# Calling modify_text with different functions\n",
    "yelled_text = modify_text(\"Hello world!\", shout)\n",
    "print(yelled_text)  # Output: HELLO WORLD!\n",
    "\n",
    "whispered_text = modify_text(\"HELLO WORLD!\", whisper)\n",
    "print(whispered_text)  # Output: hello world!\n"
   ]
  },
  {
   "cell_type": "markdown",
   "metadata": {},
   "source": [
    "In this example;\n",
    "\n",
    "- *modify_tex*t is the higher-order function.\n",
    "- It takes a function (*func*) as its first argument and applies it to the provided text.\n",
    "- By calling *modify_text* with *shout* or *whisper*, we determine how the text is modified\n",
    "\n",
    "#### Benefits of Passing Functions as Arguments\n",
    "\n",
    "- Flexibility: You can choose the processing logic at runtime based on the arguments passed to the higher-order function.\n",
    "- Code Reusability: You can create generic functions that work with different helper functions, promoting code reuse.\n",
    "- Cleaner Code: It can lead to more concise and readable code by separating concerns.\n",
    "- Higher-order functions are a powerful tool in Python programming. "
   ]
  },
  {
   "cell_type": "markdown",
   "metadata": {},
   "source": [
    "# 5.Lambda Function\n",
    "In Python, lambda functions offer a concise way to define anonymous functions. These functions are useful for short, single-expression operations, often used within other functions or as arguments themselves.\n"
   ]
  },
  {
   "cell_type": "markdown",
   "metadata": {},
   "source": [
    "### 5.1.Anyomous Functions:\n",
    "- Lambda functions lack a formal name, hence the term \"anonymous.\"\n",
    " - They are defined using the lambda keyword followed by arguments, a colon, and the expression to be evaluated. "
   ]
  },
  {
   "cell_type": "markdown",
   "metadata": {},
   "source": [
    "### 5.2.Lambda Function Syntax\n"
   ]
  },
  {
   "cell_type": "code",
   "execution_count": 13,
   "metadata": {},
   "outputs": [
    {
     "data": {
      "text/plain": [
       "<function __main__.<lambda>(arguments)>"
      ]
     },
     "execution_count": 13,
     "metadata": {},
     "output_type": "execute_result"
    }
   ],
   "source": [
    "lambda arguments : expression"
   ]
  },
  {
   "cell_type": "markdown",
   "metadata": {},
   "source": [
    " - *arguments*: This is a comma-separated list of arguments the lambda function can accept. It can be empty if the function doesn't take any arguments.\n",
    " - *expression*: This is the code that the lambda function will execute. The expression must be evaluated to a single value."
   ]
  },
  {
   "cell_type": "markdown",
   "metadata": {},
   "source": [
    "# 5.3.Examples of Lambda Functions:"
   ]
  },
  {
   "cell_type": "markdown",
   "metadata": {},
   "source": [
    "### Example 1: Simple Addition:"
   ]
  },
  {
   "cell_type": "code",
   "execution_count": 14,
   "metadata": {},
   "outputs": [
    {
     "name": "stdout",
     "output_type": "stream",
     "text": [
      "8\n"
     ]
    }
   ],
   "source": [
    "add = lambda x, y: x + y\n",
    "\n",
    "result = add(5, 3)\n",
    "print(result)  # Output: 8\n"
   ]
  },
  {
   "cell_type": "markdown",
   "metadata": {},
   "source": [
    "### Example 2: String Formatting:"
   ]
  },
  {
   "cell_type": "code",
   "execution_count": 15,
   "metadata": {},
   "outputs": [
    {
     "name": "stdout",
     "output_type": "stream",
     "text": [
      "Hello, J!\n"
     ]
    }
   ],
   "source": [
    "greeting = lambda name: f\"Hello, {name}!\"\n",
    "\n",
    "print(greeting(\"J\"))  # Output: Hello, J!\n"
   ]
  },
  {
   "cell_type": "markdown",
   "metadata": {},
   "source": [
    "### Example 3: Sorting a list based on length (using built-in *len* function):"
   ]
  },
  {
   "cell_type": "code",
   "execution_count": 16,
   "metadata": {},
   "outputs": [
    {
     "name": "stdout",
     "output_type": "stream",
     "text": [
      "['apple', 'mango', 'banana', 'grapes']\n"
     ]
    }
   ],
   "source": [
    "words = [\"apple\", \"banana\", \"mango\", \"grapes\"]\n",
    "sorted_words = sorted(words, key=lambda word: len(word))\n",
    "\n",
    "print(sorted_words)  # Output: ['grapes', 'apple', 'mango', 'banana']\n"
   ]
  },
  {
   "cell_type": "markdown",
   "metadata": {},
   "source": [
    "# 5.4.Key Points about Lambda Function:\n",
    " - They are ideal for short and simple expressions.\n",
    " - They cannot contain complex statements like *if* or *for* loops.\n",
    " - They are often used for quick, throwaway functions withing larger expressions.\n",
    " - They can be a powerful tool when used appropriately, but they might not always be the most readable option for complex logic."
   ]
  },
  {
   "cell_type": "markdown",
   "metadata": {},
   "source": [
    "# 6.Map, Reduce and Filter\n",
    "In Python, *map*, *reduce*, and *filter* are built-in functions that belong to the realm of functional programming. They provide a concise way to process sequences (like lists, tuples) and transform or extract elements based on specific criteria.\n",
    "\n",
    "### 6.1. map() Function:\n",
    " - The map function applies a given function to all elements of an iterable (like a list) and returns an iterator containing the transformed elements.\n",
    " - It takes two arguments:\n",
    "    - A function to be applied to each element. This can be a named function or a lambda function.\n",
    "    - An iterable (list, tuple, etc.) containing the elements to be processed.\n",
    "\n",
    "Example:"
   ]
  },
  {
   "cell_type": "code",
   "execution_count": 17,
   "metadata": {},
   "outputs": [
    {
     "name": "stdout",
     "output_type": "stream",
     "text": [
      "[1, 4, 9, 16, 25]\n"
     ]
    }
   ],
   "source": [
    "numbers = [1, 2, 3, 4, 5]\n",
    "\n",
    "# Squaring each number using map() and a lambda function\n",
    "squared_numbers = map(lambda x: x * x, numbers)\n",
    "\n",
    "# map() returns an iterator, convert it to a list for printing\n",
    "print(list(squared_numbers))  # Output: [1, 4, 9, 16, 25]\n"
   ]
  },
  {
   "cell_type": "markdown",
   "metadata": {},
   "source": [
    "### 6.2.filter() Function:\n",
    "- The filter function creates a new iterator containing elements from an iterable that pass a test condition.\n",
    "- It takes two arguments:\n",
    "    - A function (can be named or lambda) that takes an element and returns True for elements to be kept, False to discard.\n",
    "    - An iterable containing the elements to be filtered.\n",
    "\n",
    "Example:"
   ]
  },
  {
   "cell_type": "code",
   "execution_count": 18,
   "metadata": {},
   "outputs": [
    {
     "name": "stdout",
     "output_type": "stream",
     "text": [
      "[2, 4, 6]\n"
     ]
    }
   ],
   "source": [
    "numbers = [1, 2, 3, 4, 5, 6]\n",
    "\n",
    "# Filtering even numbers using filter() and a lambda function\n",
    "even_numbers = filter(lambda x: x % 2 == 0, numbers)\n",
    "\n",
    "# filter() also returns an iterator, convert it to a list for printing\n",
    "print(list(even_numbers))  # Output: [2, 4, 6]\n"
   ]
  },
  {
   "cell_type": "markdown",
   "metadata": {},
   "source": [
    "# 6.3.reduce() Function (Important Note):\n",
    "\n",
    "- The reduce function is less commonly used in modern Python due to potential readability concerns and the availability of other functional constructs. It's generally recommended to consider alternative approaches using for loops or other built-in functions whenever possible.\n",
    "- That being said, here's a brief explanation:\n",
    "    - reduce applies a function cumulatively to all elements of an iterable, reducing it to a single value.\n",
    "    - It takes three arguments:\n",
    "        - A function that takes two arguments and returns a single value. This function is applied repeatedly to successive pairs of elements in the iterable.\n",
    "        - An iterable containing the elements to be processed.\n",
    "        -An optional initial value (default is None). This value is used as the starting point for the reduction process.\n",
    "\n",
    "Example (Using reduce) :       "
   ]
  },
  {
   "cell_type": "code",
   "execution_count": 19,
   "metadata": {},
   "outputs": [
    {
     "name": "stdout",
     "output_type": "stream",
     "text": [
      "24\n"
     ]
    }
   ],
   "source": [
    "from functools import reduce  # Necessary to import reduce\n",
    "\n",
    "numbers = [1, 2, 3, 4]\n",
    "\n",
    "# Finding the product of all elements using reduce\n",
    "product = reduce(lambda x, y: x * y, numbers)\n",
    "\n",
    "print(product)  # Output: 24\n"
   ]
  },
  {
   "cell_type": "markdown",
   "metadata": {},
   "source": [
    "Alternative approach using a loop (often preffered):"
   ]
  },
  {
   "cell_type": "code",
   "execution_count": 20,
   "metadata": {},
   "outputs": [
    {
     "name": "stdout",
     "output_type": "stream",
     "text": [
      "24\n"
     ]
    }
   ],
   "source": [
    "product = 1\n",
    "for num in numbers:\n",
    "  product *= num\n",
    "\n",
    "print(product)  # Output: 24 (same result)\n"
   ]
  },
  {
   "cell_type": "markdown",
   "metadata": {},
   "source": [
    "Remember: While *reduce* can be a powerful tool, it can sometimes lead to less readable code. Consider alternative approaches using *for* loops or other built-in functions for improved clarity, especially for beginners.\n",
    "\n"
   ]
  },
  {
   "cell_type": "markdown",
   "metadata": {},
   "source": [
    "# 7.Local and Global Variable\n",
    "In Python, variables are defined with a specific scope, which determines their accessibility within your code. Here's a breakdown of local and global variables, along with variable scope:"
   ]
  },
  {
   "cell_type": "markdown",
   "metadata": {},
   "source": [
    "### 7.1.Local Variables:\n",
    "- Local variables are created within a function definition (using the *def* keyword).\n",
    "- They are only accessible within that function and its nested functions (if any).\n",
    "- When the function finishes execution, local variables are destroyed."
   ]
  },
  {
   "cell_type": "markdown",
   "metadata": {},
   "source": [
    "### 7.2.Global Variables:\n",
    "- Global variables are declared outside of any function definition, typically at the beginning of your script or within a module.\n",
    "- They are accessible throughout your entire program, by any function.\n",
    "### 7.3.Variable Scope:\n",
    "Variable scope defines the areas of your code where a variable can be accessed and modified. Python follows the LEGB (Local, - Enclosed, Global, Built-in) rule for scoping:\n",
    "- **Local (L)**: Variables defined within a function (including parameters).\n",
    "- **Enclosed (E)**: Variables defined in enclosing functions (nested functions).\n",
    "- **Global (G)**: Variables declared outside all functions in the current module.\n",
    "- **Built-in (B)**: Built-in functions and variables defined within Python itself.\n",
    "\n",
    "Example:\n"
   ]
  },
  {
   "cell_type": "code",
   "execution_count": 21,
   "metadata": {},
   "outputs": [
    {
     "name": "stdout",
     "output_type": "stream",
     "text": [
      "Outside function: 10\n",
      "Inside function: 10 20\n",
      "Inside inner function: 10 20 30\n"
     ]
    }
   ],
   "source": [
    "x = 10  # Global variable\n",
    "\n",
    "def my_function():\n",
    "  y = 20  # Local variable\n",
    "  print(\"Inside function:\", x, y)  # Accessing both global and local variables\n",
    "\n",
    "  def inner_function():\n",
    "    z = 30  # Local variable within inner_function\n",
    "    print(\"Inside inner function:\", x, y, z)  # Accessing global, local (outer), and local (inner) variables\n",
    "\n",
    "  inner_function()  # Calling inner_function\n",
    "\n",
    "print(\"Outside function:\", x)  # Accessing only the global variable\n",
    "\n",
    "my_function()\n"
   ]
  },
  {
   "cell_type": "markdown",
   "metadata": {},
   "source": [
    "Explanation:\n",
    "- *x* is a global variable, accessible throughout the script.\n",
    "- *y* is a local variable within *my_function*, only accessible inside that function.\n",
    "- *z* is a local variable within *inner_function*, only accessible inside that function.\n",
    "\n",
    "### 7.4.Key Points\n",
    "- It's generally recommended to use local variables whenever possible to avoid unintended modifications of global variables and improve code readability.\n",
    "- If a variable needs to be shared across multiple functions, consider passing it as an argument or using a different approach like object-oriented programming concepts."
   ]
  },
  {
   "cell_type": "markdown",
   "metadata": {},
   "source": [
    "# 8.Return \n",
    "The *return* statement is a fundamental part of functions in Python. It serves two main purposes:\n",
    "\n",
    "- **Exiting a Function:** The primary use of *return* is to terminate a function's execution and optionally send a value or object back to the caller. Once the *return* statement is executed, the function stops running, and control flows back to the line where the function was called.\n",
    "\n",
    "- **Returning Values:** The *return** statement can optionally be followed by an expression. This expression is evaluated, and the resulting value becomes the output of the function call. This allows functions to provide data or results to the code that uses them.\n",
    "\n",
    "Here's a breakdown of using the *return* statement with examples:\n",
    "\n",
    "Returning a Single Value:"
   ]
  },
  {
   "cell_type": "code",
   "execution_count": 22,
   "metadata": {},
   "outputs": [
    {
     "name": "stdout",
     "output_type": "stream",
     "text": [
      "25\n"
     ]
    }
   ],
   "source": [
    "def square(x):\n",
    "  \"\"\"This function squares a number.\"\"\"\n",
    "  return x * x\n",
    "\n",
    "result = square(5)\n",
    "print(result)  # Output: 25\n"
   ]
  },
  {
   "cell_type": "markdown",
   "metadata": {},
   "source": [
    "In this example:\n",
    "\n",
    "- The square function takes a number x as input.\n",
    "- It calculates the square of x by multiplying it by itself (x * x).\n",
    "- The return statement sends the calculated value (x * x) back to the caller.\n",
    "- The function call square(5) assigns the returned value (25) to the variable result.\n",
    "\n",
    "### Returning Multiple Values (Using Tuples):\n",
    "\n",
    "In Python, you can return multiple values from a function by packing them into a tuple using *parentheses ()*. The caller can then unpack the returned tuple into separate variables."
   ]
  },
  {
   "cell_type": "code",
   "execution_count": 24,
   "metadata": {},
   "outputs": [
    {
     "name": "stdout",
     "output_type": "stream",
     "text": [
      "J 30\n"
     ]
    }
   ],
   "source": [
    "def get_name_and_age():\n",
    "  \"\"\"This function returns a person's name and age.\"\"\"\n",
    "  name = \"J\"\n",
    "  age = 30\n",
    "  return name, age  # Packing values into a tuple\n",
    "\n",
    "person_info = get_name_and_age()\n",
    "name, age = person_info  # Unpacking the returned tuple\n",
    "\n",
    "print(name, age)  # Output: J 30\n"
   ]
  },
  {
   "cell_type": "markdown",
   "metadata": {},
   "source": [
    "Here:\n",
    "\n",
    "- The get_name_and_age function defines two variables, name and age.\n",
    "- The return statement packs these variables into a tuple and sends them back.\n",
    "- The function call get_name_and_age() stores the returned tuple in person_info.\n",
    "- We unpack the tuple using assignment with multiple variables (name, age).\n",
    "\n",
    "### Important Notes:\n",
    "\n",
    "- A function can only have one return statement. If you need to perform different actions based on conditions, you can use if statements or loops within the function before the return statement.\n",
    "- If no return statement is present at the end of a function, the function implicitly returns None."
   ]
  },
  {
   "cell_type": "markdown",
   "metadata": {},
   "source": [
    "# 9.Summing Up\n",
    "Following is an example of all the concepts that we had learned above:\n",
    "\n",
    "### 9.1.Scenario:\n",
    "We want to analyze a list of student names and their grades in a Python class. The function will calculate average grades and identify students who need improvement (below a certain threshold).\n"
   ]
  },
  {
   "cell_type": "code",
   "execution_count": 26,
   "metadata": {},
   "outputs": [
    {
     "name": "stdout",
     "output_type": "stream",
     "text": [
      "Average Grade: 77.5\n",
      "Failing Students: ['Ishu']\n"
     ]
    }
   ],
   "source": [
    "# Global variable (minimum passing grade)\n",
    "MIN_GRADE = 70\n",
    "\n",
    "def analyze_grades(names, grades):\n",
    "  \"\"\"This function analyzes student grades and returns average and failing students.\"\"\"\n",
    "\n",
    "  # Local variables\n",
    "  total_grade = 0\n",
    "  failing_students = []\n",
    "\n",
    "  # Using zip to combine names and grades (works like map in this case)\n",
    "  for name, grade in zip(names, grades):\n",
    "    total_grade += grade\n",
    "\n",
    "    # Local function to check if a student is failing (using lambda for brevity)\n",
    "    is_failing = lambda g: g < MIN_GRADE\n",
    "\n",
    "    if is_failing(grade):\n",
    "      failing_students.append(name)\n",
    "\n",
    "  # Calculate average grade\n",
    "  average = total_grade / len(grades)\n",
    "\n",
    "  # Returning multiple values as a tuple\n",
    "  return average, failing_students\n",
    "\n",
    "# Sample student data (can be replaced with actual data retrieval)\n",
    "student_names = [\"J\", \"Ishu\", \"Lakshay\", \"Avi\"]\n",
    "student_grades = [85, 60, 90, 75]\n",
    "\n",
    "# Function call (no modification of global variable here)\n",
    "average_grade, failing_list = analyze_grades(student_names, student_grades)\n",
    "\n",
    "print(\"Average Grade:\", average_grade)\n",
    "print(\"Failing Students:\", failing_list)\n"
   ]
  },
  {
   "cell_type": "markdown",
   "metadata": {},
   "source": [
    "### 9.2.Explanation\n",
    "- The *analyze_grades* function takes two arguments: *names* (list) and *grades* (list).\n",
    "- It uses *zip* to iterate through corresponding elements in both lists simultaneously (similar to how *map* would work here).\n",
    "- A local function *is_failing* (using a lambda for conciseness) checks if a student's grade is below the *MIN_GRADE* (global variable).\n",
    "The function builds a list of failing students (*failing_students*).\n",
    "It calculates the average grade.\n",
    "Finally, the function returns a tuple containing the average grade (*average*) and the list of failing students (*failing_list*).\n",
    "\n",
    "### 9.3.Key Concepts Demonstrated:\n",
    "- Function definition with parameters (positional in this case).\n",
    "- Using zip for iterating through corresponding elements in lists.\n",
    "- Local function definition (lambda function for brevity).\n",
    "- Accessing a global variable (*MIN_GRADE*) within the function.\n",
    "- Returning multiple values using a tuple.\n"
   ]
  },
  {
   "cell_type": "markdown",
   "metadata": {},
   "source": [
    "# 10.Practice Exercises: Functions in Python\n",
    "These exercises will help you solidify your understanding of functions in Python. Try to solve them yourself first, then refer to the hints or solutions provided.\n",
    "\n",
    "### 10.1. Area Calculator:\n",
    "\n",
    "- Create a function *Calculate_area(shape, dimensions)* that takes the shape (e.g., \"rectangle\", \"circle\") and its dimensions as arguments.\n",
    "- The function should calculate the area based on the shape and return the result.\n",
    "- Implement logic for handling different shapes (rectangle, circle) and their corresponding dimensions (length, width for rectangle; radius for circle).\n",
    "\n",
    "**Hint:** Use *if* statements or a dictionary to handle different shapes.\n"
   ]
  },
  {
   "cell_type": "code",
   "execution_count": 27,
   "metadata": {},
   "outputs": [],
   "source": [
    "#Start your code from here."
   ]
  },
  {
   "cell_type": "markdown",
   "metadata": {},
   "source": [
    "### 10.2. String Manipulation:\n",
    "\n",
    "- Create a function *reverse_words(text)* that takes a string as input.\n",
    "- The function should reverse the order of words in the string while maintaining the order of characters within each word.\n",
    "-Return the modified string.\n",
    "\n",
    "**Hint:** Use string methods like *split* and *join* to manipulate the words."
   ]
  },
  {
   "cell_type": "code",
   "execution_count": 29,
   "metadata": {},
   "outputs": [],
   "source": [
    "#Start your code from here."
   ]
  },
  {
   "cell_type": "markdown",
   "metadata": {},
   "source": [
    "### 10.3. List Statistics:\n",
    "\n",
    "- Create a function *analyze_list(numbers)* that takes a list of numbers as input.\n",
    "- The function should calculate and return the following in a dictionary:\n",
    "    - Minimum value in the list\n",
    "    - Maximum value in the list\n",
    "    - Average value in the list (use *sum* and division)\n",
    "- Use a dictionary to store and return the calculated statistics.\n",
    "\n",
    "**Hint:** Utilize built-in functions like *min*, *max*, and *sum* for calculations."
   ]
  },
  {
   "cell_type": "code",
   "execution_count": 30,
   "metadata": {},
   "outputs": [],
   "source": [
    "#Start your code from here."
   ]
  },
  {
   "cell_type": "markdown",
   "metadata": {},
   "source": [
    "### 10.4. Filtering with Lambda:\n",
    "\n",
    "- Create a list of product names (strings).\n",
    "- Define a function *filter_short_names(names, max_length)* that takes the list of names and a maximum length as arguments.\n",
    "- Use *filter* with a lambda function to return a new list containing only names shorter than the provided *max_length*.\n",
    "\n",
    "**Hint:** The lambda function should check the length of each name and return *True* if it's less than *max_length*.\n"
   ]
  },
  {
   "cell_type": "code",
   "execution_count": 31,
   "metadata": {},
   "outputs": [],
   "source": [
    "#Start your code from here."
   ]
  },
  {
   "cell_type": "markdown",
   "metadata": {},
   "source": [
    "### 10.5. Text Analyzer (Bonus Challenge):\n",
    "\n",
    "- Create a function *analyze_text(text)* that takes a block of text as input.\n",
    "- The function should:\n",
    "    - Count the number of words in the text (split by whitespace).\n",
    "    - Count the number of characters (excluding whitespaces).\n",
    "    - Find the most frequent word (you can assume case-insensitive matching for simplicity).\n",
    "- Return a dictionary containing these counts and the most frequent word.\n",
    "\n",
    "**Hint:** This might involve using loops, string methods, and potentially keeping track of word occurrences in a dictionary."
   ]
  },
  {
   "cell_type": "code",
   "execution_count": 32,
   "metadata": {},
   "outputs": [],
   "source": [
    "#Start your code from here."
   ]
  },
  {
   "cell_type": "markdown",
   "metadata": {},
   "source": [
    "# 11.Summary\n",
    "This session explored the concept of functions in Python, a fundamental building block for structured and reusable code. Here's a recap of the key points covered:"
   ]
  },
  {
   "cell_type": "markdown",
   "metadata": {},
   "source": [
    "- **Function Definition:** We learned how to define functions using the *def* keyword, arguments (parameters), and the function body with indented statements. Functions can optionally return a value using the *return* statement."
   ]
  },
  {
   "cell_type": "markdown",
   "metadata": {},
   "source": [
    "- **Parameter Types:** We explored different parameter types, including positional arguments, keyword arguments, default arguments, variable length arguments, keyword variable length arguments, and keyword-only arguments. These provide flexibility in how you pass data to functions."
   ]
  },
  {
   "cell_type": "markdown",
   "metadata": {},
   "source": [
    "- **Higher-Order Functions:** We discussed how functions can be treated as first-class objects in Python. This allows you to pass functions as arguments to other functions, making your code more modular."
   ]
  },
  {
   "cell_type": "markdown",
   "metadata": {},
   "source": [
    "- **Lambda Functions:** We saw how lambda functions offer a concise way to define anonymous functions for short, single-expression operations."
   ]
  },
  {
   "cell_type": "markdown",
   "metadata": {},
   "source": [
    "- ***map*, *reduce*, and *filter*:** These built-in functions provide powerful tools for processing sequences like lists. *map* applies a function to all elements, *filter* selects elements based on a condition, and *reduce* applies a function cumulatively (use with caution due to potential readability concerns)."
   ]
  },
  {
   "cell_type": "markdown",
   "metadata": {},
   "source": [
    "- **Variable Scope:** We differentiated between local variables (accessible within a function) and global variables (accessible throughout the program). Understanding scope is crucial for avoiding unintended variable modifications."
   ]
  },
  {
   "cell_type": "markdown",
   "metadata": {},
   "source": [
    "- ***return* Statement:** We covered the purpose of the *return* statement for exiting a function and optionally sending a value or object back to the caller."
   ]
  }
 ],
 "metadata": {
  "kernelspec": {
   "display_name": "Python 3",
   "language": "python",
   "name": "python3"
  },
  "language_info": {
   "codemirror_mode": {
    "name": "ipython",
    "version": 3
   },
   "file_extension": ".py",
   "mimetype": "text/x-python",
   "name": "python",
   "nbconvert_exporter": "python",
   "pygments_lexer": "ipython3",
   "version": "3.12.3"
  }
 },
 "nbformat": 4,
 "nbformat_minor": 2
}
